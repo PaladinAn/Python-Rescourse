{
 "cells": [
  {
   "cell_type": "code",
   "execution_count": null,
   "id": "7115f7f7-7ae5-4736-812f-c7364e26b5bd",
   "metadata": {},
   "outputs": [],
   "source": [
    "%matplotlib inline\n",
    "from sklearn import datasets\n",
    "import numpy as np\n",
    "import pandas as pd\n",
    "import seaborn as sns\n",
    "import io\n",
    "import matplotlib.pyplot as plt"
   ]
  },
  {
   "cell_type": "markdown",
   "id": "f6ea1de0-6765-42d9-a53c-b3c73ff61936",
   "metadata": {},
   "source": [
    "簡單線性回歸"
   ]
  },
  {
   "cell_type": "code",
   "execution_count": 2,
   "id": "d980326f-fa9e-4105-9760-30098fd8291a",
   "metadata": {},
   "outputs": [],
   "source": [
    "# imports\n",
    "import numpy as np\n",
    "import matplotlib.pyplot as plt"
   ]
  },
  {
   "cell_type": "code",
   "execution_count": null,
   "id": "a33ef086-281e-450d-a62d-b5ff47419597",
   "metadata": {},
   "outputs": [],
   "source": [
    "# 亂數產生資料\n",
    "np.random.seed(0)\n",
    "noise = np.random.rand(100, 1)\n",
    "x = np.random.rand(100, 1)\n",
    "y = 3 * x + 15 + noise\n",
    "# y=ax+b Target function  a=3, b=15"
   ]
  },
  {
   "cell_type": "code",
   "execution_count": null,
   "id": "dd1b4296-56dd-4c19-8ea7-df593c7e02cd",
   "metadata": {},
   "outputs": [],
   "source": [
    "# plot\n",
    "plt.scatter(x,y,s=10)\n",
    "plt.xlabel('x')\n",
    "plt.ylabel('y')\n",
    "plt.show()"
   ]
  },
  {
   "cell_type": "markdown",
   "id": "81817a0a-6fe3-4747-aac6-472dc32eac50",
   "metadata": {},
   "source": [
    "# KNN Regression\n",
    "- 回歸連續性的數值預測。其預測值為k個最近鄰居的值的平均值"
   ]
  },
  {
   "cell_type": "code",
   "execution_count": 6,
   "id": "0e6624df-2d04-49c0-be08-834ac6343910",
   "metadata": {},
   "outputs": [],
   "source": [
    "from sklearn.neighbors import KNeighborsRegressor"
   ]
  },
  {
   "cell_type": "code",
   "execution_count": null,
   "id": "b046faf2-de62-4bbf-a857-044be2588f34",
   "metadata": {},
   "outputs": [],
   "source": [
    "# 建立KNN模型\n",
    "knnR = KNeighborsRegressor(n_neighbors=3)\n",
    "# 使用訓練資料訓練模型\n",
    "knnR.fit(x,y)\n",
    "# 使用訓練資料預測\n",
    "predicted= knnR.predict(x)"
   ]
  },
  {
   "cell_type": "markdown",
   "id": "c56919f8-dc5b-430e-9484-fa9e268c1333",
   "metadata": {},
   "source": [
    "模型評估  .score\n",
    "- from sklearn import metrics\n",
    "- R2 MSE MAE RMSE"
   ]
  },
  {
   "cell_type": "code",
   "execution_count": null,
   "id": "a6dc5f97-2e89-416c-8f12-899260d270b9",
   "metadata": {},
   "outputs": [],
   "source": [
    "print('R2 score: ', knnModel.score(x, y))\n",
    "mse = metrics.mean_squared_error(y, predicted)\n",
    "print('MSE score: ', mse)"
   ]
  },
  {
   "cell_type": "code",
   "execution_count": null,
   "id": "7d88e3d0-2a3d-444e-833d-212eed3cd358",
   "metadata": {},
   "outputs": [],
   "source": [
    "# plot\n",
    "plt.scatter(x, y, s=10, label='True')\n",
    "plt.scatter(x, predicted, color=\"r\",s=10, label='Predicted')\n",
    "plt.xlabel('x')\n",
    "plt.ylabel('y')\n",
    "plt.legend()\n",
    "plt.show()"
   ]
  },
  {
   "cell_type": "markdown",
   "id": "e14e1cfe-a60c-4709-91e7-f95eff264582",
   "metadata": {},
   "source": [
    "# Example 2 非線性回歸情況"
   ]
  },
  {
   "cell_type": "code",
   "execution_count": 3,
   "id": "b02d5a86-00ab-4cfd-86b7-c522c17108b7",
   "metadata": {},
   "outputs": [],
   "source": [
    "# 假設情況\n",
    "\n",
    "x = np.array([[1.40280301e-01],[9.03857692e-01],[5.35815131e-01],[3.58391981e-01],[2.43418162e-02],[2.43342904e-02],[3.37370600e-03],[7.50261116e-01],[3.61339257e-01],[5.01366775e-01],[4.23721405e-04],[9.40725121e-01],[6.92960750e-01],[4.50878979e-02],[3.30603187e-02],[3.36372142e-02],[9.25633424e-02],[2.75369313e-01],[1.86576499e-01],[8.48144121e-02],[3.74363965e-01],[1.94585372e-02],[8.53484957e-02],[1.34221000e-01],[2.07999831e-01],[6.16501290e-01],[3.98696193e-02],[2.64437058e-01],[3.50955021e-01],[2.15764084e-03],[3.69110747e-01],[2.90784768e-02],[4.23170975e-03],[9.00383763e-01],[9.32445223e-01],[6.53506272e-01],[9.27895484e-02],[9.53984185e-03],[4.68174835e-01],[1.93734218e-01]])\n",
    "y = np.array([ 5.82469676e+00,  7.94613194e+00,  9.24976070e+00,  6.59761731e+00,\n",
    "        2.16651685e+00, -2.50365745e-03, -1.00182588e+00,  9.02075194e+00,\n",
    "        8.57086436e+00,  8.50848958e+00, -7.34549241e-02,  8.73802779e+00,\n",
    "        7.26038154e+00,  2.38778217e+00,  2.02397265e+00,  3.57417666e+00,\n",
    "        5.15052189e+00,  5.57291682e+00,  6.83461431e+00,  4.20408429e+00,\n",
    "        7.21499207e+00,  2.24057093e+00,  5.63575746e+00,  6.66180813e+00,\n",
    "        5.91402744e+00,  8.29511673e+00,  3.18174801e+00,  8.23158707e+00,\n",
    "        7.30330971e+00,  2.55480191e-02,  6.76197223e+00,  1.05656839e+00,\n",
    "        1.21851645e+00,  1.03566236e+01,  8.95941549e+00,  9.67640393e+00,\n",
    "        5.17463285e+00,  2.25781800e-01,  8.60137397e+00,  8.13359834e+00])"
   ]
  },
  {
   "cell_type": "code",
   "execution_count": 7,
   "id": "a988055c-3736-4a91-83aa-361f8353518d",
   "metadata": {},
   "outputs": [
    {
     "data": {
      "text/plain": [
       "<matplotlib.legend.Legend at 0x2167678ef10>"
      ]
     },
     "execution_count": 7,
     "metadata": {},
     "output_type": "execute_result"
    },
    {
     "data": {
      "image/png": "[encoded data removed]",
      "text/plain": [
       "<Figure size 432x288 with 1 Axes>"
      ]
     },
     "metadata": {
      "needs_background": "light"
     },
     "output_type": "display_data"
    }
   ],
   "source": [
    "#測試資料集\n",
    "x_test = np.linspace(-0.1,1.1,500)[:,None]\n",
    "plt.scatter(x.ravel(),y,color='black')\n",
    "#1,3,9的不同的K\n",
    "for k in [1,3,9]:\n",
    "    y_test = knnR = KNeighborsRegressor(n_neighbors=k).fit(x,y).predict(x_test)\n",
    "    plt.plot(x_test.ravel(),y_test,label='n_neighbors={}'.format(k))\n",
    "plt.xlim(-0.1,1.0)\n",
    "plt.ylim(-2,12)\n",
    "plt.legend(loc='lower right')"
   ]
  },
  {
   "cell_type": "code",
   "execution_count": null,
   "id": "0fdc0e2b-d7bc-4c19-91df-e8a8061d112d",
   "metadata": {},
   "outputs": [],
   "source": []
  }
 ],
 "metadata": {
  "kernelspec": {
   "display_name": "Python 3 (ipykernel)",
   "language": "python",
   "name": "python3"
  },
  "language_info": {
   "codemirror_mode": {
    "name": "ipython",
    "version": 3
   },
   "file_extension": ".py",
   "mimetype": "text/x-python",
   "name": "python",
   "nbconvert_exporter": "python",
   "pygments_lexer": "ipython3",
   "version": "3.8.11"
  }
 },
 "nbformat": 4,
 "nbformat_minor": 5
}
