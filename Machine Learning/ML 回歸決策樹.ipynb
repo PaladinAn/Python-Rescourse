{
 "cells": [
  {
   "cell_type": "markdown",
   "id": "0e9b12e9-6c47-4b5e-86a5-68f77c4c57e5",
   "metadata": {},
   "source": [
    "簡單線性回歸"
   ]
  },
  {
   "cell_type": "code",
   "execution_count": null,
   "id": "5b5f983e-0915-4c58-a73d-c8772cbe3782",
   "metadata": {},
   "outputs": [],
   "source": [
    "# imports\n",
    "import numpy as np\n",
    "import matplotlib.pyplot as plt"
   ]
  },
  {
   "cell_type": "code",
   "execution_count": null,
   "id": "086163a6-7ecb-4703-af03-16805734f1c1",
   "metadata": {},
   "outputs": [],
   "source": [
    "# 亂數產生資料\n",
    "np.random.seed(0)\n",
    "noise = np.random.rand(100, 1)\n",
    "x = np.random.rand(100, 1)\n",
    "y = 3 * x + 15 + noise\n",
    "# y=ax+b Target function  a=3, b=15"
   ]
  },
  {
   "cell_type": "code",
   "execution_count": null,
   "id": "5e9fccbd-dc57-44fd-92d4-44b1677a46eb",
   "metadata": {},
   "outputs": [],
   "source": [
    "# plot\n",
    "plt.scatter(x,y,s=10)\n",
    "plt.xlabel('x')\n",
    "plt.ylabel('y')\n",
    "plt.show()"
   ]
  },
  {
   "cell_type": "markdown",
   "id": "1d7c6fbc-848f-41d3-9a4b-cf677fe5380f",
   "metadata": {},
   "source": [
    "# Tree Regression"
   ]
  },
  {
   "cell_type": "code",
   "execution_count": null,
   "id": "88327b1e-349f-426e-8501-93fcb018ef2e",
   "metadata": {},
   "outputs": [],
   "source": [
    "from sklearn.tree import DecisionTreeRegressor"
   ]
  },
  {
   "cell_type": "code",
   "execution_count": null,
   "id": "e8cab696-229b-4a74-a2df-f73c19366108",
   "metadata": {},
   "outputs": [],
   "source": [
    "# 建立DecisionTreeRegressor模型\n",
    "TreeR = DecisionTreeRegressor(criterion = 'mse', max_depth=2, splitter='best', random_state=42)\n",
    "# 使用訓練資料訓練模型\n",
    "TreeR.fit(x, y)\n",
    "# 使用訓練資料預測\n",
    "predicted = TreeR.predict(x)"
   ]
  },
  {
   "cell_type": "markdown",
   "id": "f43de42b-edb3-4704-aa73-7a661f41fc42",
   "metadata": {},
   "source": [
    "模型評估  .score\n",
    "- from sklearn import metrics\n",
    "- R2 MSE MAE RMSE"
   ]
  },
  {
   "cell_type": "code",
   "execution_count": null,
   "id": "e517ce43-b8a6-4eb3-bc41-92314f38dff9",
   "metadata": {},
   "outputs": [],
   "source": [
    "print('R2 score: ', knnModel.score(x, y))\n",
    "mse = metrics.mean_squared_error(y, predicted)\n",
    "print('MSE score: ', mse)"
   ]
  },
  {
   "cell_type": "code",
   "execution_count": null,
   "id": "e02f2f1a-025f-4e1d-a18f-529b56f8f23f",
   "metadata": {},
   "outputs": [],
   "source": [
    "# plot\n",
    "plt.scatter(x, y, s=10, label='True')\n",
    "plt.scatter(x, predicted, color=\"r\",s=10, label='Predicted')\n",
    "plt.xlabel('x')\n",
    "plt.ylabel('y')\n",
    "plt.legend()\n",
    "plt.show()"
   ]
  },
  {
   "cell_type": "markdown",
   "id": "f0bc74e8-0b04-47fe-89de-3c0514dca539",
   "metadata": {},
   "source": [
    "# 把樹印出來\n",
    "- graphviz"
   ]
  },
  {
   "cell_type": "code",
   "execution_count": null,
   "id": "6720d857-7fb5-4f4a-bcfe-50b29cc25722",
   "metadata": {},
   "outputs": [],
   "source": [
    "import graphviz\n",
    "from sklearn.tree import export_graphviz"
   ]
  },
  {
   "cell_type": "code",
   "execution_count": null,
   "id": "de16641e-8f85-4923-a4da-664a51796859",
   "metadata": {},
   "outputs": [],
   "source": [
    "dot_data = export_graphviz(TreeR, out_file=None, \n",
    "                         feature_names=['x'],\n",
    "                         filled=True, rounded=True,  \n",
    "                         special_characters=True)  \n",
    "graph = graphviz.Source(dot_data) \n",
    "graph"
   ]
  },
  {
   "cell_type": "markdown",
   "id": "8168ee36-710f-46af-929b-3113890ea84b",
   "metadata": {},
   "source": [
    "# Example 2 非線性回歸情況"
   ]
  },
  {
   "cell_type": "code",
   "execution_count": null,
   "id": "70c1064d-76c7-43bc-9be2-4fa8238a7e17",
   "metadata": {},
   "outputs": [],
   "source": [
    "# 假設情況\n",
    "\n",
    "x = np.array([[1.40280301e-01],[9.03857692e-01],[5.35815131e-01],[3.58391981e-01],[2.43418162e-02],[2.43342904e-02],[3.37370600e-03],[7.50261116e-01],[3.61339257e-01],[5.01366775e-01],[4.23721405e-04],[9.40725121e-01],[6.92960750e-01],[4.50878979e-02],[3.30603187e-02],[3.36372142e-02],[9.25633424e-02],[2.75369313e-01],[1.86576499e-01],[8.48144121e-02],[3.74363965e-01],[1.94585372e-02],[8.53484957e-02],[1.34221000e-01],[2.07999831e-01],[6.16501290e-01],[3.98696193e-02],[2.64437058e-01],[3.50955021e-01],[2.15764084e-03],[3.69110747e-01],[2.90784768e-02],[4.23170975e-03],[9.00383763e-01],[9.32445223e-01],[6.53506272e-01],[9.27895484e-02],[9.53984185e-03],[4.68174835e-01],[1.93734218e-01]])\n",
    "y = np.array([ 5.82469676e+00,  7.94613194e+00,  9.24976070e+00,  6.59761731e+00,\n",
    "        2.16651685e+00, -2.50365745e-03, -1.00182588e+00,  9.02075194e+00,\n",
    "        8.57086436e+00,  8.50848958e+00, -7.34549241e-02,  8.73802779e+00,\n",
    "        7.26038154e+00,  2.38778217e+00,  2.02397265e+00,  3.57417666e+00,\n",
    "        5.15052189e+00,  5.57291682e+00,  6.83461431e+00,  4.20408429e+00,\n",
    "        7.21499207e+00,  2.24057093e+00,  5.63575746e+00,  6.66180813e+00,\n",
    "        5.91402744e+00,  8.29511673e+00,  3.18174801e+00,  8.23158707e+00,\n",
    "        7.30330971e+00,  2.55480191e-02,  6.76197223e+00,  1.05656839e+00,\n",
    "        1.21851645e+00,  1.03566236e+01,  8.95941549e+00,  9.67640393e+00,\n",
    "        5.17463285e+00,  2.25781800e-01,  8.60137397e+00,  8.13359834e+00])"
   ]
  },
  {
   "cell_type": "code",
   "execution_count": null,
   "id": "74e768d2-e257-4edc-8f54-8de8ab768647",
   "metadata": {},
   "outputs": [],
   "source": [
    "decisionTreeModel = DecisionTreeRegressor(criterion = 'mse', max_depth=10, random_state=42)\n",
    "decisionTreeModel.fit(x, y)\n",
    "\n",
    "x_test = np.linspace(-0.1,1.1,500)[:,None]\n",
    "predicted=decisionTreeModel.predict(x_test)\n",
    "plt.scatter(x.ravel(),y)\n",
    "plt.plot(x_test,predicted,label='max_depth=6', color='r')\n",
    "plt.legend(loc='best')"
   ]
  },
  {
   "cell_type": "code",
   "execution_count": null,
   "id": "fdb85a52-72da-4f63-b29c-188ee655fcda",
   "metadata": {},
   "outputs": [],
   "source": [
    "decisionTreeModel = DecisionTreeRegressor(criterion = 'mse', max_depth=6, random_state=42)\n",
    "decisionTreeModel.fit(x, y)\n",
    "\n",
    "predicted=decisionTreeModel.predict(x)\n",
    "plt.scatter(x.ravel(),y, label='True')\n",
    "plt.scatter(x.ravel(), predicted, color=\"r\", label='Predicted', s=15)\n",
    "plt.legend(loc='best')"
   ]
  }
 ],
 "metadata": {
  "kernelspec": {
   "display_name": "Python 3 (ipykernel)",
   "language": "python",
   "name": "python3"
  },
  "language_info": {
   "codemirror_mode": {
    "name": "ipython",
    "version": 3
   },
   "file_extension": ".py",
   "mimetype": "text/x-python",
   "name": "python",
   "nbconvert_exporter": "python",
   "pygments_lexer": "ipython3",
   "version": "3.8.11"
  }
 },
 "nbformat": 4,
 "nbformat_minor": 5
}
