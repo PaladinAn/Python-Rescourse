{
 "cells": [
  {
   "cell_type": "code",
   "execution_count": 1,
   "id": "464b225f-e23a-458b-88de-0d069dd4f024",
   "metadata": {},
   "outputs": [],
   "source": [
    "%matplotlib inline\n",
    "from sklearn import datasets\n",
    "import numpy as np\n",
    "import pandas as pd\n",
    "import seaborn as sns\n",
    "import io\n",
    "import matplotlib.pyplot as plt\n",
    "\n",
    "from sklearn.cluster import KMeans"
   ]
  },
  {
   "cell_type": "code",
   "execution_count": 2,
   "id": "526abd3d-db5a-4496-90b9-8c0c6c4ec581",
   "metadata": {},
   "outputs": [],
   "source": [
    "# 讀取資料集\n",
    "iris = datasets.load_iris()\n",
    "df_data = pd.read_csv('iris.csv')"
   ]
  },
  {
   "cell_type": "code",
   "execution_count": null,
   "id": "8b2e7651-c765-4dfc-be9e-00b7812fde3f",
   "metadata": {},
   "outputs": [],
   "source": [
    "#  查看檔案\n",
    "df_data"
   ]
  },
  {
   "cell_type": "code",
   "execution_count": 4,
   "id": "9aa36803-160f-4ff6-834d-58dd6229341e",
   "metadata": {},
   "outputs": [],
   "source": [
    "# 刪除 標籤ID 因為不參與 運算\n",
    "df_data = df_data.drop(labels=['Id'], axis=1)"
   ]
  },
  {
   "cell_type": "code",
   "execution_count": 5,
   "id": "312b60b1-d7a1-417b-829d-619ab766506f",
   "metadata": {},
   "outputs": [],
   "source": [
    "# 調整 Species 的值 改成 012 ，讓決策樹可以計算\n",
    "label_map = {'Iris-setosa': 0, 'Iris-versicolor': 1, 'Iris-virginica': 2}\n",
    "\n",
    "#將編碼後的label map存至df_data['Species']中。\n",
    "df_data['Class'] = df_data['Species'].map(label_map)"
   ]
  },
  {
   "cell_type": "code",
   "execution_count": 6,
   "id": "a946c807-90c5-46ff-9751-1a0ff5beae98",
   "metadata": {},
   "outputs": [
    {
     "name": "stdout",
     "output_type": "stream",
     "text": [
      "checked missing data(NAN mount): 0\n"
     ]
    }
   ],
   "source": [
    "# 檢查缺失值\n",
    "print(\"checked missing data(NAN mount):\",len(np.where(np.isnan(9))[0]))\n",
    "# 移除缺失值 train=train.dropna()"
   ]
  },
  {
   "cell_type": "markdown",
   "id": "00393f1a-3965-4a7f-9366-a519849354e8",
   "metadata": {},
   "source": [
    "# 3) Kmeans是非監督  不用 設定   y=標籤\n",
    "- X=資料 即可!"
   ]
  },
  {
   "cell_type": "code",
   "execution_count": 8,
   "id": "e51d3c3a-2f5d-4d94-b90f-8d44b6266b18",
   "metadata": {},
   "outputs": [],
   "source": [
    "X = df_data.drop(labels=['Class','Species'],axis=1).values"
   ]
  },
  {
   "cell_type": "markdown",
   "id": "faebe29c-7c43-44f7-a152-0b40877d669c",
   "metadata": {},
   "source": [
    "# 建立Cluster模型"
   ]
  },
  {
   "cell_type": "code",
   "execution_count": 9,
   "id": "0058f63a-c0fe-49a6-8751-8a5d6a8ec496",
   "metadata": {},
   "outputs": [],
   "source": [
    "KM = KMeans(n_clusters=3, random_state=46)\n",
    "clusters_pred = KM.fit_predict(X)  "
   ]
  },
  {
   "cell_type": "markdown",
   "id": "4fa53930-f235-42b7-88ae-d8b23a7cbf72",
   "metadata": {},
   "source": [
    "評估模型\n",
    "- .inertia_ 方法 \n",
    "- within cluster sum of squres, 各sample到各該群的centroid的距離之平方和，用來評估cluster的成效\n",
    "- 越大代表越差"
   ]
  },
  {
   "cell_type": "code",
   "execution_count": 10,
   "id": "c513fa85-f661-4ebf-b697-44e298f7ab7e",
   "metadata": {},
   "outputs": [
    {
     "data": {
      "text/plain": [
       "78.94084142614601"
      ]
     },
     "execution_count": 10,
     "metadata": {},
     "output_type": "execute_result"
    }
   ],
   "source": [
    "KM.inertia_"
   ]
  },
  {
   "cell_type": "markdown",
   "id": "84d4d706-7d20-4702-b407-ae89b1134c6c",
   "metadata": {},
   "source": [
    "- .cluster_centers_\n",
    "- 查看各cluster的中心，並在圖上畫出"
   ]
  },
  {
   "cell_type": "code",
   "execution_count": 12,
   "id": "b523900b-7db0-4bec-b186-6f39e43e8f0b",
   "metadata": {},
   "outputs": [
    {
     "data": {
      "text/plain": [
       "array([[5.9016129 , 2.7483871 , 4.39354839, 1.43387097],\n",
       "       [5.006     , 3.418     , 1.464     , 0.244     ],\n",
       "       [6.85      , 3.07368421, 5.74210526, 2.07105263]])"
      ]
     },
     "execution_count": 12,
     "metadata": {},
     "output_type": "execute_result"
    }
   ],
   "source": [
    "KM.cluster_centers_"
   ]
  },
  {
   "cell_type": "markdown",
   "id": "82ad30b0-4859-4306-8cae-ec898e207fe8",
   "metadata": {},
   "source": [
    "真實分類"
   ]
  },
  {
   "cell_type": "code",
   "execution_count": null,
   "id": "82998c26-8ae7-4985-b7e8-55a9d53b3d1b",
   "metadata": {},
   "outputs": [],
   "source": [
    "sns.lmplot(\"PetalLengthCm\", \"PetalWidthCm\", hue='Class', data=df_data, fit_reg=False)"
   ]
  },
  {
   "cell_type": "markdown",
   "id": "3600b131-c2eb-49f1-8fa9-f806ff51af4d",
   "metadata": {},
   "source": [
    "K-mean 後預測結果"
   ]
  },
  {
   "cell_type": "code",
   "execution_count": null,
   "id": "7fb982c0-2d3f-4284-8b36-e9d10c75cad4",
   "metadata": {},
   "outputs": [],
   "source": [
    "df_data['Predict']=clusters_pred\n",
    "sns.lmplot(\"PetalLengthCm\", \"PetalWidthCm\", data=df_data, hue=\"Predict\", fit_reg=False)\n",
    "plt.scatter(KM.cluster_centers_[:, 2], KM.cluster_centers_[:, 3], s=200,c=\"r\",marker='*')\n",
    "plt.show()"
   ]
  },
  {
   "cell_type": "markdown",
   "id": "fe1c5627-7922-4834-815c-013d3dc02d8b",
   "metadata": {},
   "source": [
    "# 評估 K值\n",
    "- 法一 .inertia_\n",
    "- 法二 silhouette scores"
   ]
  },
  {
   "cell_type": "markdown",
   "id": "e943237a-6636-4c65-868a-ed7659ae11f3",
   "metadata": {},
   "source": [
    "法一：一般是取elbow point, 即inertia迅速下降轉為平緩的那個點"
   ]
  },
  {
   "cell_type": "code",
   "execution_count": null,
   "id": "44684aab-a58b-4c49-96f0-1772fd63bd0c",
   "metadata": {},
   "outputs": [],
   "source": [
    "# k = 1~9 做九次kmeans, 並將每次結果的inertia收集在一個list裡\n",
    "kmeans_list = [KMeans(n_clusters=k, random_state=46).fit(X)\n",
    "                for k in range(1, 10)]\n",
    "inertias = [model.inertia_ for model in kmeans_list]"
   ]
  },
  {
   "cell_type": "code",
   "execution_count": null,
   "id": "fde5b67c-00c0-4908-964b-de123a735af0",
   "metadata": {},
   "outputs": [],
   "source": [
    "plt.figure(figsize=(8, 3.5))\n",
    "plt.plot(range(1, 10), inertias, \"bo-\")\n",
    "plt.xlabel(\"$k$\", fontsize=14)\n",
    "plt.ylabel(\"Inertia\", fontsize=14)\n",
    "plt.annotate('Elbow',\n",
    "             xy=(3, inertias[3]),\n",
    "             xytext=(0.55, 0.55),\n",
    "             textcoords='figure fraction',\n",
    "             fontsize=16,\n",
    "             arrowprops=dict(facecolor='black', shrink=0.1)\n",
    "            )\n",
    "plt.axis([1, 8.5, 0, 1300])\n",
    "\n",
    "plt.show()"
   ]
  },
  {
   "cell_type": "markdown",
   "id": "e4379654-e36d-4905-93c8-df9ebe392265",
   "metadata": {},
   "source": [
    "法二： Silhouette Coefficient 越大代表分群效果越好"
   ]
  },
  {
   "cell_type": "code",
   "execution_count": 17,
   "id": "f95ea641-caf8-444d-b8a8-32f07db23e0c",
   "metadata": {},
   "outputs": [],
   "source": [
    "from sklearn.metrics import silhouette_score\n",
    "silhouette_scores = [silhouette_score(X, model.labels_)\n",
    "                     for model in kmeans_list[1:]]"
   ]
  },
  {
   "cell_type": "code",
   "execution_count": 18,
   "id": "7b31e951-caa6-487a-ac1a-9936cac9e82e",
   "metadata": {},
   "outputs": [
    {
     "data": {
      "image/png": "[encoded data removed]",
      "text/plain": [
       "<Figure size 576x216 with 1 Axes>"
      ]
     },
     "metadata": {
      "needs_background": "light"
     },
     "output_type": "display_data"
    }
   ],
   "source": [
    "plt.figure(figsize=(8, 3))\n",
    "plt.plot(range(2, 10), silhouette_scores, \"bo-\")\n",
    "plt.xlabel(\"$k$\", fontsize=14)\n",
    "plt.ylabel(\"Silhouette score\", fontsize=14)\n",
    "\n",
    "plt.show()"
   ]
  },
  {
   "cell_type": "code",
   "execution_count": null,
   "id": "1cbda2d9-cc05-4f4b-a76f-9d2bb23ea004",
   "metadata": {},
   "outputs": [],
   "source": []
  }
 ],
 "metadata": {
  "kernelspec": {
   "display_name": "Python 3 (ipykernel)",
   "language": "python",
   "name": "python3"
  },
  "language_info": {
   "codemirror_mode": {
    "name": "ipython",
    "version": 3
   },
   "file_extension": ".py",
   "mimetype": "text/x-python",
   "name": "python",
   "nbconvert_exporter": "python",
   "pygments_lexer": "ipython3",
   "version": "3.8.11"
  }
 },
 "nbformat": 4,
 "nbformat_minor": 5
}
