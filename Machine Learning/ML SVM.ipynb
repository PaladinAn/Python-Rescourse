{
 "cells": [
  {
   "cell_type": "code",
   "execution_count": 1,
   "id": "846713b2-2742-4d7f-988d-a2668a27206c",
   "metadata": {},
   "outputs": [],
   "source": [
    "%matplotlib inline\n",
    "from sklearn import datasets\n",
    "import numpy as np\n",
    "import pandas as pd\n",
    "import seaborn as sns\n",
    "import io\n",
    "import matplotlib.pyplot as plt\n",
    "\n",
    "from sklearn import svm"
   ]
  },
  {
   "cell_type": "code",
   "execution_count": 2,
   "id": "72fc1a24-bd64-42fd-8b63-a1e1e696a616",
   "metadata": {},
   "outputs": [],
   "source": [
    "# 讀取資料集\n",
    "iris = datasets.load_iris()\n",
    "df_data = pd.read_csv('iris.csv')"
   ]
  },
  {
   "cell_type": "code",
   "execution_count": null,
   "id": "f4b5a521-2398-460e-afe9-3ef9539a0fdb",
   "metadata": {},
   "outputs": [],
   "source": [
    "#  查看檔案\n",
    "df_data"
   ]
  },
  {
   "cell_type": "code",
   "execution_count": 4,
   "id": "aba579c1-f956-47b8-9a74-fdd2cd2712a0",
   "metadata": {},
   "outputs": [],
   "source": [
    "# 刪除 標籤ID 因為不參與 運算\n",
    "df_data = df_data.drop(labels=['Id'], axis=1)"
   ]
  },
  {
   "cell_type": "code",
   "execution_count": 5,
   "id": "09f3b41e-b760-4b05-807d-863190e3d583",
   "metadata": {},
   "outputs": [],
   "source": [
    "# 調整 Species 的值 改成 012 ，讓決策樹可以計算\n",
    "label_map = {'Iris-setosa': 0, 'Iris-versicolor': 1, 'Iris-virginica': 2}\n",
    "\n",
    "#將編碼後的label map存至df_data['Species']中。\n",
    "df_data['Class'] = df_data['Species'].map(label_map)"
   ]
  },
  {
   "cell_type": "code",
   "execution_count": 6,
   "id": "286542b5-dbf5-4002-b9b9-e4e829b18f56",
   "metadata": {},
   "outputs": [
    {
     "name": "stdout",
     "output_type": "stream",
     "text": [
      "checked missing data(NAN mount): 0\n"
     ]
    }
   ],
   "source": [
    "# 檢查缺失值\n",
    "print(\"checked missing data(NAN mount):\",len(np.where(np.isnan(9))[0]))\n",
    "# 移除缺失值 train=train.dropna()"
   ]
  },
  {
   "cell_type": "markdown",
   "id": "1a643ffc-034d-4b02-b43b-a9e1b087fd93",
   "metadata": {},
   "source": [
    "3) 設定 X=資料  y=標籤"
   ]
  },
  {
   "cell_type": "code",
   "execution_count": 7,
   "id": "06eeaaa5-90b2-4a18-a705-4fdb4e5395e6",
   "metadata": {},
   "outputs": [],
   "source": [
    "X = df_data.drop(labels=['Class','Species'],axis=1).values\n",
    "y = df_data['Class'].values"
   ]
  },
  {
   "cell_type": "markdown",
   "id": "b8aa4b2c-f733-4abc-bdab-d87c349f784f",
   "metadata": {},
   "source": [
    "4) 切割訓練集 與 測試集"
   ]
  },
  {
   "cell_type": "code",
   "execution_count": 8,
   "id": "8d293b3a-e72c-4827-a838-7f00812177b6",
   "metadata": {},
   "outputs": [],
   "source": [
    "from sklearn.model_selection import train_test_split\n",
    "\n",
    "X_train , X_test , y_train , y_test = train_test_split(X, y , test_size=.3 , random_state=42)"
   ]
  },
  {
   "cell_type": "code",
   "execution_count": 9,
   "id": "cb4ec119-8341-41fb-ae2a-459e291cd8cc",
   "metadata": {},
   "outputs": [
    {
     "name": "stdout",
     "output_type": "stream",
     "text": [
      "Training data shape: (105, 4)\n",
      "Testing data shape: (45, 4)\n"
     ]
    }
   ],
   "source": [
    "print('Training data shape:', X_train.shape)\n",
    "print('Testing data shape:', X_test.shape)"
   ]
  },
  {
   "cell_type": "markdown",
   "id": "203a6111-b926-4944-a362-e7a5c494fcad",
   "metadata": {},
   "source": [
    "# 降維 -> 建立模型"
   ]
  },
  {
   "cell_type": "markdown",
   "id": "de407fe0-583e-416e-b2f5-d504a1717d9e",
   "metadata": {},
   "source": [
    "四種不同SVC分類器:\n",
    "\n",
    "- LinearSVC (線性) [未設定參數]\n",
    "- kernel='linear' (線性)\n",
    "- kernel='poly' (非線性)\n",
    "- kernel='rbf' (非線性)"
   ]
  },
  {
   "cell_type": "markdown",
   "id": "7fcc04ce-8a1f-4bd3-8111-971978e5437c",
   "metadata": {},
   "source": [
    "LinearSVC"
   ]
  },
  {
   "cell_type": "code",
   "execution_count": 28,
   "id": "4aa32886-73a1-4f5e-af85-2b3b4f9eb9a1",
   "metadata": {},
   "outputs": [],
   "source": [
    "# 建立SVM模型\n",
    "lsvm = svm.LinearSVC(C=1, max_iter=10000)\n",
    "# 使用訓練資料訓練模型\n",
    "lsvm.fit(X_train, y_train)\n",
    "# 使用訓練資料預測分類\n",
    "predicted = lsvm.predict(X_train)\n",
    "accuracy = lsvm.score(X_train, y_train)"
   ]
  },
  {
   "cell_type": "code",
   "execution_count": 33,
   "id": "91a71495-da10-43e0-9b4c-d9325a0988e4",
   "metadata": {},
   "outputs": [
    {
     "name": "stdout",
     "output_type": "stream",
     "text": [
      "預測:  [1 1 2 1 2 1 2 1 0 2 1 0 0 0 1 2 0 0 0 1 0 1 2 0 1 2 0 2 2 1 2 2 1 0 1 2 0\n",
      " 0 1 1 0 2 0 0 2 1 2 2 2 2 1 0 0 2 2 0 0 0 1 2 0 2 2 0 1 1 2 1 2 0 2 1 2 1\n",
      " 1 1 0 1 1 0 1 2 2 0 1 2 2 0 2 0 1 2 2 1 2 1 1 2 2 0 1 2 0 1 2]\n",
      "訓練集準確度:  0.9619047619047619\n",
      "測試集:  1.0\n"
     ]
    }
   ],
   "source": [
    "print('預測: ', predicted)\n",
    "\n",
    "print('訓練集準確度: ', accuracy)\n",
    "print('測試集: ', lsvm.score(X_test, y_test))"
   ]
  },
  {
   "cell_type": "markdown",
   "id": "e88dc6e7-8a33-4182-a072-26a129724a93",
   "metadata": {},
   "source": [
    "# 視覺化\n",
    "- PCA降維\n",
    "- 繪製決策邊界 Function"
   ]
  },
  {
   "cell_type": "code",
   "execution_count": 21,
   "id": "501ff4b9-824d-45de-8ce6-61a9680040b0",
   "metadata": {},
   "outputs": [],
   "source": [
    "predicted= lsvm.predict(train_reduced)\n",
    "accuracy = lsvm.score(train_reduced, y_train)\n",
    "\n",
    "from sklearn.decomposition import PCA\n",
    "pca = PCA(n_components=2, iterated_power=1)\n",
    "train_reduced = pca.fit_transform(X_train)"
   ]
  },
  {
   "cell_type": "code",
   "execution_count": 13,
   "id": "e7abb959-7934-4efc-8014-dae3b34bcaf1",
   "metadata": {
    "tags": []
   },
   "outputs": [],
   "source": [
    "# 建立SVM模型\n",
    "lsvm = svm.LinearSVC(C=1, max_iter=10000)\n",
    "# 使用訓練資料訓練模型\n",
    "lsvm.fit(train_reduced, y_train)\n",
    "# 使用訓練資料預測分類\n",
    "predicted= lsvm.predict(train_reduced)\n",
    "accuracy = lsvm.score(train_reduced, y_train)"
   ]
  },
  {
   "cell_type": "code",
   "execution_count": null,
   "id": "07b6540e-cd69-41b3-991d-e479a00c6992",
   "metadata": {},
   "outputs": [],
   "source": [
    "# 降維後模型修改帶入的資料，灌入-> train_reduced\n",
    "# 使用訓練資料訓練模型\n",
    "lsvm.fit(train_reduced, y_train)\n",
    "# 使用訓練資料預測分類\n",
    "predicted= lsvm.predict(train_reduced)\n",
    "accuracy = lsvm.score(train_reduced, y_train)"
   ]
  },
  {
   "cell_type": "markdown",
   "id": "5b48bf4f-b441-4e52-822b-39ad06c7fd49",
   "metadata": {},
   "source": [
    "def make_meshgrid(x, y, h=.02):\n",
    "    \"\"\"Create a mesh of points to plot in\n",
    "\n",
    "    Parameters\n",
    "    ----------\n",
    "    x: data to base x-axis meshgrid on\n",
    "    y: data to base y-axis meshgrid on\n",
    "    h: stepsize for meshgrid, optional\n",
    "\n",
    "    Returns\n",
    "    -------\n",
    "    xx, yy : ndarray\n",
    "    \"\"\"\n",
    "    x_min, x_max = x.min() - 1, x.max() + 1\n",
    "    y_min, y_max = y.min() - 1, y.max() + 1\n",
    "    xx, yy = np.meshgrid(np.arange(x_min, x_max, h),\n",
    "                         np.arange(y_min, y_max, h))\n",
    "    return xx, yy\n",
    "\n",
    "\n",
    "def plot_contours(ax, clf, xx, yy, **params):\n",
    "    \"\"\"Plot the decision boundaries for a classifier.\n",
    "\n",
    "    Parameters\n",
    "    ----------\n",
    "    ax: matplotlib axes object\n",
    "    clf: a classifier\n",
    "    xx: meshgrid ndarray\n",
    "    yy: meshgrid ndarray\n",
    "    params: dictionary of params to pass to contourf, optional\n",
    "    \"\"\"\n",
    "    Z = clf.predict(np.c_[xx.ravel(), yy.ravel()])\n",
    "    Z = Z.reshape(xx.shape)\n",
    "    out = ax.contourf(xx, yy, Z, **params)\n",
    "    return out"
   ]
  },
  {
   "cell_type": "markdown",
   "id": "e91e3cf7-889a-4e68-85b1-371a3c453074",
   "metadata": {},
   "source": [
    "開始繪圖"
   ]
  },
  {
   "cell_type": "code",
   "execution_count": null,
   "id": "22196add-ef4e-4216-9ea9-33ca7fd785c9",
   "metadata": {},
   "outputs": [],
   "source": [
    "predicted=lsvm.predict(train_reduced)\n",
    "accuracy = lsvm.score(train_reduced, y_train)\n",
    "\n",
    "X0, X1 = train_reduced[:, 0], train_reduced[:, 1]\n",
    "xx, yy = make_meshgrid(X0, X1)\n",
    "plot_contours(plt, lsvm, xx, yy,\n",
    "                  cmap=plt.cm.coolwarm, alpha=0.8)\n",
    "plt.scatter(X0, X1, c=y_train, cmap=plt.cm.coolwarm, s=20, edgecolors='k')\n",
    "plt.xlabel('Sepal length')\n",
    "plt.ylabel('Sepal width')\n",
    "plt.title('LinearSVC (linear kernel)'+ '\\n' + 'Accuracy:%.2f'%accuracy)"
   ]
  },
  {
   "cell_type": "markdown",
   "id": "1272c47a-dadd-4c94-8bc6-7b7a769ad41e",
   "metadata": {},
   "source": [
    "kernel='linear'"
   ]
  },
  {
   "cell_type": "code",
   "execution_count": null,
   "id": "92c6748d-bd17-424e-ba10-6356d76dd0a3",
   "metadata": {},
   "outputs": [],
   "source": [
    "svcModel=svm.SVC(kernel='linear', C=1)\n",
    "svcModel.fit(train_reduced, y_train)\n",
    "accuracy = svcModel.score(train_reduced, y_train)\n",
    "\n",
    "X0, X1 = train_reduced[:, 0], train_reduced[:, 1]\n",
    "xx, yy = make_meshgrid(X0, X1)\n",
    "plot_contours(plt, svcModel, xx, yy,\n",
    "                  cmap=plt.cm.coolwarm, alpha=0.8)\n",
    "plt.scatter(X0, X1, c=y_train, cmap=plt.cm.coolwarm, s=20, edgecolors='k')\n",
    "plt.xlabel('Sepal length')\n",
    "plt.ylabel('Sepal width')\n",
    "plt.title('SVC with linear kernel'+ '\\n' + 'Accuracy:%.2f'%accuracy)"
   ]
  }
 ],
 "metadata": {
  "kernelspec": {
   "display_name": "Python 3 (ipykernel)",
   "language": "python",
   "name": "python3"
  },
  "language_info": {
   "codemirror_mode": {
    "name": "ipython",
    "version": 3
   },
   "file_extension": ".py",
   "mimetype": "text/x-python",
   "name": "python",
   "nbconvert_exporter": "python",
   "pygments_lexer": "ipython3",
   "version": "3.8.11"
  }
 },
 "nbformat": 4,
 "nbformat_minor": 5
}
