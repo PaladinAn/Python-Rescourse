{
 "cells": [
  {
   "cell_type": "markdown",
   "id": "f519422b-2989-4288-bf22-5cecc4ec5b16",
   "metadata": {},
   "source": [
    "簡單線性回歸"
   ]
  },
  {
   "cell_type": "code",
   "execution_count": null,
   "id": "4f5ef97f-be48-4cd2-9659-66d9e2126526",
   "metadata": {},
   "outputs": [],
   "source": [
    "# imports\n",
    "import numpy as np\n",
    "import matplotlib.pyplot as plt"
   ]
  },
  {
   "cell_type": "code",
   "execution_count": null,
   "id": "fa73e8e7-67c3-4859-9b12-530936931599",
   "metadata": {},
   "outputs": [],
   "source": [
    "# 亂數產生資料\n",
    "np.random.seed(0)\n",
    "noise = np.random.rand(100, 1)\n",
    "x = np.random.rand(100, 1)\n",
    "y = 3 * x + 15 + noise\n",
    "# y=ax+b Target function  a=3, b=15"
   ]
  },
  {
   "cell_type": "code",
   "execution_count": null,
   "id": "1ef00a8e-26e2-4b50-9aa8-339bd97dc878",
   "metadata": {},
   "outputs": [],
   "source": [
    "# plot\n",
    "plt.scatter(x,y,s=10)\n",
    "plt.xlabel('x')\n",
    "plt.ylabel('y')\n",
    "plt.show()"
   ]
  },
  {
   "cell_type": "markdown",
   "id": "10b05d73-6ca6-4f07-8967-d5fc0606ea5e",
   "metadata": {},
   "source": [
    "# XGBoost Regression\n",
    "- Boosting 則是希望能夠由後面生成的樹，來修正前面樹學的不好的地方。"
   ]
  },
  {
   "cell_type": "code",
   "execution_count": null,
   "id": "cfa814b2-9258-4ed7-95a1-d4ddf961976c",
   "metadata": {},
   "outputs": [],
   "source": [
    "import xgboost as xgb"
   ]
  },
  {
   "cell_type": "code",
   "execution_count": null,
   "id": "757eee75-2acf-4aa0-95f6-a2adf3651e6d",
   "metadata": {},
   "outputs": [],
   "source": [
    "# 建立xgbrModel模型\n",
    "xgbr=xgb.XGBRegressor()\n",
    "# 使用訓練資料訓練模型\n",
    "xgbr.fit(x,y)\n",
    "# 使用訓練資料預測\n",
    "predicted=xgbr.predict(x)"
   ]
  },
  {
   "cell_type": "code",
   "execution_count": null,
   "id": "c6daed0b-99a9-411b-abc3-7dd1e5487005",
   "metadata": {},
   "outputs": [],
   "source": [
    "print(\"Score: \",xgbrModel.score(x, y))"
   ]
  },
  {
   "cell_type": "markdown",
   "id": "17d45e77-942e-4ef2-8ccd-51abb71dfde0",
   "metadata": {},
   "source": [
    "模型評估  .score\n",
    "- from sklearn import metrics  # mse方法要載入\n",
    "- R2 MSE MAE RMSE"
   ]
  },
  {
   "cell_type": "code",
   "execution_count": null,
   "id": "a38b8320-9f11-4bf5-b242-1053b65cc060",
   "metadata": {},
   "outputs": [],
   "source": [
    "from sklearn import metrics"
   ]
  },
  {
   "cell_type": "code",
   "execution_count": null,
   "id": "a3fae8d4-d5cd-4b46-8984-2be01bf0af9e",
   "metadata": {},
   "outputs": [],
   "source": [
    "print('R2 score: ', xgbrModel.score(x, y))\n",
    "mse = metrics.mean_squared_error(y, predicted)\n",
    "print('MSE score: ', mse)"
   ]
  },
  {
   "cell_type": "code",
   "execution_count": null,
   "id": "b0c203ec-79df-41b9-bf40-e8ec7c4a0ec1",
   "metadata": {},
   "outputs": [],
   "source": [
    "# plot\n",
    "plt.scatter(x, y, s=10, label='True')\n",
    "plt.scatter(x, predicted, color=\"r\",s=10, label='Predicted')\n",
    "plt.xlabel('x')\n",
    "plt.ylabel('y')\n",
    "plt.legend()\n",
    "plt.show()"
   ]
  },
  {
   "cell_type": "markdown",
   "id": "6fd22457-c8c7-4390-ad6a-ab167a2752ad",
   "metadata": {},
   "source": [
    "# Example 2 非線性回歸情況"
   ]
  },
  {
   "cell_type": "code",
   "execution_count": null,
   "id": "30ada3ec-2e89-41bd-b069-6d5b8ed6a12a",
   "metadata": {},
   "outputs": [],
   "source": [
    "# 假設情況\n",
    "\n",
    "x = np.array([[1.40280301e-01],[9.03857692e-01],[5.35815131e-01],[3.58391981e-01],[2.43418162e-02],[2.43342904e-02],[3.37370600e-03],[7.50261116e-01],[3.61339257e-01],[5.01366775e-01],[4.23721405e-04],[9.40725121e-01],[6.92960750e-01],[4.50878979e-02],[3.30603187e-02],[3.36372142e-02],[9.25633424e-02],[2.75369313e-01],[1.86576499e-01],[8.48144121e-02],[3.74363965e-01],[1.94585372e-02],[8.53484957e-02],[1.34221000e-01],[2.07999831e-01],[6.16501290e-01],[3.98696193e-02],[2.64437058e-01],[3.50955021e-01],[2.15764084e-03],[3.69110747e-01],[2.90784768e-02],[4.23170975e-03],[9.00383763e-01],[9.32445223e-01],[6.53506272e-01],[9.27895484e-02],[9.53984185e-03],[4.68174835e-01],[1.93734218e-01]])\n",
    "y = np.array([ 5.82469676e+00,  7.94613194e+00,  9.24976070e+00,  6.59761731e+00,\n",
    "        2.16651685e+00, -2.50365745e-03, -1.00182588e+00,  9.02075194e+00,\n",
    "        8.57086436e+00,  8.50848958e+00, -7.34549241e-02,  8.73802779e+00,\n",
    "        7.26038154e+00,  2.38778217e+00,  2.02397265e+00,  3.57417666e+00,\n",
    "        5.15052189e+00,  5.57291682e+00,  6.83461431e+00,  4.20408429e+00,\n",
    "        7.21499207e+00,  2.24057093e+00,  5.63575746e+00,  6.66180813e+00,\n",
    "        5.91402744e+00,  8.29511673e+00,  3.18174801e+00,  8.23158707e+00,\n",
    "        7.30330971e+00,  2.55480191e-02,  6.76197223e+00,  1.05656839e+00,\n",
    "        1.21851645e+00,  1.03566236e+01,  8.95941549e+00,  9.67640393e+00,\n",
    "        5.17463285e+00,  2.25781800e-01,  8.60137397e+00,  8.13359834e+00])"
   ]
  },
  {
   "cell_type": "code",
   "execution_count": null,
   "id": "c2c86526-67de-49be-b42c-163d1bd961ef",
   "metadata": {},
   "outputs": [],
   "source": [
    "xgbrModel=xgb.XGBRegressor()\n",
    "xgbrModel.fit(x,y)\n",
    "\n",
    "x_test = np.linspace(-0.1,1.1,500)[:,None]\n",
    "predicted=xgbrModel.predict(x_test)\n",
    "plt.scatter(x.ravel(),y)\n",
    "plt.plot(x_test,predicted,label='n_estimators=100', color='r')\n",
    "plt.legend(loc='best')"
   ]
  },
  {
   "cell_type": "code",
   "execution_count": null,
   "id": "884387be-e5c3-44e5-8f3a-ae7fb6a63094",
   "metadata": {},
   "outputs": [],
   "source": [
    "xgbrModel=xgb.XGBRegressor()\n",
    "xgbrModel.fit(x,y)\n",
    "\n",
    "predicted=xgbrModel.predict(x)\n",
    "plt.scatter(x.ravel(),y, label='True')\n",
    "plt.scatter(x.ravel(), predicted, color=\"r\", label='Predicted', s=15)\n",
    "plt.legend(loc='best')"
   ]
  }
 ],
 "metadata": {
  "kernelspec": {
   "display_name": "Python 3 (ipykernel)",
   "language": "python",
   "name": "python3"
  },
  "language_info": {
   "codemirror_mode": {
    "name": "ipython",
    "version": 3
   },
   "file_extension": ".py",
   "mimetype": "text/x-python",
   "name": "python",
   "nbconvert_exporter": "python",
   "pygments_lexer": "ipython3",
   "version": "3.8.11"
  }
 },
 "nbformat": 4,
 "nbformat_minor": 5
}
