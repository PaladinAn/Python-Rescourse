{
 "cells": [
  {
   "cell_type": "markdown",
   "id": "0dbe8ec4-c8bf-4eff-8ea0-4fff2247b9b5",
   "metadata": {},
   "source": [
    "簡單線性回歸"
   ]
  },
  {
   "cell_type": "code",
   "execution_count": null,
   "id": "b4f04115-2893-4282-8af8-f11235b2484e",
   "metadata": {},
   "outputs": [],
   "source": [
    "# imports\n",
    "import numpy as np\n",
    "import matplotlib.pyplot as plt"
   ]
  },
  {
   "cell_type": "code",
   "execution_count": null,
   "id": "502bf8d8-492a-40a7-901d-7d02c080e536",
   "metadata": {},
   "outputs": [],
   "source": [
    "# 亂數產生資料\n",
    "np.random.seed(0)\n",
    "noise = np.random.rand(100, 1)\n",
    "x = np.random.rand(100, 1)\n",
    "y = 3 * x + 15 + noise\n",
    "# y=ax+b Target function  a=3, b=15"
   ]
  },
  {
   "cell_type": "code",
   "execution_count": null,
   "id": "e95516d1-c48a-4faf-8b95-d09fce5afc74",
   "metadata": {},
   "outputs": [],
   "source": [
    "# plot\n",
    "plt.scatter(x,y,s=10)\n",
    "plt.xlabel('x')\n",
    "plt.ylabel('y')\n",
    "plt.show()"
   ]
  },
  {
   "cell_type": "markdown",
   "id": "337059d4-8374-4817-a165-60b94137c69d",
   "metadata": {},
   "source": [
    "# RandomForestRegressor\n",
    "- Bagging + 隨機特徵的技術所產生出來的 Ensemble learning 演算法"
   ]
  },
  {
   "cell_type": "code",
   "execution_count": null,
   "id": "f858a638-6a67-4d96-9068-85342eb5f1f2",
   "metadata": {},
   "outputs": [],
   "source": [
    "from sklearn.ensemble import RandomForestRegressor"
   ]
  },
  {
   "cell_type": "code",
   "execution_count": null,
   "id": "7da82e92-7464-4099-b331-baee36b55938",
   "metadata": {},
   "outputs": [],
   "source": [
    "# 建立RandomForestRegressor模型\n",
    "rfr = RandomForestRegressor(n_estimators=100, criterion = 'mse')\n",
    "# 使用訓練資料訓練模型\n",
    "rfr.fit(x, y)\n",
    "# 使用訓練資料預測\n",
    "predicted = rfr.predict(x)"
   ]
  },
  {
   "cell_type": "markdown",
   "id": "f60b994a-115b-4d27-9b2e-44ae5daee366",
   "metadata": {},
   "source": [
    "模型評估  .score\n",
    "- from sklearn import metrics\n",
    "- R2 MSE MAE RMSE"
   ]
  },
  {
   "cell_type": "code",
   "execution_count": null,
   "id": "726c0881-b0e7-4ed8-8fba-abb786e44ad2",
   "metadata": {},
   "outputs": [],
   "source": [
    "print('R2 score: ', rfr.score(x, y))\n",
    "mse = metrics.mean_squared_error(y, predicted)\n",
    "print('MSE score: ', mse)"
   ]
  },
  {
   "cell_type": "code",
   "execution_count": null,
   "id": "a6c2e7aa-fa24-4ac8-a1c5-bcdf6c3223f3",
   "metadata": {},
   "outputs": [],
   "source": [
    "# plot\n",
    "plt.scatter(x, y, s=10, label='True')\n",
    "plt.scatter(x, predicted, color=\"r\",s=10, label='Predicted')\n",
    "plt.xlabel('x')\n",
    "plt.ylabel('y')\n",
    "plt.legend()\n",
    "plt.show()"
   ]
  },
  {
   "cell_type": "markdown",
   "id": "85a37f85-007a-4301-b434-c801912ba7e0",
   "metadata": {},
   "source": [
    "# Example 2 非線性回歸情況"
   ]
  },
  {
   "cell_type": "code",
   "execution_count": null,
   "id": "f10bcbbd-c6ed-49e8-8c01-66523e57a8d8",
   "metadata": {},
   "outputs": [],
   "source": [
    "# 假設情況\n",
    "\n",
    "x = np.array([[1.40280301e-01],[9.03857692e-01],[5.35815131e-01],[3.58391981e-01],[2.43418162e-02],[2.43342904e-02],[3.37370600e-03],[7.50261116e-01],[3.61339257e-01],[5.01366775e-01],[4.23721405e-04],[9.40725121e-01],[6.92960750e-01],[4.50878979e-02],[3.30603187e-02],[3.36372142e-02],[9.25633424e-02],[2.75369313e-01],[1.86576499e-01],[8.48144121e-02],[3.74363965e-01],[1.94585372e-02],[8.53484957e-02],[1.34221000e-01],[2.07999831e-01],[6.16501290e-01],[3.98696193e-02],[2.64437058e-01],[3.50955021e-01],[2.15764084e-03],[3.69110747e-01],[2.90784768e-02],[4.23170975e-03],[9.00383763e-01],[9.32445223e-01],[6.53506272e-01],[9.27895484e-02],[9.53984185e-03],[4.68174835e-01],[1.93734218e-01]])\n",
    "y = np.array([ 5.82469676e+00,  7.94613194e+00,  9.24976070e+00,  6.59761731e+00,\n",
    "        2.16651685e+00, -2.50365745e-03, -1.00182588e+00,  9.02075194e+00,\n",
    "        8.57086436e+00,  8.50848958e+00, -7.34549241e-02,  8.73802779e+00,\n",
    "        7.26038154e+00,  2.38778217e+00,  2.02397265e+00,  3.57417666e+00,\n",
    "        5.15052189e+00,  5.57291682e+00,  6.83461431e+00,  4.20408429e+00,\n",
    "        7.21499207e+00,  2.24057093e+00,  5.63575746e+00,  6.66180813e+00,\n",
    "        5.91402744e+00,  8.29511673e+00,  3.18174801e+00,  8.23158707e+00,\n",
    "        7.30330971e+00,  2.55480191e-02,  6.76197223e+00,  1.05656839e+00,\n",
    "        1.21851645e+00,  1.03566236e+01,  8.95941549e+00,  9.67640393e+00,\n",
    "        5.17463285e+00,  2.25781800e-01,  8.60137397e+00,  8.13359834e+00])"
   ]
  },
  {
   "cell_type": "code",
   "execution_count": null,
   "id": "8a4d97ea-8d5f-4c29-bd2b-91afb33769fc",
   "metadata": {},
   "outputs": [],
   "source": [
    "randomForestModel = RandomForestRegressor(n_estimators=100, criterion = 'mse')\n",
    "randomForestModel.fit(x, y)\n",
    "\n",
    "\n",
    "\n",
    "x_test = np.linspace(-0.1,1.1,500)[:,None]\n",
    "predicted=randomForestModel.predict(x_test)\n",
    "plt.scatter(x.ravel(),y)\n",
    "plt.plot(x_test,predicted,label='n_estimators=100', color='r')\n",
    "plt.legend(loc='best')"
   ]
  },
  {
   "cell_type": "code",
   "execution_count": null,
   "id": "e7dd9d50-53fc-46dd-96ab-004d21bab5e0",
   "metadata": {},
   "outputs": [],
   "source": [
    "randomForestModel = RandomForestRegressor(n_estimators=100, criterion = 'mse')\n",
    "randomForestModel.fit(x, y)\n",
    "\n",
    "predicted=randomForestModel.predict(x)\n",
    "plt.scatter(x.ravel(),y, label='True')\n",
    "plt.scatter(x.ravel(), predicted, color=\"r\", label='Predicted', s=15)\n",
    "plt.legend(loc='best')"
   ]
  }
 ],
 "metadata": {
  "kernelspec": {
   "display_name": "Python 3 (ipykernel)",
   "language": "python",
   "name": "python3"
  },
  "language_info": {
   "codemirror_mode": {
    "name": "ipython",
    "version": 3
   },
   "file_extension": ".py",
   "mimetype": "text/x-python",
   "name": "python",
   "nbconvert_exporter": "python",
   "pygments_lexer": "ipython3",
   "version": "3.8.11"
  }
 },
 "nbformat": 4,
 "nbformat_minor": 5
}
