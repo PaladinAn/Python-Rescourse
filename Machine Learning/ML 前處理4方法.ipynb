{
 "cells": [
  {
   "cell_type": "markdown",
   "id": "1c65aaf8-1401-4489-830e-72e80358ed5b",
   "metadata": {},
   "source": [
    "# 資料前處理\n",
    "- Standardization 平均&變異數標準化\n",
    "- MinMaxScaler 最小最大值標準化\n",
    "- MaxAbsScaler\n",
    "- RobustScaler\n",
    "\n",
    "- 載入套件： from sklearn.preprocessing import \" ??? \""
   ]
  },
  {
   "cell_type": "code",
   "execution_count": null,
   "id": "afb655e8-a279-445c-8b6a-c4736abc3b4e",
   "metadata": {},
   "outputs": [],
   "source": [
    "import numpy as np\n",
    "np.set_printoptions(suppress=True)"
   ]
  },
  {
   "cell_type": "markdown",
   "id": "e3fa68ad-e29e-487c-bd9c-d465448833b9",
   "metadata": {},
   "source": [
    "# Standardization 平均&變異數標準化"
   ]
  },
  {
   "cell_type": "code",
   "execution_count": null,
   "id": "403d4862-4c85-424f-b967-83dedebe6532",
   "metadata": {},
   "outputs": [],
   "source": [
    "from sklearn.preprocessing import StandardScaler\n",
    "\n",
    "scaler = StandardScaler().fit(X)\n",
    "X_scaled = scaler.transform(X)\n",
    "\n",
    "# scaled之後的資料零均值，單位方差  \n",
    "print('資料集 X 的平均值 : ', X.mean(axis=0))\n",
    "print('資料集 X 的標準差 : ', X.std(axis=0))\n",
    "\n",
    "print('\\nStandardScaler 縮放過後資料集 X 的平均值 : ', X_scaled.mean(axis=0))\n",
    "print('StandardScaler 縮放過後資料集 X 的標準差 : ', X_scaled.std(axis=0))"
   ]
  },
  {
   "cell_type": "markdown",
   "id": "7f6b94b7-cef4-4a88-b190-19288c37429a",
   "metadata": {},
   "source": [
    "視覺化"
   ]
  },
  {
   "cell_type": "code",
   "execution_count": null,
   "id": "e53b6413-4fb8-4171-99d9-cb0db26ad2b6",
   "metadata": {},
   "outputs": [],
   "source": [
    "fig, axes = plt.subplots(nrows=1,ncols=4)\n",
    "fig.set_size_inches(15, 4)\n",
    "sns.distplot(X_scaled[:,0],ax=axes[0])\n",
    "sns.distplot(X_scaled[:,1],ax=axes[1])\n",
    "sns.distplot(X_scaled[:,2],ax=axes[2])\n",
    "sns.distplot(X_scaled[:,3],ax=axes[3])\n",
    "\n",
    "axes[0].set(xlabel='SepalLengthCm',title=\"distribution of SepalLengthCm\")\n",
    "axes[1].set(xlabel='SepalWidthCm',title=\"distribution of SepalWidthCm\")\n",
    "axes[2].set(xlabel='PetalLengthCm',title=\"distribution of PetalLengthCm\")\n",
    "axes[3].set(xlabel='PetalWidthCm',title=\"distribution of PetalWidthCm\")"
   ]
  },
  {
   "cell_type": "code",
   "execution_count": null,
   "id": "6689141b-6e93-480c-af63-9f86e06b9060",
   "metadata": {},
   "outputs": [],
   "source": [
    "X_scaled=pd.DataFrame(X_scaled,columns=['SepalLengthCm','SepalWidthCm','PetalLengthCm','PetalWidthCm'])\n",
    "X_scaled['Species']=df_train['Species']\n",
    "sns.lmplot(\"SepalLengthCm\", \"SepalWidthCm\", hue='Species', data=X_scaled, fit_reg=False)"
   ]
  },
  {
   "cell_type": "markdown",
   "id": "9eff3743-26f7-4cee-87c1-11d294670d0d",
   "metadata": {},
   "source": [
    "# MinMaxScaler 最小最大值標準化"
   ]
  },
  {
   "cell_type": "code",
   "execution_count": null,
   "id": "a8bd6441-c5f3-47a2-8395-327c573918fd",
   "metadata": {},
   "outputs": [],
   "source": [
    "from sklearn.preprocessing import MinMaxScaler\n",
    "\n",
    "scaler = MinMaxScaler(feature_range=(0, 1)).fit(X)\n",
    "X_scaled = scaler.transform(X)\n",
    "\n",
    "# scaled之後的資料零均值，單位方差  \n",
    "print('資料集 X 的平均值 : ', X.mean(axis=0))\n",
    "print('資料集 X 的標準差 : ', X.std(axis=0))\n",
    "\n",
    "print('\\nMinMaxScaler 縮放過後資料集 X 的平均值 : ', X_scaled.mean(axis=0))\n",
    "print('MinMaxScaler 縮放過後資料集 X 的標準差 : ', X_scaled.std(axis=0))"
   ]
  },
  {
   "cell_type": "markdown",
   "id": "f6924e62-da5d-4cfb-9b62-28c578282a19",
   "metadata": {},
   "source": [
    "視覺化"
   ]
  },
  {
   "cell_type": "code",
   "execution_count": null,
   "id": "77767160-8489-4e61-ad8e-a9b58a1f2512",
   "metadata": {},
   "outputs": [],
   "source": [
    "\n",
    "fig, axes = plt.subplots(nrows=1,ncols=4)\n",
    "fig.set_size_inches(15, 4)\n",
    "sns.distplot(X_scaled[:,0],ax=axes[0])\n",
    "sns.distplot(X_scaled[:,1],ax=axes[1])\n",
    "sns.distplot(X_scaled[:,2],ax=axes[2])\n",
    "sns.distplot(X_scaled[:,3],ax=axes[3])\n",
    "\n",
    "axes[0].set(xlabel='SepalLengthCm',title=\"distribution of SepalLengthCm\")\n",
    "axes[1].set(xlabel='SepalWidthCm',title=\"distribution of SepalWidthCm\")\n",
    "axes[2].set(xlabel='PetalLengthCm',title=\"distribution of PetalLengthCm\")\n",
    "axes[3].set(xlabel='PetalWidthCm',title=\"distribution of PetalWidthCm\")"
   ]
  },
  {
   "cell_type": "code",
   "execution_count": null,
   "id": "37dcd8bd-60a8-4152-92e5-f3fca0e9ae5a",
   "metadata": {},
   "outputs": [],
   "source": [
    "X_scaled=pd.DataFrame(X_scaled,columns=['SepalLengthCm','SepalWidthCm','PetalLengthCm','PetalWidthCm'])\n",
    "X_scaled['Species']=df_train['Species']\n",
    "sns.lmplot(\"SepalLengthCm\", \"SepalWidthCm\", hue='Species', data=X_scaled, fit_reg=False)"
   ]
  },
  {
   "cell_type": "markdown",
   "id": "f5e3cdb7-f1de-4bea-8e58-8aabfce7d45c",
   "metadata": {},
   "source": [
    "# MaxAbsScaler"
   ]
  },
  {
   "cell_type": "code",
   "execution_count": null,
   "id": "06544b08-50ab-4c03-9929-761848f8eb4d",
   "metadata": {},
   "outputs": [],
   "source": [
    "from sklearn.preprocessing import MaxAbsScaler\n",
    "\n",
    "scaler = MaxAbsScaler().fit(X)\n",
    "X_scaled = scaler.transform(X)\n",
    "\n",
    "# scaled之後的資料零均值，單位方差  \n",
    "print('資料集 X 的平均值 : ', X.mean(axis=0))\n",
    "print('資料集 X 的標準差 : ', X.std(axis=0))\n",
    "\n",
    "print('\\nMaxAbsScaler 縮放過後資料集 X 的平均值 : ', X_scaled.mean(axis=0))\n",
    "print('MaxAbsScaler 縮放過後資料集 X 的標準差 : ', X_scaled.std(axis=0))"
   ]
  },
  {
   "cell_type": "markdown",
   "id": "69463c5b-9938-4c09-a4bb-2b007c533745",
   "metadata": {},
   "source": [
    "視覺化"
   ]
  },
  {
   "cell_type": "code",
   "execution_count": null,
   "id": "abc779ed-bf20-45f3-90cf-617bbf66f97e",
   "metadata": {},
   "outputs": [],
   "source": [
    "fig, axes = plt.subplots(nrows=1,ncols=4)\n",
    "fig.set_size_inches(15, 4)\n",
    "sns.distplot(X_scaled[:,0],ax=axes[0])\n",
    "sns.distplot(X_scaled[:,1],ax=axes[1])\n",
    "sns.distplot(X_scaled[:,2],ax=axes[2])\n",
    "sns.distplot(X_scaled[:,3],ax=axes[3])\n",
    "\n",
    "axes[0].set(xlabel='SepalLengthCm',title=\"distribution of SepalLengthCm\")\n",
    "axes[1].set(xlabel='SepalWidthCm',title=\"distribution of SepalWidthCm\")\n",
    "axes[2].set(xlabel='PetalLengthCm',title=\"distribution of PetalLengthCm\")\n",
    "axes[3].set(xlabel='PetalWidthCm',title=\"distribution of PetalWidthCm\")"
   ]
  },
  {
   "cell_type": "markdown",
   "id": "e8fc84fd-9eaa-47d2-9fb8-650bfc9ea96a",
   "metadata": {},
   "source": [
    "# RobustScaler"
   ]
  },
  {
   "cell_type": "code",
   "execution_count": null,
   "id": "bba4b8da-da44-46b2-b483-b9a156f174da",
   "metadata": {},
   "outputs": [],
   "source": [
    "from sklearn.preprocessing import RobustScaler\n",
    "\n",
    "scaler = RobustScaler().fit(X)\n",
    "X_scaled = scaler.transform(X)\n",
    "\n",
    "# scaled之後的資料零均值，單位方差  \n",
    "print('資料集 X 的平均值 : ', X.mean(axis=0))\n",
    "print('資料集 X 的標準差 : ', X.std(axis=0))\n",
    "\n",
    "print('\\nRobustScaler 縮放過後資料集 X 的平均值 : ', X_scaled.mean(axis=0))\n",
    "print('RobustScaler 縮放過後資料集 X 的標準差 : ', X_scaled.std(axis=0))"
   ]
  },
  {
   "cell_type": "markdown",
   "id": "35785ba5-18f3-41a4-a543-192921d8605c",
   "metadata": {},
   "source": [
    "視覺化"
   ]
  },
  {
   "cell_type": "code",
   "execution_count": null,
   "id": "79dfe7a4-ea41-4673-b0e6-f2d2d8f48a59",
   "metadata": {},
   "outputs": [],
   "source": [
    "fig, axes = plt.subplots(nrows=1,ncols=4)\n",
    "fig.set_size_inches(15, 4)\n",
    "sns.distplot(X_scaled[:,0],ax=axes[0])\n",
    "sns.distplot(X_scaled[:,1],ax=axes[1])\n",
    "sns.distplot(X_scaled[:,2],ax=axes[2])\n",
    "sns.distplot(X_scaled[:,3],ax=axes[3])\n",
    "\n",
    "axes[0].set(xlabel='SepalLengthCm',title=\"distribution of SepalLengthCm\")\n",
    "axes[1].set(xlabel='SepalWidthCm',title=\"distribution of SepalWidthCm\")\n",
    "axes[2].set(xlabel='PetalLengthCm',title=\"distribution of PetalLengthCm\")\n",
    "axes[3].set(xlabel='PetalWidthCm',title=\"distribution of PetalWidthCm\")"
   ]
  }
 ],
 "metadata": {
  "kernelspec": {
   "display_name": "Python 3 (ipykernel)",
   "language": "python",
   "name": "python3"
  },
  "language_info": {
   "codemirror_mode": {
    "name": "ipython",
    "version": 3
   },
   "file_extension": ".py",
   "mimetype": "text/x-python",
   "name": "python",
   "nbconvert_exporter": "python",
   "pygments_lexer": "ipython3",
   "version": "3.8.11"
  }
 },
 "nbformat": 4,
 "nbformat_minor": 5
}
