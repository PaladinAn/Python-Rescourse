{
 "cells": [
  {
   "cell_type": "code",
   "execution_count": 1,
   "id": "5fc918f4-4148-4462-a1c9-0b7449ff9c6b",
   "metadata": {},
   "outputs": [],
   "source": [
    "%matplotlib inline\n",
    "from sklearn import datasets\n",
    "import numpy as np\n",
    "import pandas as pd\n",
    "import seaborn as sns\n",
    "import io\n",
    "import matplotlib.pyplot as plt\n"
   ]
  },
  {
   "cell_type": "code",
   "execution_count": 4,
   "id": "5f14f6d7-b169-4c78-901b-ce4165332082",
   "metadata": {},
   "outputs": [],
   "source": [
    "# imports\n",
    "import numpy as np\n",
    "import matplotlib.pyplot as plt"
   ]
  },
  {
   "cell_type": "code",
   "execution_count": 5,
   "id": "57f58330-5d0a-477d-b6e1-c8ba8f3352d1",
   "metadata": {},
   "outputs": [],
   "source": [
    "# 亂數產生資料\n",
    "np.random.seed(0)\n",
    "noise = np.random.rand(100, 1)\n",
    "x = np.random.rand(100, 1)\n",
    "y = 3 * x + 15 + noise\n",
    "# y=ax+b Target function  a=3, b=15"
   ]
  },
  {
   "cell_type": "code",
   "execution_count": null,
   "id": "8aa4a106-bf47-4959-b410-81e7575ce66c",
   "metadata": {},
   "outputs": [],
   "source": [
    "# plot\n",
    "plt.scatter(x,y,s=10)\n",
    "plt.xlabel('x')\n",
    "plt.ylabel('y')\n",
    "plt.show()"
   ]
  },
  {
   "cell_type": "code",
   "execution_count": 2,
   "id": "11fdd777-4199-4758-aef4-9a813b0fb3a7",
   "metadata": {},
   "outputs": [],
   "source": [
    "from sklearn.linear_model import LinearRegression"
   ]
  },
  {
   "cell_type": "code",
   "execution_count": 6,
   "id": "c43dc535-2fe1-4c77-a4e1-7c1cefa3bb46",
   "metadata": {},
   "outputs": [],
   "source": [
    "# 建立LinearRegression模型\n",
    "linearMmodel = LinearRegression(fit_intercept=True)\n",
    "# 使用訓練資料訓練模型\n",
    "linearMmodel.fit(x, y)\n",
    "# 使用訓練資料預測\n",
    "predicted = linearMmodel.predict(x)"
   ]
  },
  {
   "cell_type": "markdown",
   "id": "59e568a9-8e40-408d-84ee-04a51db14281",
   "metadata": {},
   "source": [
    "模型評估：R2 score、MSE、MAE、RMSE"
   ]
  },
  {
   "cell_type": "code",
   "execution_count": null,
   "id": "40108b90-a6f1-49cf-95a0-3d61cf1fff67",
   "metadata": {},
   "outputs": [],
   "source": [
    "from sklearn import metrics\n",
    "print('R2 score: ', linearMmodel.score(x, y))\n",
    "mse = metrics.mean_squared_error(y, predicted)\n",
    "print('MSE score: ', mse)"
   ]
  },
  {
   "cell_type": "code",
   "execution_count": null,
   "id": "ae045a32-f562-4934-8ebb-8360a5bf805b",
   "metadata": {},
   "outputs": [],
   "source": [
    "plt.scatter(x, y, s=10, label='True')\n",
    "plt.scatter(x, predicted, color=\"r\",s=10, label='Predicted')\n",
    "plt.xlabel('x')\n",
    "plt.ylabel('y')\n",
    "plt.legend()\n",
    "\n",
    "plt.show()"
   ]
  },
  {
   "cell_type": "code",
   "execution_count": null,
   "id": "b861f0d9-feb7-4969-b6e2-5d012e269809",
   "metadata": {},
   "outputs": [],
   "source": [
    "# 模型的斜率及截距\n",
    "coef = linearMmodel.coef_ \n",
    "intercept = linearMmodel.intercept_\n",
    "\n",
    "print(\"斜率a = \",coef[0][0])\n",
    "print(\"截距b = \",intercept[0])"
   ]
  },
  {
   "cell_type": "markdown",
   "id": "bb0b6a55-27be-4bd0-8917-1640a89152ec",
   "metadata": {},
   "source": [
    "Example 2 (多線性回歸)"
   ]
  },
  {
   "cell_type": "code",
   "execution_count": null,
   "id": "202dd2ac-45eb-41fb-b3bd-8623bcd509ad",
   "metadata": {},
   "outputs": [],
   "source": [
    "rng = np.random.RandomState(1)\n",
    "X = 10 * rng.rand(100, 3)\n",
    "y = 0.5 + np.dot(X, [1.5, -1., 2.])"
   ]
  },
  {
   "cell_type": "code",
   "execution_count": null,
   "id": "0c0b2171-8bff-43f7-b6a4-2b0c67bdb2b6",
   "metadata": {},
   "outputs": [],
   "source": [
    "linearMmodel.fit(X, y)\n",
    "pred = linearMmodel.predict(X)"
   ]
  },
  {
   "cell_type": "code",
   "execution_count": null,
   "id": "e5b4678e-bb2f-4e26-885b-6b9ddd4701bc",
   "metadata": {},
   "outputs": [],
   "source": [
    "print(linearMmodel.intercept_)\n",
    "print(linearMmodel.coef_)"
   ]
  },
  {
   "cell_type": "code",
   "execution_count": null,
   "id": "d0bdbf96-527e-4c6b-a032-6bf2e182c711",
   "metadata": {},
   "outputs": [],
   "source": []
  },
  {
   "cell_type": "code",
   "execution_count": null,
   "id": "c9c984da-7f26-425f-8d43-4a70a508a3eb",
   "metadata": {},
   "outputs": [],
   "source": []
  }
 ],
 "metadata": {
  "kernelspec": {
   "display_name": "Python 3 (ipykernel)",
   "language": "python",
   "name": "python3"
  },
  "language_info": {
   "codemirror_mode": {
    "name": "ipython",
    "version": 3
   },
   "file_extension": ".py",
   "mimetype": "text/x-python",
   "name": "python",
   "nbconvert_exporter": "python",
   "pygments_lexer": "ipython3",
   "version": "3.8.11"
  }
 },
 "nbformat": 4,
 "nbformat_minor": 5
}
