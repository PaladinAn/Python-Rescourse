{
 "cells": [
  {
   "cell_type": "code",
   "execution_count": 1,
   "id": "300ffe19-1f39-412e-8f38-84c95d58623b",
   "metadata": {},
   "outputs": [],
   "source": [
    "%matplotlib inline\n",
    "from sklearn import datasets\n",
    "import numpy as np\n",
    "import pandas as pd\n",
    "import seaborn as sns\n",
    "import io\n",
    "import matplotlib.pyplot as plt\n",
    "\n",
    "from sklearn.ensemble import RandomForestClassifier"
   ]
  },
  {
   "cell_type": "code",
   "execution_count": 2,
   "id": "4e63c32a-42cb-4c56-9178-1777a7f31139",
   "metadata": {},
   "outputs": [],
   "source": [
    "# 讀取資料集\n",
    "iris = datasets.load_iris()\n",
    "df_data = pd.read_csv('iris.csv')"
   ]
  },
  {
   "cell_type": "code",
   "execution_count": null,
   "id": "8d621010-da2b-478e-b989-962bff193033",
   "metadata": {},
   "outputs": [],
   "source": [
    "#  查看檔案\n",
    "df_data"
   ]
  },
  {
   "cell_type": "code",
   "execution_count": 3,
   "id": "507f25d2-79c8-4cd5-a819-55cc39ab8306",
   "metadata": {},
   "outputs": [],
   "source": [
    "# 刪除 標籤ID 因為不參與 運算\n",
    "df_data = df_data.drop(labels=['Id'], axis=1)"
   ]
  },
  {
   "cell_type": "code",
   "execution_count": 4,
   "id": "b835e0c0-b230-42b8-8823-d7e3d9181ed6",
   "metadata": {},
   "outputs": [],
   "source": [
    "# 調整 Species 的值 改成 012 ，讓決策樹可以計算\n",
    "label_map = {'Iris-setosa': 0, 'Iris-versicolor': 1, 'Iris-virginica': 2}\n",
    "\n",
    "#將編碼後的label map存至df_data['Species']中。\n",
    "df_data['Class'] = df_data['Species'].map(label_map)"
   ]
  },
  {
   "cell_type": "code",
   "execution_count": 5,
   "id": "196e52bb-edae-475d-9e0d-1e8468d1c456",
   "metadata": {},
   "outputs": [
    {
     "name": "stdout",
     "output_type": "stream",
     "text": [
      "checked missing data(NAN mount): 0\n"
     ]
    }
   ],
   "source": [
    "# 檢查缺失值\n",
    "print(\"checked missing data(NAN mount):\",len(np.where(np.isnan(9))[0]))\n",
    "# 移除缺失值 train=train.dropna()"
   ]
  },
  {
   "cell_type": "markdown",
   "id": "dcc27d20-4f7b-4eba-b846-62880f8f38f9",
   "metadata": {},
   "source": [
    "3) 設定 X=資料  y=標籤"
   ]
  },
  {
   "cell_type": "code",
   "execution_count": 7,
   "id": "07ccfddf-f3fd-4f41-8013-c55e24cdd317",
   "metadata": {},
   "outputs": [],
   "source": [
    "X = df_data.drop(labels=['Class','Species'],axis=1).values\n",
    "y = df_data['Class'].values"
   ]
  },
  {
   "cell_type": "markdown",
   "id": "d9ead616-36ee-46e7-99f9-1e8e981a10d3",
   "metadata": {},
   "source": [
    "4) 切割訓練集 與 測試集"
   ]
  },
  {
   "cell_type": "code",
   "execution_count": 8,
   "id": "baec8d86-49f5-4e51-81f8-5c26069e5087",
   "metadata": {},
   "outputs": [],
   "source": [
    "from sklearn.model_selection import train_test_split\n",
    "\n",
    "X_train , X_test , y_train , y_test = train_test_split(X, y , test_size=.3 , random_state=42)"
   ]
  },
  {
   "cell_type": "code",
   "execution_count": 9,
   "id": "1523942d-7188-4150-92f1-1595c8d6ca3e",
   "metadata": {},
   "outputs": [
    {
     "name": "stdout",
     "output_type": "stream",
     "text": [
      "Training data shape: (105, 4)\n",
      "Testing data shape: (45, 4)\n"
     ]
    }
   ],
   "source": [
    "print('Training data shape:', X_train.shape)\n",
    "print('Testing data shape:', X_test.shape)"
   ]
  },
  {
   "cell_type": "markdown",
   "id": "6fd51fdc-4204-40b7-bf29-73299ea29cd6",
   "metadata": {},
   "source": [
    "建立模型"
   ]
  },
  {
   "cell_type": "code",
   "execution_count": 10,
   "id": "a5ee9e7d-e28f-4332-aa9f-f8c6c3f6d7a1",
   "metadata": {},
   "outputs": [],
   "source": [
    "rfmc = RandomForestClassifier(n_estimators=5, criterion='gini')\n",
    "# 使用訓練資料訓練模型\n",
    "rfmc.fit(X_train, y_train)\n",
    "# 使用訓練資料預測分類\n",
    "predicted = rfmc.predict(X_train)"
   ]
  },
  {
   "cell_type": "markdown",
   "id": "8da3bd80-58a3-4a29-8f50-ab9e7defa1c9",
   "metadata": {},
   "source": [
    "Score評估模型"
   ]
  },
  {
   "cell_type": "code",
   "execution_count": 11,
   "id": "b1341264-8675-4646-b84a-cb19ba1649e2",
   "metadata": {},
   "outputs": [
    {
     "name": "stdout",
     "output_type": "stream",
     "text": [
      "訓練集:  1.0\n",
      "測試集:  1.0\n"
     ]
    }
   ],
   "source": [
    "print('訓練集: ', rfmc.score(X_train, y_train))\n",
    "print('測試集: ', rfmc.score(X_test, y_test))"
   ]
  },
  {
   "cell_type": "markdown",
   "id": "1e704875-4645-4c05-90ff-f56a0cb97c28",
   "metadata": {},
   "source": [
    "特徵重要程度"
   ]
  },
  {
   "cell_type": "code",
   "execution_count": 12,
   "id": "e96a54ac-0a85-495b-a220-7cde20a3e258",
   "metadata": {},
   "outputs": [
    {
     "name": "stdout",
     "output_type": "stream",
     "text": [
      "特徵重要程度:  [0.17273378 0.02868106 0.25553831 0.54304685]\n"
     ]
    }
   ],
   "source": [
    "print('特徵重要程度: ', rfmc.feature_importances_)"
   ]
  },
  {
   "cell_type": "markdown",
   "id": "2c901ce2-6f09-4991-9708-fcde00842bf3",
   "metadata": {},
   "source": [
    "真實分類"
   ]
  },
  {
   "cell_type": "code",
   "execution_count": 13,
   "id": "aa4dbc65-1eb1-4266-905e-1fc1e49d7136",
   "metadata": {},
   "outputs": [],
   "source": [
    "# 建立訓練集的 DataFrme\n",
    "df_train=pd.DataFrame(X_train)\n",
    "df_train['Class']=y_train\n",
    "# 建立測試集的 DataFrme\n",
    "df_test=pd.DataFrame(X_test)\n",
    "df_test['Class']=y_test"
   ]
  },
  {
   "cell_type": "code",
   "execution_count": null,
   "id": "919d3325-8e34-4bae-8792-2fa36a56844b",
   "metadata": {},
   "outputs": [],
   "source": [
    "sns.lmplot(\"PetalLengthCm\", \"PetalWidthCm\", hue='Class', data=df_train, fit_reg=False)"
   ]
  },
  {
   "cell_type": "markdown",
   "id": "704d4065-597b-4d8e-a0c0-310dec264ff9",
   "metadata": {},
   "source": [
    "隨機森林 (訓練集)預測結果"
   ]
  },
  {
   "cell_type": "code",
   "execution_count": null,
   "id": "ce489eea-49f2-4571-b42e-6df606ab0b81",
   "metadata": {},
   "outputs": [],
   "source": [
    "df_train['Predict']=predicted\n",
    "sns.lmplot(\"PetalLengthCm\", \"PetalWidthCm\", data=df_train, hue=\"Predict\", fit_reg=False)\n",
    "plt.show()"
   ]
  },
  {
   "cell_type": "markdown",
   "id": "a3101164-318e-45e2-8f6c-35f641ca5c22",
   "metadata": {},
   "source": [
    "繪製森林中的每一棵樹"
   ]
  },
  {
   "cell_type": "code",
   "execution_count": null,
   "id": "367181d4-9fe1-42b9-8346-c698b74e0cad",
   "metadata": {},
   "outputs": [],
   "source": [
    "from sklearn import tree\n",
    "featureName=['SepalLengthCm', 'SepalWidthCm', 'PetalLengthCm', 'PetalWidthCm']\n",
    "className=['1','2','3']\n",
    "fig, axes = plt.subplots(nrows = 1,ncols = 5,figsize = (10,2), dpi=900)\n",
    "for index in range(0, 5):\n",
    "    tree.plot_tree(randomForestModel.estimators_[index],\n",
    "                   feature_names = featureName, \n",
    "                   class_names=className,\n",
    "                   filled = True,\n",
    "                   ax = axes[index]);"
   ]
  },
  {
   "cell_type": "code",
   "execution_count": null,
   "id": "d8367b76-9963-4066-a404-8f7e9b5ef36f",
   "metadata": {},
   "outputs": [],
   "source": []
  }
 ],
 "metadata": {
  "kernelspec": {
   "display_name": "Python 3 (ipykernel)",
   "language": "python",
   "name": "python3"
  },
  "language_info": {
   "codemirror_mode": {
    "name": "ipython",
    "version": 3
   },
   "file_extension": ".py",
   "mimetype": "text/x-python",
   "name": "python",
   "nbconvert_exporter": "python",
   "pygments_lexer": "ipython3",
   "version": "3.8.11"
  }
 },
 "nbformat": 4,
 "nbformat_minor": 5
}
