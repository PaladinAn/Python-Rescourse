{
 "cells": [
  {
   "cell_type": "code",
   "execution_count": 12,
   "id": "c6322104-7ce8-4486-804b-afe5085b8d6e",
   "metadata": {},
   "outputs": [],
   "source": [
    "%matplotlib inline\n",
    "from sklearn import datasets\n",
    "import numpy as np\n",
    "import pandas as pd\n",
    "import seaborn as sns\n",
    "import io\n",
    "import matplotlib.pyplot as plt\n",
    "\n",
    "from sklearn.linear_model import LogisticRegression"
   ]
  },
  {
   "cell_type": "code",
   "execution_count": 2,
   "id": "dc38fa2d-0d65-4e5c-9638-ea03106801e9",
   "metadata": {},
   "outputs": [],
   "source": [
    "# 讀取資料集\n",
    "iris = datasets.load_iris()\n",
    "df_data = pd.read_csv('iris.csv')"
   ]
  },
  {
   "cell_type": "code",
   "execution_count": 3,
   "id": "1cd4fc0c-c5af-483e-8873-12428912958a",
   "metadata": {},
   "outputs": [
    {
     "data": {
      "text/html": [
       "<div>\n",
       "<style scoped>\n",
       "    .dataframe tbody tr th:only-of-type {\n",
       "        vertical-align: middle;\n",
       "    }\n",
       "\n",
       "    .dataframe tbody tr th {\n",
       "        vertical-align: top;\n",
       "    }\n",
       "\n",
       "    .dataframe thead th {\n",
       "        text-align: right;\n",
       "    }\n",
       "</style>\n",
       "<table border=\"1\" class=\"dataframe\">\n",
       "  <thead>\n",
       "    <tr style=\"text-align: right;\">\n",
       "      <th></th>\n",
       "      <th>Id</th>\n",
       "      <th>SepalLengthCm</th>\n",
       "      <th>SepalWidthCm</th>\n",
       "      <th>PetalLengthCm</th>\n",
       "      <th>PetalWidthCm</th>\n",
       "      <th>Species</th>\n",
       "    </tr>\n",
       "  </thead>\n",
       "  <tbody>\n",
       "    <tr>\n",
       "      <th>0</th>\n",
       "      <td>1</td>\n",
       "      <td>5.1</td>\n",
       "      <td>3.5</td>\n",
       "      <td>1.4</td>\n",
       "      <td>0.2</td>\n",
       "      <td>Iris-setosa</td>\n",
       "    </tr>\n",
       "    <tr>\n",
       "      <th>1</th>\n",
       "      <td>2</td>\n",
       "      <td>4.9</td>\n",
       "      <td>3.0</td>\n",
       "      <td>1.4</td>\n",
       "      <td>0.2</td>\n",
       "      <td>Iris-setosa</td>\n",
       "    </tr>\n",
       "    <tr>\n",
       "      <th>2</th>\n",
       "      <td>3</td>\n",
       "      <td>4.7</td>\n",
       "      <td>3.2</td>\n",
       "      <td>1.3</td>\n",
       "      <td>0.2</td>\n",
       "      <td>Iris-setosa</td>\n",
       "    </tr>\n",
       "    <tr>\n",
       "      <th>3</th>\n",
       "      <td>4</td>\n",
       "      <td>4.6</td>\n",
       "      <td>3.1</td>\n",
       "      <td>1.5</td>\n",
       "      <td>0.2</td>\n",
       "      <td>Iris-setosa</td>\n",
       "    </tr>\n",
       "    <tr>\n",
       "      <th>4</th>\n",
       "      <td>5</td>\n",
       "      <td>5.0</td>\n",
       "      <td>3.6</td>\n",
       "      <td>1.4</td>\n",
       "      <td>0.2</td>\n",
       "      <td>Iris-setosa</td>\n",
       "    </tr>\n",
       "    <tr>\n",
       "      <th>...</th>\n",
       "      <td>...</td>\n",
       "      <td>...</td>\n",
       "      <td>...</td>\n",
       "      <td>...</td>\n",
       "      <td>...</td>\n",
       "      <td>...</td>\n",
       "    </tr>\n",
       "    <tr>\n",
       "      <th>145</th>\n",
       "      <td>146</td>\n",
       "      <td>6.7</td>\n",
       "      <td>3.0</td>\n",
       "      <td>5.2</td>\n",
       "      <td>2.3</td>\n",
       "      <td>Iris-virginica</td>\n",
       "    </tr>\n",
       "    <tr>\n",
       "      <th>146</th>\n",
       "      <td>147</td>\n",
       "      <td>6.3</td>\n",
       "      <td>2.5</td>\n",
       "      <td>5.0</td>\n",
       "      <td>1.9</td>\n",
       "      <td>Iris-virginica</td>\n",
       "    </tr>\n",
       "    <tr>\n",
       "      <th>147</th>\n",
       "      <td>148</td>\n",
       "      <td>6.5</td>\n",
       "      <td>3.0</td>\n",
       "      <td>5.2</td>\n",
       "      <td>2.0</td>\n",
       "      <td>Iris-virginica</td>\n",
       "    </tr>\n",
       "    <tr>\n",
       "      <th>148</th>\n",
       "      <td>149</td>\n",
       "      <td>6.2</td>\n",
       "      <td>3.4</td>\n",
       "      <td>5.4</td>\n",
       "      <td>2.3</td>\n",
       "      <td>Iris-virginica</td>\n",
       "    </tr>\n",
       "    <tr>\n",
       "      <th>149</th>\n",
       "      <td>150</td>\n",
       "      <td>5.9</td>\n",
       "      <td>3.0</td>\n",
       "      <td>5.1</td>\n",
       "      <td>1.8</td>\n",
       "      <td>Iris-virginica</td>\n",
       "    </tr>\n",
       "  </tbody>\n",
       "</table>\n",
       "<p>150 rows × 6 columns</p>\n",
       "</div>"
      ],
      "text/plain": [
       "      Id  SepalLengthCm  SepalWidthCm  PetalLengthCm  PetalWidthCm  \\\n",
       "0      1            5.1           3.5            1.4           0.2   \n",
       "1      2            4.9           3.0            1.4           0.2   \n",
       "2      3            4.7           3.2            1.3           0.2   \n",
       "3      4            4.6           3.1            1.5           0.2   \n",
       "4      5            5.0           3.6            1.4           0.2   \n",
       "..   ...            ...           ...            ...           ...   \n",
       "145  146            6.7           3.0            5.2           2.3   \n",
       "146  147            6.3           2.5            5.0           1.9   \n",
       "147  148            6.5           3.0            5.2           2.0   \n",
       "148  149            6.2           3.4            5.4           2.3   \n",
       "149  150            5.9           3.0            5.1           1.8   \n",
       "\n",
       "            Species  \n",
       "0       Iris-setosa  \n",
       "1       Iris-setosa  \n",
       "2       Iris-setosa  \n",
       "3       Iris-setosa  \n",
       "4       Iris-setosa  \n",
       "..              ...  \n",
       "145  Iris-virginica  \n",
       "146  Iris-virginica  \n",
       "147  Iris-virginica  \n",
       "148  Iris-virginica  \n",
       "149  Iris-virginica  \n",
       "\n",
       "[150 rows x 6 columns]"
      ]
     },
     "execution_count": 3,
     "metadata": {},
     "output_type": "execute_result"
    }
   ],
   "source": [
    "#  查看檔案\n",
    "df_data"
   ]
  },
  {
   "cell_type": "code",
   "execution_count": 4,
   "id": "3b7198bc-156e-4cb7-9176-86c42b0c25f1",
   "metadata": {},
   "outputs": [],
   "source": [
    "# 刪除 標籤ID 因為不參與 運算\n",
    "df_data = df_data.drop(labels=['Id'], axis=1)"
   ]
  },
  {
   "cell_type": "code",
   "execution_count": 5,
   "id": "3fc7364a-6472-4c2e-83f3-ecd2646ff3b8",
   "metadata": {},
   "outputs": [],
   "source": [
    "# 調整 Species 的值 改成 012 ，讓決策樹可以計算\n",
    "label_map = {'Iris-setosa': 0, 'Iris-versicolor': 1, 'Iris-virginica': 2}\n",
    "\n",
    "#將編碼後的label map存至df_data['Species']中。\n",
    "df_data['Class'] = df_data['Species'].map(label_map)"
   ]
  },
  {
   "cell_type": "code",
   "execution_count": 6,
   "id": "77315003-3a58-468a-abf9-40dfb96387dc",
   "metadata": {},
   "outputs": [
    {
     "name": "stdout",
     "output_type": "stream",
     "text": [
      "checked missing data(NAN mount): 0\n"
     ]
    }
   ],
   "source": [
    "# 檢查缺失值\n",
    "print(\"checked missing data(NAN mount):\",len(np.where(np.isnan(9))[0]))\n",
    "# 移除缺失值 train=train.dropna()"
   ]
  },
  {
   "cell_type": "markdown",
   "id": "135e8362-6000-4881-8b8b-79983907cadd",
   "metadata": {},
   "source": [
    "3) 設定 X=資料  y=標籤"
   ]
  },
  {
   "cell_type": "code",
   "execution_count": 8,
   "id": "735a85b8-39d5-4349-94f2-7071b7a53537",
   "metadata": {},
   "outputs": [],
   "source": [
    "X = df_data.drop(labels=['Class','Species'],axis=1).values\n",
    "y = df_data['Class'].values"
   ]
  },
  {
   "cell_type": "markdown",
   "id": "6cf7aec7-80b6-4bca-afc5-4a4ddcdded7f",
   "metadata": {},
   "source": [
    "4) 切割訓練集 與 測試集"
   ]
  },
  {
   "cell_type": "code",
   "execution_count": 9,
   "id": "bef23f89-ddab-4e42-944c-0dd33cd046ce",
   "metadata": {},
   "outputs": [],
   "source": [
    "from sklearn.model_selection import train_test_split\n",
    "\n",
    "X_train , X_test , y_train , y_test = train_test_split(X, y , test_size=.3 , random_state=42)"
   ]
  },
  {
   "cell_type": "code",
   "execution_count": 10,
   "id": "99d35c6e-3bf2-4584-9650-84dc66f91e3a",
   "metadata": {},
   "outputs": [
    {
     "name": "stdout",
     "output_type": "stream",
     "text": [
      "Training data shape: (105, 4)\n",
      "Testing data shape: (45, 4)\n"
     ]
    }
   ],
   "source": [
    "print('Training data shape:', X_train.shape)\n",
    "print('Testing data shape:', X_test.shape)"
   ]
  },
  {
   "cell_type": "markdown",
   "id": "09687c9b-8e6c-46d2-af24-2f75625feb1a",
   "metadata": {},
   "source": [
    "建立模型"
   ]
  },
  {
   "cell_type": "code",
   "execution_count": 13,
   "id": "d40a3174-9211-4a01-a011-95c509152544",
   "metadata": {},
   "outputs": [],
   "source": [
    "# 建立Logistic模型\n",
    "lgm = LogisticRegression(random_state=0)\n",
    "# 使用訓練資料訓練模型\n",
    "lgm.fit(X_train, y_train)\n",
    "# 使用訓練資料預測分類\n",
    "predicted = lgm.predict(X_train)"
   ]
  },
  {
   "cell_type": "code",
   "execution_count": 15,
   "id": "194c31ec-ae0e-44f6-8c40-94575c25ac03",
   "metadata": {},
   "outputs": [
    {
     "name": "stdout",
     "output_type": "stream",
     "text": [
      "coef [[-0.40467861  0.86071942 -2.28126141 -0.96724374]\n",
      " [ 0.46614353 -0.36969427 -0.18638736 -0.71325556]\n",
      " [-0.06146493 -0.49102514  2.46764877  1.68049931]]\n",
      "intercept [  8.9074466    2.18302894 -11.09047554]\n"
     ]
    }
   ],
   "source": [
    "print('coef', lgm.coef_)\n",
    "print('intercept', lgm.intercept_)"
   ]
  },
  {
   "cell_type": "markdown",
   "id": "b7144ab1-b29e-432e-9049-3516576365f9",
   "metadata": {},
   "source": [
    "Score評估模型"
   ]
  },
  {
   "cell_type": "code",
   "execution_count": 17,
   "id": "6b099af7-a798-4f03-b0af-2ad20b0ce8e6",
   "metadata": {},
   "outputs": [
    {
     "name": "stdout",
     "output_type": "stream",
     "text": [
      "訓練集:  0.9619047619047619\n",
      "測試集:  1.0\n"
     ]
    }
   ],
   "source": [
    "print('訓練集: ', lgm.score(X_train, y_train))\n",
    "print('測試集: ', lgm.score(X_test, y_test))"
   ]
  },
  {
   "cell_type": "markdown",
   "id": "b5c51321-d184-4f96-8d73-29f3c75dab0c",
   "metadata": {},
   "source": [
    "真實分類"
   ]
  },
  {
   "cell_type": "code",
   "execution_count": 19,
   "id": "3ac6ee3d-607d-46e0-9d67-e7796e4db52d",
   "metadata": {},
   "outputs": [],
   "source": [
    "# 建立訓練集的 DataFrme\n",
    "df_train=pd.DataFrame(X_train)\n",
    "df_train['Class']=y_train\n",
    "# 建立測試集的 DataFrme\n",
    "df_test=pd.DataFrame(X_test)\n",
    "df_test['Class']=y_test"
   ]
  },
  {
   "cell_type": "code",
   "execution_count": null,
   "id": "5d95429d-3d72-4acf-b772-932993a2cc50",
   "metadata": {},
   "outputs": [],
   "source": [
    "sns.lmplot(\"PetalLengthCm\", \"PetalWidthCm\", hue='Class', data=df_train, fit_reg=False)"
   ]
  },
  {
   "cell_type": "markdown",
   "id": "5f293481-f4e4-441e-9f70-f8dea22c3df7",
   "metadata": {},
   "source": [
    "Logistic regression (訓練集)預測結果"
   ]
  },
  {
   "cell_type": "code",
   "execution_count": null,
   "id": "f369474f-b673-4ef8-a8e4-69f9d3db9ef9",
   "metadata": {},
   "outputs": [],
   "source": [
    "df_train['Predict']=predicted\n",
    "sns.lmplot(\"PetalLengthCm\", \"PetalWidthCm\", data=df_train, hue=\"Predict\", fit_reg=False)\n",
    "plt.show()"
   ]
  },
  {
   "cell_type": "markdown",
   "id": "0d7027b2-d623-4770-a820-e59082d9ce78",
   "metadata": {},
   "source": [
    "視覺化-一維適用下面代碼"
   ]
  },
  {
   "cell_type": "code",
   "execution_count": null,
   "id": "1b0a27db-8999-4337-a769-f961f8bcb80b",
   "metadata": {},
   "outputs": [],
   "source": [
    "w1=float(lgm.coef_)\n",
    "w0=float(lgm.intercept_)\n",
    "\n",
    "def sigmoid(x,wo,w1):\n",
    "    ln_odds=wo+w1*x\n",
    "    return 1/(1+np.exp(-ln_odds))\n",
    "\n",
    "x=np.arange(0,10,1)\n",
    "s_x=sigmoid(x,w0,w1)\n",
    "plt.plot(x,s_x)\n",
    "plt.axhline(y=0.5, ls='dotted', color='k')"
   ]
  },
  {
   "cell_type": "code",
   "execution_count": null,
   "id": "e98bc50f-8296-46cc-84c7-a8d0af06d0b9",
   "metadata": {},
   "outputs": [],
   "source": []
  }
 ],
 "metadata": {
  "kernelspec": {
   "display_name": "Python 3 (ipykernel)",
   "language": "python",
   "name": "python3"
  },
  "language_info": {
   "codemirror_mode": {
    "name": "ipython",
    "version": 3
   },
   "file_extension": ".py",
   "mimetype": "text/x-python",
   "name": "python",
   "nbconvert_exporter": "python",
   "pygments_lexer": "ipython3",
   "version": "3.8.11"
  }
 },
 "nbformat": 4,
 "nbformat_minor": 5
}
