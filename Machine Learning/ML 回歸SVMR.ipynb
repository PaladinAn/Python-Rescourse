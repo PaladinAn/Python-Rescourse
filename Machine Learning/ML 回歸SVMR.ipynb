{
 "cells": [
  {
   "cell_type": "markdown",
   "id": "c261eac7-1802-4482-bfbb-71dac7993e0e",
   "metadata": {},
   "source": [
    "簡單線性回歸"
   ]
  },
  {
   "cell_type": "code",
   "execution_count": null,
   "id": "c9b019a9-a51d-4cd4-bfde-507b27165118",
   "metadata": {},
   "outputs": [],
   "source": [
    "# imports\n",
    "import numpy as np\n",
    "import matplotlib.pyplot as plt"
   ]
  },
  {
   "cell_type": "code",
   "execution_count": null,
   "id": "02847e4b-ef1a-41d6-bc63-e0c6e63e03a1",
   "metadata": {},
   "outputs": [],
   "source": [
    "# 亂數產生資料\n",
    "np.random.seed(0)\n",
    "noise = np.random.rand(100, 1)\n",
    "x = np.random.rand(100, 1)\n",
    "y = 3 * x + 15 + noise\n",
    "# y=ax+b Target function  a=3, b=15"
   ]
  },
  {
   "cell_type": "code",
   "execution_count": null,
   "id": "111f668a-349e-44b7-bb38-6f133d2ecf33",
   "metadata": {},
   "outputs": [],
   "source": [
    "# plot\n",
    "plt.scatter(x,y,s=10)\n",
    "plt.xlabel('x')\n",
    "plt.ylabel('y')\n",
    "plt.show()"
   ]
  },
  {
   "cell_type": "markdown",
   "id": "b44c9899-52b1-4e5a-a235-9053e56891f3",
   "metadata": {},
   "source": [
    "# Support Vector Regression, SVR\n",
    "- 只要f(x)與y偏離程度不要太大，既可以認為預測正確\n",
    "- 三種不同SVR迴歸器:\n",
    "\n",
    "- kernel='linear' (線性)\n",
    "- kernel='poly' (非線性)\n",
    "- kernel='rbf' (非線性)"
   ]
  },
  {
   "cell_type": "code",
   "execution_count": null,
   "id": "2d9a8e23-073b-4a06-82cb-67e63dc5a299",
   "metadata": {},
   "outputs": [],
   "source": [
    "from sklearn import svm"
   ]
  },
  {
   "cell_type": "code",
   "execution_count": null,
   "id": "a51542e4-915e-47f2-8b80-50b162e243ec",
   "metadata": {},
   "outputs": [],
   "source": [
    "# 建立SVR模型\n",
    "svmr = svm.SVR(C=1, kernel='linear')\n",
    "# 使用訓練資料訓練模型\n",
    "svmr.fit(x, y)\n",
    "# 使用訓練資料預測\n",
    "predicted = svmr.predict(x)"
   ]
  },
  {
   "cell_type": "markdown",
   "id": "3dbb10a9-2351-4323-9566-6fd9e7467dac",
   "metadata": {},
   "source": [
    "模型評估  .score\n",
    "- from sklearn import metrics\n",
    "- R2 MSE MAE RMSE"
   ]
  },
  {
   "cell_type": "code",
   "execution_count": null,
   "id": "de7e3768-2b0a-48f7-a72d-e1218c65c79e",
   "metadata": {},
   "outputs": [],
   "source": [
    "print('R2 score: ', knnModel.score(x, y))\n",
    "mse = metrics.mean_squared_error(y, predicted)\n",
    "print('MSE score: ', mse)"
   ]
  },
  {
   "cell_type": "code",
   "execution_count": null,
   "id": "cd88324c-d110-47bd-a36a-149f2a361cae",
   "metadata": {},
   "outputs": [],
   "source": [
    "# plot\n",
    "plt.scatter(x, y, s=10, label='True')\n",
    "plt.scatter(x, predicted, color=\"r\",s=10, label='Predicted')\n",
    "plt.xlabel('x')\n",
    "plt.ylabel('y')\n",
    "plt.legend()\n",
    "plt.show()"
   ]
  },
  {
   "cell_type": "markdown",
   "id": "7c71f885-1dc6-4c03-a8d5-8e7fee40dcb4",
   "metadata": {},
   "source": [
    "# Example 2 非線性回歸情況"
   ]
  },
  {
   "cell_type": "code",
   "execution_count": null,
   "id": "d570ec30-6b82-4531-95ee-d10c3e9422ea",
   "metadata": {},
   "outputs": [],
   "source": [
    "# 假設情況\n",
    "\n",
    "x = np.array([[1.40280301e-01],[9.03857692e-01],[5.35815131e-01],[3.58391981e-01],[2.43418162e-02],[2.43342904e-02],[3.37370600e-03],[7.50261116e-01],[3.61339257e-01],[5.01366775e-01],[4.23721405e-04],[9.40725121e-01],[6.92960750e-01],[4.50878979e-02],[3.30603187e-02],[3.36372142e-02],[9.25633424e-02],[2.75369313e-01],[1.86576499e-01],[8.48144121e-02],[3.74363965e-01],[1.94585372e-02],[8.53484957e-02],[1.34221000e-01],[2.07999831e-01],[6.16501290e-01],[3.98696193e-02],[2.64437058e-01],[3.50955021e-01],[2.15764084e-03],[3.69110747e-01],[2.90784768e-02],[4.23170975e-03],[9.00383763e-01],[9.32445223e-01],[6.53506272e-01],[9.27895484e-02],[9.53984185e-03],[4.68174835e-01],[1.93734218e-01]])\n",
    "y = np.array([ 5.82469676e+00,  7.94613194e+00,  9.24976070e+00,  6.59761731e+00,\n",
    "        2.16651685e+00, -2.50365745e-03, -1.00182588e+00,  9.02075194e+00,\n",
    "        8.57086436e+00,  8.50848958e+00, -7.34549241e-02,  8.73802779e+00,\n",
    "        7.26038154e+00,  2.38778217e+00,  2.02397265e+00,  3.57417666e+00,\n",
    "        5.15052189e+00,  5.57291682e+00,  6.83461431e+00,  4.20408429e+00,\n",
    "        7.21499207e+00,  2.24057093e+00,  5.63575746e+00,  6.66180813e+00,\n",
    "        5.91402744e+00,  8.29511673e+00,  3.18174801e+00,  8.23158707e+00,\n",
    "        7.30330971e+00,  2.55480191e-02,  6.76197223e+00,  1.05656839e+00,\n",
    "        1.21851645e+00,  1.03566236e+01,  8.95941549e+00,  9.67640393e+00,\n",
    "        5.17463285e+00,  2.25781800e-01,  8.60137397e+00,  8.13359834e+00])"
   ]
  },
  {
   "cell_type": "markdown",
   "id": "8d3fd76f-cba7-4544-8b75-307b898d1265",
   "metadata": {},
   "source": [
    "kernel='linear'"
   ]
  },
  {
   "cell_type": "code",
   "execution_count": null,
   "id": "cf0a6f92-fff5-4d86-8068-ae70283b7a26",
   "metadata": {},
   "outputs": [],
   "source": [
    "linearModel=svm.SVR(C=1, kernel='linear')\n",
    "linearModel.fit(x, y)\n",
    "\n",
    "x_test = np.linspace(-0.1,1.1,500)[:,None]\n",
    "predicted=linearModel.predict(x_test)\n",
    "plt.scatter(x.ravel(),y)\n",
    "plt.plot(x_test,predicted,label='kernel=linear', color='r')\n",
    "plt.legend(loc='best')"
   ]
  },
  {
   "cell_type": "markdown",
   "id": "ce1c29a5-8be8-4c10-8912-07b86c0a1493",
   "metadata": {},
   "source": [
    "kernel='poly'"
   ]
  },
  {
   "cell_type": "code",
   "execution_count": null,
   "id": "630ec07d-78aa-4796-86b5-5bde3a4a2731",
   "metadata": {},
   "outputs": [],
   "source": [
    "polyModel=svm.SVR(C=1, kernel='poly', degree=3, gamma='auto')\n",
    "polyModel.fit(x, y)\n",
    "\n",
    "\n",
    "x_test = np.linspace(-0.1,1.1,500)[:,None]\n",
    "predicted=polyModel.predict(x_test)\n",
    "plt.scatter(x.ravel(),y)\n",
    "plt.plot(x_test,predicted,label='kernel=poly', color='r')\n",
    "plt.legend(loc='best')"
   ]
  },
  {
   "cell_type": "markdown",
   "id": "b56646cf-868d-4b98-aa5f-5b4d4144ff3f",
   "metadata": {},
   "source": [
    "kernel='rbf'"
   ]
  },
  {
   "cell_type": "code",
   "execution_count": null,
   "id": "089da07a-e43e-42af-a5ea-c20e2e78a57d",
   "metadata": {},
   "outputs": [],
   "source": [
    "rbfModel=svm.SVR(C=1, kernel='rbf', gamma='auto')\n",
    "rbfModel.fit(x, y)\n",
    "\n",
    "\n",
    "x_test = np.linspace(-0.1,1.1,500)[:,None]\n",
    "predicted=rbfModel.predict(x_test)\n",
    "plt.scatter(x.ravel(),y)\n",
    "plt.plot(x_test,predicted,label='kernel=rbf', color='r')\n",
    "plt.legend(loc='best')"
   ]
  }
 ],
 "metadata": {
  "kernelspec": {
   "display_name": "Python 3 (ipykernel)",
   "language": "python",
   "name": "python3"
  },
  "language_info": {
   "codemirror_mode": {
    "name": "ipython",
    "version": 3
   },
   "file_extension": ".py",
   "mimetype": "text/x-python",
   "name": "python",
   "nbconvert_exporter": "python",
   "pygments_lexer": "ipython3",
   "version": "3.8.11"
  }
 },
 "nbformat": 4,
 "nbformat_minor": 5
}
