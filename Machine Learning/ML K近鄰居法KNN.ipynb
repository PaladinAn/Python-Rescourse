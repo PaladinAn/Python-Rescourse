{
 "cells": [
  {
   "cell_type": "code",
   "execution_count": 1,
   "id": "c38b6c0d-e811-4e28-84ea-de9738ddf2e2",
   "metadata": {},
   "outputs": [],
   "source": [
    "%matplotlib inline\n",
    "from sklearn import datasets\n",
    "import numpy as np\n",
    "import pandas as pd\n",
    "import seaborn as sns\n",
    "import io\n",
    "import matplotlib.pyplot as plt\n",
    "\n",
    "from sklearn.neighbors import KNeighborsClassifier"
   ]
  },
  {
   "cell_type": "code",
   "execution_count": 2,
   "id": "a3c1259d-d5b0-408c-b0de-4a35de04d220",
   "metadata": {},
   "outputs": [],
   "source": [
    "# 讀取資料集\n",
    "iris = datasets.load_iris()\n",
    "df_data = pd.read_csv('iris.csv')"
   ]
  },
  {
   "cell_type": "code",
   "execution_count": null,
   "id": "459cac00-9e88-4eae-9674-5faa92790f6e",
   "metadata": {},
   "outputs": [],
   "source": [
    "#  查看檔案\n",
    "df_data"
   ]
  },
  {
   "cell_type": "code",
   "execution_count": 3,
   "id": "09049787-41cd-44ae-8d18-2a53651bf9b6",
   "metadata": {},
   "outputs": [],
   "source": [
    "# 刪除 標籤ID 因為不參與 運算\n",
    "df_data = df_data.drop(labels=['Id'], axis=1)"
   ]
  },
  {
   "cell_type": "code",
   "execution_count": 4,
   "id": "9120cf03-236e-4437-a716-02c833aa6c4d",
   "metadata": {},
   "outputs": [],
   "source": [
    "# 調整 種類資料 Species 的值 改成 012 ，讓決策樹可以計算\n",
    "label_map = {'Iris-setosa': 0, 'Iris-versicolor': 1, 'Iris-virginica': 2}\n",
    "\n",
    "#將編碼後的label map存至df_data['Species']中。\n",
    "df_data['Class'] = df_data['Species'].map(label_map)"
   ]
  },
  {
   "cell_type": "code",
   "execution_count": 5,
   "id": "046176d4-8a0c-40f1-9cdf-d06c4e4661db",
   "metadata": {},
   "outputs": [
    {
     "name": "stdout",
     "output_type": "stream",
     "text": [
      "checked missing data(NAN mount): 0\n"
     ]
    }
   ],
   "source": [
    "# 檢查缺失值\n",
    "print(\"checked missing data(NAN mount):\",len(np.where(np.isnan(9))[0]))\n",
    "# 移除缺失值 train=train.dropna()"
   ]
  },
  {
   "cell_type": "markdown",
   "id": "da64dfcd-d673-4c67-8b03-17ad1954efb2",
   "metadata": {},
   "source": [
    "3) 設定 X=資料  y=標籤"
   ]
  },
  {
   "cell_type": "code",
   "execution_count": 6,
   "id": "7a50193a-2993-4fcf-99a2-866ca830231c",
   "metadata": {},
   "outputs": [],
   "source": [
    "X = df_data.drop(labels=['Class','Species'],axis=1).values\n",
    "y = df_data['Class'].values"
   ]
  },
  {
   "cell_type": "markdown",
   "id": "ead7d28a-95a1-4753-8ad0-c3f922957e1c",
   "metadata": {},
   "source": [
    "4) 切割訓練集 與 測試集"
   ]
  },
  {
   "cell_type": "code",
   "execution_count": 7,
   "id": "11e3428f-c536-4ac1-8e41-8d7732031050",
   "metadata": {},
   "outputs": [],
   "source": [
    "from sklearn.model_selection import train_test_split\n",
    "\n",
    "X_train , X_test , y_train , y_test = train_test_split(X, y , test_size=.3 , random_state=42)"
   ]
  },
  {
   "cell_type": "code",
   "execution_count": 8,
   "id": "4800fa8d-53a6-43b8-a1df-c964f739275d",
   "metadata": {},
   "outputs": [
    {
     "name": "stdout",
     "output_type": "stream",
     "text": [
      "Training data shape: (105, 4)\n",
      "Testing data shape: (45, 4)\n"
     ]
    }
   ],
   "source": [
    "print('Training data shape:', X_train.shape)\n",
    "print('Testing data shape:', X_test.shape)"
   ]
  },
  {
   "cell_type": "markdown",
   "id": "a81198a0-6381-44fe-b9a3-53c35ee419eb",
   "metadata": {},
   "source": [
    "建立模型\n",
    "- n_neighbors = k個鄰居\n",
    "- p = 1→曼哈頓距離 / 2→歐基里德距離 / 其他: 明氏距離"
   ]
  },
  {
   "cell_type": "code",
   "execution_count": 9,
   "id": "badf46ab-129d-45cd-a032-c142dcc5bb85",
   "metadata": {},
   "outputs": [],
   "source": [
    "# 建立KNN模型\n",
    "knn = KNeighborsClassifier(n_neighbors=3)\n",
    "# 使用訓練資料訓練模型\n",
    "knn.fit(X_train,y_train)\n",
    "# 使用訓練資料預測分類\n",
    "predicted= knn.predict(X_train)"
   ]
  },
  {
   "cell_type": "markdown",
   "id": "441bd9ad-78de-4d77-a626-77ab44e7a905",
   "metadata": {},
   "source": [
    "Score評估模型"
   ]
  },
  {
   "cell_type": "code",
   "execution_count": 10,
   "id": "2c229060-8839-403b-b252-e136f93a8ead",
   "metadata": {},
   "outputs": [
    {
     "name": "stdout",
     "output_type": "stream",
     "text": [
      "訓練集:  0.9428571428571428\n",
      "測試集:  1.0\n"
     ]
    }
   ],
   "source": [
    "print('訓練集: ', knn.score(X_train, y_train))\n",
    "print('測試集: ', knn.score(X_test, y_test))"
   ]
  },
  {
   "cell_type": "markdown",
   "id": "a6397a8b-e16d-41da-9a4c-3f3d1f85851b",
   "metadata": {},
   "source": [
    "# 尋找合適的K\n",
    "- from sklearn import metrics"
   ]
  },
  {
   "cell_type": "code",
   "execution_count": 11,
   "id": "c866b69e-d0cb-41a4-ab9d-581a74a6480b",
   "metadata": {},
   "outputs": [
    {
     "data": {
      "text/plain": [
       "105"
      ]
     },
     "execution_count": 11,
     "metadata": {},
     "output_type": "execute_result"
    }
   ],
   "source": [
    "len(X_train)"
   ]
  },
  {
   "cell_type": "code",
   "execution_count": 13,
   "id": "fc304e4c-6569-4c92-af75-c48b54ae889c",
   "metadata": {},
   "outputs": [
    {
     "data": {
      "image/png": "[encoded data removed]",
      "text/plain": [
       "<Figure size 432x288 with 1 Axes>"
      ]
     },
     "metadata": {
      "needs_background": "light"
     },
     "output_type": "display_data"
    }
   ],
   "source": [
    "from sklearn import metrics\n",
    "\n",
    "accuracy = []\n",
    "\n",
    "for k in range(1, 100):\n",
    "    knn = KNeighborsClassifier(n_neighbors=k) \n",
    "    knn.fit(X_train, y_train)                 \n",
    "    y_pred = knn.predict(X_test)              \n",
    "    accuracy.append(metrics.accuracy_score(y_test, y_pred)) \n",
    "\n",
    "k_range = range(1,100)\n",
    "plt.plot(k_range, accuracy)\n",
    "plt.show()"
   ]
  },
  {
   "cell_type": "markdown",
   "id": "9d8cf70f-9bfc-46c7-b5b0-b6ccb2271b74",
   "metadata": {},
   "source": [
    "真實分類"
   ]
  },
  {
   "cell_type": "code",
   "execution_count": null,
   "id": "31c33f1e-f73c-4434-863a-c066ce689554",
   "metadata": {},
   "outputs": [],
   "source": [
    "# 建立訓練集的 DataFrme\n",
    "df_train=pd.DataFrame(X_train)\n",
    "df_train['Class']=y_train\n",
    "# 建立測試集的 DataFrme\n",
    "df_test=pd.DataFrame(X_test)\n",
    "df_test['Class']=y_test"
   ]
  },
  {
   "cell_type": "code",
   "execution_count": null,
   "id": "b4213743-e9f1-46aa-aa0d-c0f96164808e",
   "metadata": {},
   "outputs": [],
   "source": [
    "sns.lmplot(\"PetalLengthCm\", \"PetalWidthCm\", hue='Class', data=df_train, fit_reg=False)"
   ]
  },
  {
   "cell_type": "markdown",
   "id": "f172dd91-97e5-4c0c-ad5b-d472e4fd6ef6",
   "metadata": {},
   "source": [
    "KNN (訓練集)預測結果"
   ]
  },
  {
   "cell_type": "code",
   "execution_count": null,
   "id": "eb6c9828-eaee-495d-be53-102a5e01b6dc",
   "metadata": {},
   "outputs": [],
   "source": [
    "df_train['Predict']=predicted\n",
    "sns.lmplot(\"PetalLengthCm\", \"PetalWidthCm\", data=df_train, hue=\"Predict\", fit_reg=False)\n",
    "plt.show()"
   ]
  },
  {
   "cell_type": "markdown",
   "id": "7330f75b-e2a4-4ec2-8a53-0c20dce9b9c1",
   "metadata": {},
   "source": [
    "查看不同的K分類結果\n",
    "- 為了方便視覺化我們將原有的測試集特徵使用PCA降成2維。接著觀察在不同 K 的狀況下，分類的情形為何。"
   ]
  },
  {
   "cell_type": "code",
   "execution_count": 14,
   "id": "fa5e67ea-0041-48d6-85bb-78c9ec1c979d",
   "metadata": {},
   "outputs": [],
   "source": [
    "\n",
    "from matplotlib.colors import ListedColormap\n",
    "\n",
    "def plot_decision_regions(X, y, classifier, test_idx = None, resolution=0.02):\n",
    "    # setup marker generator and color map\n",
    "    markers = ('s','x','o','^','v')\n",
    "    colors = ('red','blue','lightgreen','gray','cyan')\n",
    "    cmap = ListedColormap(colors[:len(np.unique(y))])\n",
    "\n",
    "    # plot the decision surface\n",
    "    x1_min, x1_max = X[:,0].min() - 1, X[:,0].max() + 1\n",
    "    x2_min, x2_max = X[:,1].min() - 1, X[:,1].max() + 1\n",
    "\n",
    "    xx1, xx2 = np.meshgrid(np.arange(x1_min,x1_max,resolution),\n",
    "                            np.arange(x2_min,x2_max,resolution))\n",
    "\n",
    "    Z = classifier.predict(np.array([xx1.ravel(),xx2.ravel()]).T)\n",
    "\n",
    "    Z = Z.reshape(xx1.shape)\n",
    "\n",
    "    plt.contourf(xx1, xx2, Z, alpha=0.4, cmap=cmap)\n",
    "    plt.xlim(xx1.min(),xx1.max())\n",
    "    plt.ylim(xx2.min(),xx2.max())\n",
    "\n",
    "    for idx, cl in enumerate(np.unique(y)):\n",
    "        plt.scatter(x=X[y==cl,0], y=X[y==cl,1],\n",
    "            alpha=0.8, c=[cmap(idx)], marker=markers[idx],label=cl)\n",
    "    if test_idx:\n",
    "        X_test, y_test = X[test_idx,:], y[test_idx]\n",
    "        plt.scatter(X_test[:, 0], X_test[:,1], c='',\n",
    "            alpha=1.0, linewidth=1, marker='o',\n",
    "            s=55, label='test set')"
   ]
  },
  {
   "cell_type": "code",
   "execution_count": 15,
   "id": "23d31617-a2b3-4a62-b0f5-350b49b918f0",
   "metadata": {},
   "outputs": [],
   "source": [
    "def knn_model(plot_dict, X, y, k):\n",
    "    #create model\n",
    "    model = KNeighborsClassifier(n_neighbors=k)\n",
    "\n",
    "    #training\n",
    "    model.fit(X, y)\n",
    "\n",
    "    # Plot the decision boundary. For that, we will assign a color to each\n",
    "    if k in plot_dict:\n",
    "        plt.subplot(plot_dict[k])\n",
    "        plt.tight_layout()\n",
    "        plot_decision_regions(X,y,model)\n",
    "        plt.title('Plot for K: %d'%k )"
   ]
  },
  {
   "cell_type": "code",
   "execution_count": 16,
   "id": "7f2bc10b-864a-4566-94fc-d867e9d8a02a",
   "metadata": {},
   "outputs": [],
   "source": [
    "from sklearn.decomposition import PCA\n",
    "pca = PCA(n_components=2, iterated_power=1)\n",
    "train_reduced = pca.fit_transform(X_train)\n",
    "test_reduced = pca.fit_transform(X_test)"
   ]
  },
  {
   "cell_type": "markdown",
   "id": "877dd0ee-2561-4ce0-b6bf-d851a04c07a8",
   "metadata": {},
   "source": [
    "KNN 訓練集 PCA 2 features"
   ]
  },
  {
   "cell_type": "code",
   "execution_count": 17,
   "id": "801b7dc0-9ea0-4cf1-a90c-9e8debb8de03",
   "metadata": {},
   "outputs": [
    {
     "data": {
      "image/png": "[encoded data removed]",
      "text/plain": [
       "<Figure size 612x432 with 6 Axes>"
      ]
     },
     "metadata": {
      "needs_background": "light"
     },
     "output_type": "display_data"
    }
   ],
   "source": [
    "plt.figure(figsize=(8.5, 6))\n",
    "\n",
    "# 調整 K\n",
    "plot_dict = {1:231,2:232,3:233,6:234,10:235,15:236}\n",
    "for i in plot_dict:\n",
    "    knn_model(plot_dict, train_reduced, y_train, i)"
   ]
  },
  {
   "cell_type": "code",
   "execution_count": null,
   "id": "aa964997-a602-432c-be0e-94c849af2d04",
   "metadata": {},
   "outputs": [],
   "source": []
  }
 ],
 "metadata": {
  "kernelspec": {
   "display_name": "Python 3 (ipykernel)",
   "language": "python",
   "name": "python3"
  },
  "language_info": {
   "codemirror_mode": {
    "name": "ipython",
    "version": 3
   },
   "file_extension": ".py",
   "mimetype": "text/x-python",
   "name": "python",
   "nbconvert_exporter": "python",
   "pygments_lexer": "ipython3",
   "version": "3.8.11"
  }
 },
 "nbformat": 4,
 "nbformat_minor": 5
}
