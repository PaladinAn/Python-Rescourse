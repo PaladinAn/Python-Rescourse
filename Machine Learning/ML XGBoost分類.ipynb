{
 "cells": [
  {
   "cell_type": "code",
   "execution_count": 2,
   "id": "32de6c87-3567-456d-b8b3-e94f0913d31e",
   "metadata": {},
   "outputs": [],
   "source": [
    "%matplotlib inline\n",
    "from sklearn import datasets\n",
    "import numpy as np\n",
    "import pandas as pd\n",
    "import seaborn as sns\n",
    "import io\n",
    "import matplotlib.pyplot as plt\n",
    "\n",
    "from xgboost import XGBClassifier"
   ]
  },
  {
   "cell_type": "code",
   "execution_count": 3,
   "id": "3d3dc167-7ad0-4a69-b33e-21a26372787a",
   "metadata": {},
   "outputs": [],
   "source": [
    "# 讀取資料集\n",
    "iris = datasets.load_iris()\n",
    "df_data = pd.read_csv('iris.csv')"
   ]
  },
  {
   "cell_type": "code",
   "execution_count": null,
   "id": "9c9f53de-b7e6-4a29-b626-0eb5614ac2cb",
   "metadata": {},
   "outputs": [],
   "source": [
    "#  查看檔案\n",
    "df_data"
   ]
  },
  {
   "cell_type": "code",
   "execution_count": 4,
   "id": "cfb30e16-e7ea-40f9-b8e0-f9e5386096d6",
   "metadata": {},
   "outputs": [],
   "source": [
    "# 刪除 標籤ID 因為不參與 運算\n",
    "df_data = df_data.drop(labels=['Id'], axis=1)"
   ]
  },
  {
   "cell_type": "code",
   "execution_count": 5,
   "id": "d8728955-057c-4c75-bbab-64210d5456cf",
   "metadata": {},
   "outputs": [],
   "source": [
    "# 調整 Species 的值 改成 012 ，讓決策樹可以計算\n",
    "label_map = {'Iris-setosa': 0, 'Iris-versicolor': 1, 'Iris-virginica': 2}\n",
    "\n",
    "#將編碼後的label map存至df_data['Species']中。\n",
    "df_data['Class'] = df_data['Species'].map(label_map)"
   ]
  },
  {
   "cell_type": "code",
   "execution_count": 6,
   "id": "b8be2d37-4a03-4c53-8830-887cea8c4fbe",
   "metadata": {},
   "outputs": [
    {
     "name": "stdout",
     "output_type": "stream",
     "text": [
      "checked missing data(NAN mount): 0\n"
     ]
    }
   ],
   "source": [
    "# 檢查缺失值\n",
    "print(\"checked missing data(NAN mount):\",len(np.where(np.isnan(9))[0]))\n",
    "# 移除缺失值 train=train.dropna()"
   ]
  },
  {
   "cell_type": "code",
   "execution_count": 7,
   "id": "9b934873-aca3-4300-a764-aeb2e0679250",
   "metadata": {},
   "outputs": [
    {
     "data": {
      "text/html": [
       "<div>\n",
       "<style scoped>\n",
       "    .dataframe tbody tr th:only-of-type {\n",
       "        vertical-align: middle;\n",
       "    }\n",
       "\n",
       "    .dataframe tbody tr th {\n",
       "        vertical-align: top;\n",
       "    }\n",
       "\n",
       "    .dataframe thead th {\n",
       "        text-align: right;\n",
       "    }\n",
       "</style>\n",
       "<table border=\"1\" class=\"dataframe\">\n",
       "  <thead>\n",
       "    <tr style=\"text-align: right;\">\n",
       "      <th></th>\n",
       "      <th>SepalLengthCm</th>\n",
       "      <th>SepalWidthCm</th>\n",
       "      <th>PetalLengthCm</th>\n",
       "      <th>PetalWidthCm</th>\n",
       "      <th>Species</th>\n",
       "      <th>Class</th>\n",
       "    </tr>\n",
       "  </thead>\n",
       "  <tbody>\n",
       "    <tr>\n",
       "      <th>0</th>\n",
       "      <td>5.1</td>\n",
       "      <td>3.5</td>\n",
       "      <td>1.4</td>\n",
       "      <td>0.2</td>\n",
       "      <td>Iris-setosa</td>\n",
       "      <td>0</td>\n",
       "    </tr>\n",
       "    <tr>\n",
       "      <th>1</th>\n",
       "      <td>4.9</td>\n",
       "      <td>3.0</td>\n",
       "      <td>1.4</td>\n",
       "      <td>0.2</td>\n",
       "      <td>Iris-setosa</td>\n",
       "      <td>0</td>\n",
       "    </tr>\n",
       "    <tr>\n",
       "      <th>2</th>\n",
       "      <td>4.7</td>\n",
       "      <td>3.2</td>\n",
       "      <td>1.3</td>\n",
       "      <td>0.2</td>\n",
       "      <td>Iris-setosa</td>\n",
       "      <td>0</td>\n",
       "    </tr>\n",
       "    <tr>\n",
       "      <th>3</th>\n",
       "      <td>4.6</td>\n",
       "      <td>3.1</td>\n",
       "      <td>1.5</td>\n",
       "      <td>0.2</td>\n",
       "      <td>Iris-setosa</td>\n",
       "      <td>0</td>\n",
       "    </tr>\n",
       "    <tr>\n",
       "      <th>4</th>\n",
       "      <td>5.0</td>\n",
       "      <td>3.6</td>\n",
       "      <td>1.4</td>\n",
       "      <td>0.2</td>\n",
       "      <td>Iris-setosa</td>\n",
       "      <td>0</td>\n",
       "    </tr>\n",
       "    <tr>\n",
       "      <th>...</th>\n",
       "      <td>...</td>\n",
       "      <td>...</td>\n",
       "      <td>...</td>\n",
       "      <td>...</td>\n",
       "      <td>...</td>\n",
       "      <td>...</td>\n",
       "    </tr>\n",
       "    <tr>\n",
       "      <th>145</th>\n",
       "      <td>6.7</td>\n",
       "      <td>3.0</td>\n",
       "      <td>5.2</td>\n",
       "      <td>2.3</td>\n",
       "      <td>Iris-virginica</td>\n",
       "      <td>2</td>\n",
       "    </tr>\n",
       "    <tr>\n",
       "      <th>146</th>\n",
       "      <td>6.3</td>\n",
       "      <td>2.5</td>\n",
       "      <td>5.0</td>\n",
       "      <td>1.9</td>\n",
       "      <td>Iris-virginica</td>\n",
       "      <td>2</td>\n",
       "    </tr>\n",
       "    <tr>\n",
       "      <th>147</th>\n",
       "      <td>6.5</td>\n",
       "      <td>3.0</td>\n",
       "      <td>5.2</td>\n",
       "      <td>2.0</td>\n",
       "      <td>Iris-virginica</td>\n",
       "      <td>2</td>\n",
       "    </tr>\n",
       "    <tr>\n",
       "      <th>148</th>\n",
       "      <td>6.2</td>\n",
       "      <td>3.4</td>\n",
       "      <td>5.4</td>\n",
       "      <td>2.3</td>\n",
       "      <td>Iris-virginica</td>\n",
       "      <td>2</td>\n",
       "    </tr>\n",
       "    <tr>\n",
       "      <th>149</th>\n",
       "      <td>5.9</td>\n",
       "      <td>3.0</td>\n",
       "      <td>5.1</td>\n",
       "      <td>1.8</td>\n",
       "      <td>Iris-virginica</td>\n",
       "      <td>2</td>\n",
       "    </tr>\n",
       "  </tbody>\n",
       "</table>\n",
       "<p>150 rows × 6 columns</p>\n",
       "</div>"
      ],
      "text/plain": [
       "     SepalLengthCm  SepalWidthCm  PetalLengthCm  PetalWidthCm         Species  \\\n",
       "0              5.1           3.5            1.4           0.2     Iris-setosa   \n",
       "1              4.9           3.0            1.4           0.2     Iris-setosa   \n",
       "2              4.7           3.2            1.3           0.2     Iris-setosa   \n",
       "3              4.6           3.1            1.5           0.2     Iris-setosa   \n",
       "4              5.0           3.6            1.4           0.2     Iris-setosa   \n",
       "..             ...           ...            ...           ...             ...   \n",
       "145            6.7           3.0            5.2           2.3  Iris-virginica   \n",
       "146            6.3           2.5            5.0           1.9  Iris-virginica   \n",
       "147            6.5           3.0            5.2           2.0  Iris-virginica   \n",
       "148            6.2           3.4            5.4           2.3  Iris-virginica   \n",
       "149            5.9           3.0            5.1           1.8  Iris-virginica   \n",
       "\n",
       "     Class  \n",
       "0        0  \n",
       "1        0  \n",
       "2        0  \n",
       "3        0  \n",
       "4        0  \n",
       "..     ...  \n",
       "145      2  \n",
       "146      2  \n",
       "147      2  \n",
       "148      2  \n",
       "149      2  \n",
       "\n",
       "[150 rows x 6 columns]"
      ]
     },
     "execution_count": 7,
     "metadata": {},
     "output_type": "execute_result"
    }
   ],
   "source": [
    "df_data"
   ]
  },
  {
   "cell_type": "markdown",
   "id": "28928c65-8282-4048-86d9-a3e4dff3ad94",
   "metadata": {},
   "source": [
    "3) 設定 X=資料  y=標籤"
   ]
  },
  {
   "cell_type": "code",
   "execution_count": 6,
   "id": "6f06ce87-629a-49db-a317-0b5bfe4d807b",
   "metadata": {},
   "outputs": [],
   "source": [
    "X = df_data.drop(labels=['Class','Species'],axis=1).values\n",
    "y = df_data['Class'].values"
   ]
  },
  {
   "cell_type": "markdown",
   "id": "848c9db6-59c3-447e-a102-24bb8e451a1d",
   "metadata": {},
   "source": [
    "4) 切割訓練集 與 測試集"
   ]
  },
  {
   "cell_type": "code",
   "execution_count": 7,
   "id": "4c26745d-3e3d-446d-90b4-fa4b174d7394",
   "metadata": {},
   "outputs": [],
   "source": [
    "from sklearn.model_selection import train_test_split\n",
    "\n",
    "X_train , X_test , y_train , y_test = train_test_split(X, y , test_size=.3 , random_state=42)"
   ]
  },
  {
   "cell_type": "code",
   "execution_count": 8,
   "id": "19eda484-4e31-413b-9e65-ae6d371a1fdf",
   "metadata": {},
   "outputs": [
    {
     "name": "stdout",
     "output_type": "stream",
     "text": [
      "Training data shape: (105, 4)\n",
      "Testing data shape: (45, 4)\n"
     ]
    }
   ],
   "source": [
    "print('Training data shape:', X_train.shape)\n",
    "print('Testing data shape:', X_test.shape)"
   ]
  },
  {
   "cell_type": "markdown",
   "id": "d2adc712-2e43-4ca9-8278-bd230ad4f218",
   "metadata": {
    "tags": []
   },
   "source": [
    "建立模型\n",
    "- XBosst：Boosting 希望能夠由後面生成的樹，來修正前面樹學的不好的地方"
   ]
  },
  {
   "cell_type": "code",
   "execution_count": 9,
   "id": "d8548301-3304-44c6-98b2-56aa77ef0f68",
   "metadata": {},
   "outputs": [
    {
     "name": "stdout",
     "output_type": "stream",
     "text": [
      "[21:55:16] WARNING: C:/Users/Administrator/workspace/xgboost-win64_release_1.5.0/src/learner.cc:1115: Starting in XGBoost 1.3.0, the default evaluation metric used with the objective 'multi:softprob' was changed from 'merror' to 'mlogloss'. Explicitly set eval_metric if you'd like to restore the old behavior.\n"
     ]
    },
    {
     "name": "stderr",
     "output_type": "stream",
     "text": [
      "C:\\Users\\user\\anaconda3\\lib\\site-packages\\xgboost\\sklearn.py:1224: UserWarning: The use of label encoder in XGBClassifier is deprecated and will be removed in a future release. To remove this warning, do the following: 1) Pass option use_label_encoder=False when constructing XGBClassifier object; and 2) Encode your labels (y) as integers starting with 0, i.e. 0, 1, 2, ..., [num_class - 1].\n",
      "  warnings.warn(label_encoder_deprecation_msg, UserWarning)\n"
     ]
    }
   ],
   "source": [
    "# 建立XGBClassifier模型\n",
    "xgb = XGBClassifier(n_estimators=100, learning_rate= 0.3)\n",
    "# 使用訓練資料訓練模型\n",
    "xgb.fit(X_train, y_train)\n",
    "# 使用訓練資料預測分類\n",
    "predicted = xgb.predict(X_train)"
   ]
  },
  {
   "cell_type": "markdown",
   "id": "17820af9-bef6-4bc2-902b-a1f8e664926c",
   "metadata": {},
   "source": [
    "Score評估模型"
   ]
  },
  {
   "cell_type": "code",
   "execution_count": 10,
   "id": "5d6ff846-e520-42cf-918d-5949cfc754ba",
   "metadata": {},
   "outputs": [
    {
     "name": "stdout",
     "output_type": "stream",
     "text": [
      "訓練集:  1.0\n",
      "測試集:  1.0\n"
     ]
    }
   ],
   "source": [
    "print('訓練集: ', xgb.score(X_train, y_train))\n",
    "print('測試集: ', xgb.score(X_test, y_test))"
   ]
  },
  {
   "cell_type": "markdown",
   "id": "2eff0c3b-fcb0-4dbb-b722-8c090577acc1",
   "metadata": {},
   "source": [
    "特徵重要程度"
   ]
  },
  {
   "cell_type": "code",
   "execution_count": 13,
   "id": "38d216ba-0371-4e54-bd44-ccbce38a3d18",
   "metadata": {},
   "outputs": [
    {
     "name": "stdout",
     "output_type": "stream",
     "text": [
      "特徵重要程度:  [0.01021995 0.03037913 0.7386953  0.22070564]\n"
     ]
    },
    {
     "data": {
      "image/png": "[encoded data removed]",
      "text/plain": [
       "<Figure size 432x288 with 1 Axes>"
      ]
     },
     "metadata": {
      "needs_background": "light"
     },
     "output_type": "display_data"
    }
   ],
   "source": [
    "from xgboost import plot_importance\n",
    "from xgboost import plot_tree\n",
    "\n",
    "plot_importance(xgb)\n",
    "print('特徵重要程度: ',xgb.feature_importances_)"
   ]
  },
  {
   "cell_type": "markdown",
   "id": "57b8c3e7-0f46-419b-85be-c17dd733dd62",
   "metadata": {},
   "source": [
    "真實分類"
   ]
  },
  {
   "cell_type": "code",
   "execution_count": null,
   "id": "d54fa7a6-a489-46be-b537-e3ba2e9b6ff5",
   "metadata": {},
   "outputs": [],
   "source": [
    "# 建立訓練集的 DataFrme\n",
    "df_train=pd.DataFrame(X_train)\n",
    "df_train['Class']=y_train\n",
    "# 建立測試集的 DataFrme\n",
    "df_test=pd.DataFrame(X_test)\n",
    "df_test['Class']=y_test"
   ]
  },
  {
   "cell_type": "code",
   "execution_count": null,
   "id": "5096ad93-0921-485b-ba3b-ef29c092536d",
   "metadata": {},
   "outputs": [],
   "source": [
    "sns.lmplot(\"PetalLengthCm\", \"PetalWidthCm\", hue='Class', data=df_train, fit_reg=False)"
   ]
  },
  {
   "cell_type": "markdown",
   "id": "d0686583-2e9c-4822-bd2e-94ef2bf62f77",
   "metadata": {},
   "source": [
    "XGB (訓練集)預測結果"
   ]
  },
  {
   "cell_type": "code",
   "execution_count": null,
   "id": "c0dda8c2-0d0e-4aba-adb7-0661981b3bf1",
   "metadata": {},
   "outputs": [],
   "source": [
    "df_train['Predict']=predicted\n",
    "sns.lmplot(\"PetalLengthCm\", \"PetalWidthCm\", data=df_train, hue=\"Predict\", fit_reg=False)\n",
    "plt.show()"
   ]
  }
 ],
 "metadata": {
  "kernelspec": {
   "display_name": "Python 3 (ipykernel)",
   "language": "python",
   "name": "python3"
  },
  "language_info": {
   "codemirror_mode": {
    "name": "ipython",
    "version": 3
   },
   "file_extension": ".py",
   "mimetype": "text/x-python",
   "name": "python",
   "nbconvert_exporter": "python",
   "pygments_lexer": "ipython3",
   "version": "3.8.11"
  }
 },
 "nbformat": 4,
 "nbformat_minor": 5
}
