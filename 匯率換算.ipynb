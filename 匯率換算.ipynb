{
 "cells": [
  {
   "cell_type": "code",
   "execution_count": 7,
   "id": "5e737e18",
   "metadata": {},
   "outputs": [
    {
     "name": "stdout",
     "output_type": "stream",
     "text": [
      "美金價格: 美金\n"
     ]
    }
   ],
   "source": [
    "Usd = input(\"美金價格: \" + \"美金\")"
   ]
  },
  {
   "cell_type": "code",
   "execution_count": 2,
   "id": "8104b686",
   "metadata": {},
   "outputs": [
    {
     "data": {
      "text/plain": [
       "3690.0"
      ]
     },
     "execution_count": 2,
     "metadata": {},
     "output_type": "execute_result"
    }
   ],
   "source": [
    "float(Usd) * 30       ##假設，匯率=30"
   ]
  },
  {
   "cell_type": "markdown",
   "id": "22a7df98",
   "metadata": {},
   "source": [
    "Hint : float()  str()"
   ]
  },
  {
   "cell_type": "code",
   "execution_count": 6,
   "id": "d03ba6e8",
   "metadata": {},
   "outputs": [
    {
     "name": "stdout",
     "output_type": "stream",
     "text": [
      "美金價格: 20\n",
      "新台幣600.0元\n"
     ]
    }
   ],
   "source": [
    "Usd = input(\"美金價格: \")\n",
    "Twd = float(Usd) * 30\n",
    "print(\"新台幣\" + str(Twd) + \"元\")"
   ]
  },
  {
   "cell_type": "code",
   "execution_count": null,
   "id": "e47e743b",
   "metadata": {},
   "outputs": [],
   "source": []
  }
 ],
 "metadata": {
  "kernelspec": {
   "display_name": "Python 3",
   "language": "python",
   "name": "python3"
  },
  "language_info": {
   "codemirror_mode": {
    "name": "ipython",
    "version": 3
   },
   "file_extension": ".py",
   "mimetype": "text/x-python",
   "name": "python",
   "nbconvert_exporter": "python",
   "pygments_lexer": "ipython3",
   "version": "3.8.8"
  }
 },
 "nbformat": 4,
 "nbformat_minor": 5
}
