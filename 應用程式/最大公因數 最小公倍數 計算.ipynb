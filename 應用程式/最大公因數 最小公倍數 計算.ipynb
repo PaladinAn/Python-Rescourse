{
 "cells": [
  {
   "cell_type": "code",
   "execution_count": 2,
   "id": "ff84e079",
   "metadata": {},
   "outputs": [
    {
     "name": "stdout",
     "output_type": "stream",
     "text": [
      "x = 80\n",
      "y = 8\n",
      "8和80的最大公因数是8\n",
      "8和80的最小公倍数是80\n"
     ]
    }
   ],
   "source": [
    "x = int(input(\"x = \"))\n",
    "y = int(input(\"y = \"))\n",
    "# 如果x大於y就交換x和y的值\n",
    "if x > y:\n",
    "    # y的值给x,x的值给y\n",
    "    x, y = y, x\n",
    "# 从两个数中较的数开始做递减的循环\n",
    "for factor in range(x, 0, -1):\n",
    "    if x % factor == 0 and y % factor == 0:\n",
    "        print(\"%d和%d的最大公因数是%d\" % (x, y, factor))\n",
    "        print(\"%d和%d的最小公倍数是%d\" % (x, y, x * y // factor))\n",
    "        break"
   ]
  },
  {
   "cell_type": "code",
   "execution_count": null,
   "id": "173ce46b",
   "metadata": {},
   "outputs": [],
   "source": []
  }
 ],
 "metadata": {
  "kernelspec": {
   "display_name": "Python 3",
   "language": "python",
   "name": "python3"
  },
  "language_info": {
   "codemirror_mode": {
    "name": "ipython",
    "version": 3
   },
   "file_extension": ".py",
   "mimetype": "text/x-python",
   "name": "python",
   "nbconvert_exporter": "python",
   "pygments_lexer": "ipython3",
   "version": "3.8.8"
  }
 },
 "nbformat": 4,
 "nbformat_minor": 5
}
