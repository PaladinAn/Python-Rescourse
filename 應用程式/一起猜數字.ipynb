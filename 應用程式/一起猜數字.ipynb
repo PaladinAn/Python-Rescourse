{
 "cells": [
  {
   "cell_type": "code",
   "execution_count": null,
   "id": "26243fe3",
   "metadata": {},
   "outputs": [],
   "source": [
    "import random\n",
    "answer = random.randint(0, 101)\n",
    "while True:\n",
    "    conunter += 1\n",
    "    number = int(input(\"請輸入0~100之間其中一個數字: \"))\n",
    "    if number < answer:\n",
    "        print(\"大一點\")\n",
    "    elif number > answer:\n",
    "        print(\"小一點\")\n",
    "    else:\n",
    "        print(\"恭喜你~答對了!\")\n",
    "        break"
   ]
  },
  {
   "cell_type": "code",
   "execution_count": null,
   "id": "6770f435",
   "metadata": {},
   "outputs": [],
   "source": []
  }
 ],
 "metadata": {
  "kernelspec": {
   "display_name": "Python 3",
   "language": "python",
   "name": "python3"
  },
  "language_info": {
   "codemirror_mode": {
    "name": "ipython",
    "version": 3
   },
   "file_extension": ".py",
   "mimetype": "text/x-python",
   "name": "python",
   "nbconvert_exporter": "python",
   "pygments_lexer": "ipython3",
   "version": "3.8.8"
  }
 },
 "nbformat": 4,
 "nbformat_minor": 5
}
