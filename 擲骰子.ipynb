{
 "cells": [
  {
   "cell_type": "markdown",
   "id": "0191448c",
   "metadata": {},
   "source": [
    "# 賭博遊戲\n",
    "設定，一開始籌碼有1000元"
   ]
  },
  {
   "cell_type": "code",
   "execution_count": null,
   "id": "a687c69a",
   "metadata": {},
   "outputs": [
    {
     "name": "stdout",
     "output_type": "stream",
     "text": [
      "你的口袋剩下: 1000\n",
      "請下注: 100\n",
      "骰子搖出了6點\n",
      "骰子搖出了5點\n",
      "骰子搖出了8點\n",
      "骰子搖出了5點\n",
      "骰子搖出了12點\n",
      "骰子搖出了12點\n",
      "骰子搖出了8點\n",
      "骰子搖出了5點\n",
      "骰子搖出了3點\n",
      "骰子搖出了5點\n",
      "骰子搖出了10點\n",
      "骰子搖出了11點\n",
      "骰子搖出了8點\n",
      "骰子搖出了7點\n",
      "莊家贏!\n",
      "你的口袋剩下: 900\n"
     ]
    }
   ],
   "source": [
    "\n",
    "from random import randint\n",
    "\n",
    "money = 1000\n",
    "while money > 0:\n",
    "    print(\"你的口袋剩下:\", money)\n",
    "    needs_go_on = False\n",
    "    while True:\n",
    "        debt = int(input(\"請下注: \"))\n",
    "        if 0 < debt <= money:\n",
    "            break\n",
    "    first = randint(1, 6) + randint(1, 6)\n",
    "    print(\"骰子搖出了%d點\" % first)\n",
    "    if first == 7 or first == 11:\n",
    "        print(\"玩家贏!\")\n",
    "        money += debt\n",
    "    elif first == 2 or first == 3 or first == 12:\n",
    "        print(\"莊家贏!\")\n",
    "        money -= debt\n",
    "    else:\n",
    "        needs_go_on = True\n",
    "    while needs_go_on:\n",
    "        needs_go_on = False\n",
    "        current = randint(1, 6) + randint(1, 6)\n",
    "        print(\"骰子搖出了%d點\" % current)\n",
    "        if current == 7:\n",
    "            print(\"莊家贏!\")\n",
    "            money -= debt\n",
    "        elif current == first:\n",
    "            print(\"玩家贏\")\n",
    "            money += debt\n",
    "        else:\n",
    "            needs_go_on = True\n",
    "print(\"你破產了。結束了!\")"
   ]
  },
  {
   "cell_type": "code",
   "execution_count": null,
   "id": "6ffb55f4",
   "metadata": {},
   "outputs": [],
   "source": []
  }
 ],
 "metadata": {
  "kernelspec": {
   "display_name": "Python 3",
   "language": "python",
   "name": "python3"
  },
  "language_info": {
   "codemirror_mode": {
    "name": "ipython",
    "version": 3
   },
   "file_extension": ".py",
   "mimetype": "text/x-python",
   "name": "python",
   "nbconvert_exporter": "python",
   "pygments_lexer": "ipython3",
   "version": "3.8.8"
  }
 },
 "nbformat": 4,
 "nbformat_minor": 5
}
