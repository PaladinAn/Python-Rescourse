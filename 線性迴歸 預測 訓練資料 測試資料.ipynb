{
 "cells": [
  {
   "cell_type": "code",
   "execution_count": 1,
   "id": "ad320e13",
   "metadata": {},
   "outputs": [],
   "source": [
    "%matplotlib inline\n",
    "import numpy as np\n",
    "import matplotlib.pyplot as plt"
   ]
  },
  {
   "cell_type": "code",
   "execution_count": 2,
   "id": "e48446a3",
   "metadata": {},
   "outputs": [],
   "source": [
    "x = np.linspace(0, 5, 100)\n",
    "y = 1.2*x + 0.8 + 0.5*np.random.rand(100)"
   ]
  },
  {
   "cell_type": "code",
   "execution_count": 3,
   "id": "7cc29068",
   "metadata": {},
   "outputs": [
    {
     "data": {
      "text/plain": [
       "<matplotlib.collections.PathCollection at 0x1aa5627e310>"
      ]
     },
     "execution_count": 3,
     "metadata": {},
     "output_type": "execute_result"
    },
    {
     "data": {
      "image/png": "[encoded data removed]",
      "text/plain": [
       "<Figure size 432x288 with 1 Axes>"
      ]
     },
     "metadata": {
      "needs_background": "light"
     },
     "output_type": "display_data"
    }
   ],
   "source": [
    "plt.scatter(x, y)"
   ]
  },
  {
   "cell_type": "markdown",
   "id": "787e19f2",
   "metadata": {},
   "source": [
    "TrainingData TestingData"
   ]
  },
  {
   "cell_type": "markdown",
   "id": "c1151cf7",
   "metadata": {},
   "source": [
    "資料分割成，訓練資料(給機器看)，測試資料(不給機器看)"
   ]
  },
  {
   "cell_type": "markdown",
   "id": "2c363b6d",
   "metadata": {},
   "source": [
    "使用"
   ]
  },
  {
   "cell_type": "markdown",
   "id": "12c601fb",
   "metadata": {},
   "source": [
    "sklearn.model_selection"
   ]
  },
  {
   "cell_type": "markdown",
   "id": "1cd62443",
   "metadata": {},
   "source": [
    "中的"
   ]
  },
  {
   "cell_type": "markdown",
   "id": "665be311",
   "metadata": {},
   "source": [
    "train_test_split"
   ]
  },
  {
   "cell_type": "markdown",
   "id": "733e088d",
   "metadata": {},
   "source": [
    "亂數選取，部分資料"
   ]
  },
  {
   "cell_type": "code",
   "execution_count": 4,
   "id": "38ddb0be",
   "metadata": {},
   "outputs": [],
   "source": [
    "from sklearn.model_selection import train_test_split"
   ]
  },
  {
   "cell_type": "markdown",
   "id": "5085ef95",
   "metadata": {},
   "source": [
    "把原本 x, y 中，80%給，訓練，20%給，測試"
   ]
  },
  {
   "cell_type": "code",
   "execution_count": 5,
   "id": "b07bb082",
   "metadata": {},
   "outputs": [],
   "source": [
    "x_train, x_test, y_train, y_test = train_test_split(x, y, \n",
    "                                                   test_size=0.2,  \n",
    "                                                   random_state=87)"
   ]
  },
  {
   "cell_type": "markdown",
   "id": "f324bf81",
   "metadata": {},
   "source": [
    "input訓練資料1, input測試資料1, input訓練資料2, input測試資料2"
   ]
  },
  {
   "cell_type": "markdown",
   "id": "28957b5e",
   "metadata": {},
   "source": [
    "= train_test_split(x, y, test_size=給測試的比例, random_state=亂數，隨便給，任意數)"
   ]
  },
  {
   "cell_type": "code",
   "execution_count": 6,
   "id": "47c822b1",
   "metadata": {},
   "outputs": [
    {
     "data": {
      "text/plain": [
       "80"
      ]
     },
     "execution_count": 6,
     "metadata": {},
     "output_type": "execute_result"
    }
   ],
   "source": [
    "len(x_train)    ###長度有幾筆資料###"
   ]
  },
  {
   "cell_type": "code",
   "execution_count": 7,
   "id": "c98b4700",
   "metadata": {},
   "outputs": [
    {
     "data": {
      "text/plain": [
       "20"
      ]
     },
     "execution_count": 7,
     "metadata": {},
     "output_type": "execute_result"
    }
   ],
   "source": [
    "len(x_test)"
   ]
  },
  {
   "cell_type": "code",
   "execution_count": 8,
   "id": "6722250b",
   "metadata": {},
   "outputs": [],
   "source": [
    "x_train = x_train.reshape(80,1)"
   ]
  },
  {
   "cell_type": "code",
   "execution_count": 9,
   "id": "aa0a5bd9",
   "metadata": {},
   "outputs": [
    {
     "data": {
      "text/plain": [
       "array([[3.38383838],\n",
       "       [2.72727273],\n",
       "       [1.86868687],\n",
       "       [3.83838384],\n",
       "       [1.41414141],\n",
       "       [0.05050505],\n",
       "       [4.19191919],\n",
       "       [4.54545455],\n",
       "       [2.82828283],\n",
       "       [0.1010101 ],\n",
       "       [0.60606061],\n",
       "       [4.94949495],\n",
       "       [1.36363636],\n",
       "       [0.25252525],\n",
       "       [3.58585859],\n",
       "       [0.85858586],\n",
       "       [1.21212121],\n",
       "       [3.33333333],\n",
       "       [2.62626263],\n",
       "       [3.43434343],\n",
       "       [3.48484848],\n",
       "       [2.77777778],\n",
       "       [3.68686869],\n",
       "       [0.2020202 ],\n",
       "       [4.74747475],\n",
       "       [4.34343434],\n",
       "       [0.65656566],\n",
       "       [1.71717172],\n",
       "       [1.11111111],\n",
       "       [1.51515152],\n",
       "       [4.7979798 ],\n",
       "       [2.17171717],\n",
       "       [2.47474747],\n",
       "       [1.91919192],\n",
       "       [0.90909091],\n",
       "       [2.52525253],\n",
       "       [3.18181818],\n",
       "       [1.06060606],\n",
       "       [2.27272727],\n",
       "       [4.6969697 ],\n",
       "       [2.42424242],\n",
       "       [2.67676768],\n",
       "       [4.14141414],\n",
       "       [3.23232323],\n",
       "       [1.56565657],\n",
       "       [1.81818182],\n",
       "       [3.93939394],\n",
       "       [2.37373737],\n",
       "       [2.32323232],\n",
       "       [0.4040404 ],\n",
       "       [3.98989899],\n",
       "       [0.50505051],\n",
       "       [2.07070707],\n",
       "       [4.04040404],\n",
       "       [2.87878788],\n",
       "       [3.13131313],\n",
       "       [4.8989899 ],\n",
       "       [0.70707071],\n",
       "       [4.5959596 ],\n",
       "       [3.78787879],\n",
       "       [1.01010101],\n",
       "       [4.44444444],\n",
       "       [0.55555556],\n",
       "       [1.16161616],\n",
       "       [4.49494949],\n",
       "       [4.39393939],\n",
       "       [2.02020202],\n",
       "       [1.76767677],\n",
       "       [0.95959596],\n",
       "       [3.63636364],\n",
       "       [2.12121212],\n",
       "       [3.08080808],\n",
       "       [3.03030303],\n",
       "       [0.45454545],\n",
       "       [2.57575758],\n",
       "       [4.84848485],\n",
       "       [0.3030303 ],\n",
       "       [0.75757576],\n",
       "       [2.97979798],\n",
       "       [3.88888889]])"
      ]
     },
     "execution_count": 9,
     "metadata": {},
     "output_type": "execute_result"
    }
   ],
   "source": [
    "x_train"
   ]
  },
  {
   "cell_type": "code",
   "execution_count": 10,
   "id": "807b8fa1",
   "metadata": {},
   "outputs": [],
   "source": [
    "x_test.shape = (20,1)"
   ]
  },
  {
   "cell_type": "markdown",
   "id": "c6d8ba99",
   "metadata": {},
   "source": [
    "另一種改變array形狀的方法"
   ]
  },
  {
   "cell_type": "markdown",
   "id": "0a7e6aaa",
   "metadata": {},
   "source": [
    "array的變數名.shape = 新的形狀"
   ]
  },
  {
   "cell_type": "code",
   "execution_count": 12,
   "id": "14e55ef0",
   "metadata": {},
   "outputs": [
    {
     "data": {
      "text/plain": [
       "array([[0.80808081],\n",
       "       [4.09090909],\n",
       "       [4.29292929],\n",
       "       [1.61616162],\n",
       "       [1.96969697],\n",
       "       [1.26262626],\n",
       "       [1.31313131],\n",
       "       [1.46464646],\n",
       "       [3.28282828],\n",
       "       [0.35353535],\n",
       "       [4.24242424],\n",
       "       [5.        ],\n",
       "       [2.92929293],\n",
       "       [3.53535354],\n",
       "       [4.64646465],\n",
       "       [3.73737374],\n",
       "       [0.15151515],\n",
       "       [0.        ],\n",
       "       [2.22222222],\n",
       "       [1.66666667]])"
      ]
     },
     "execution_count": 12,
     "metadata": {},
     "output_type": "execute_result"
    }
   ],
   "source": [
    "x_test"
   ]
  },
  {
   "cell_type": "code",
   "execution_count": 13,
   "id": "e22dc01e",
   "metadata": {},
   "outputs": [],
   "source": [
    "from sklearn.linear_model import LinearRegression"
   ]
  },
  {
   "cell_type": "code",
   "execution_count": 14,
   "id": "e7dd3a2b",
   "metadata": {},
   "outputs": [],
   "source": [
    "regr = LinearRegression()"
   ]
  },
  {
   "cell_type": "code",
   "execution_count": 15,
   "id": "fb4ad657",
   "metadata": {},
   "outputs": [
    {
     "data": {
      "text/plain": [
       "LinearRegression()"
      ]
     },
     "execution_count": 15,
     "metadata": {},
     "output_type": "execute_result"
    }
   ],
   "source": [
    "regr.fit(x_train, y_train)"
   ]
  },
  {
   "cell_type": "code",
   "execution_count": 22,
   "id": "86e54ecf",
   "metadata": {},
   "outputs": [
    {
     "data": {
      "text/plain": [
       "[<matplotlib.lines.Line2D at 0x1aa5950ce80>]"
      ]
     },
     "execution_count": 22,
     "metadata": {},
     "output_type": "execute_result"
    },
    {
     "data": {
      "image/png": "[encoded data removed]",
      "text/plain": [
       "<Figure size 432x288 with 1 Axes>"
      ]
     },
     "metadata": {
      "needs_background": "light"
     },
     "output_type": "display_data"
    }
   ],
   "source": [
    "plt.scatter(x_train, y_train)                   ###20%保留測試用###\n",
    "plt.plot(x_train, regr.predict(x_train), \"r\")   ###訓練好的模型###"
   ]
  },
  {
   "cell_type": "code",
   "execution_count": 23,
   "id": "0ef0e3aa",
   "metadata": {},
   "outputs": [
    {
     "data": {
      "text/plain": [
       "[<matplotlib.lines.Line2D at 0x1aa597e6640>]"
      ]
     },
     "execution_count": 23,
     "metadata": {},
     "output_type": "execute_result"
    },
    {
     "data": {
      "image/png": "[encoded data removed]",
      "text/plain": [
       "<Figure size 432x288 with 1 Axes>"
      ]
     },
     "metadata": {
      "needs_background": "light"
     },
     "output_type": "display_data"
    }
   ],
   "source": [
    "plt.scatter(x_test, y_test)                    ###20%保留測試用###\n",
    "plt.plot(x_test, regr.predict(x_test), \"r\")    ###訓練好的模型###"
   ]
  },
  {
   "cell_type": "code",
   "execution_count": null,
   "id": "92a0049f",
   "metadata": {},
   "outputs": [],
   "source": []
  }
 ],
 "metadata": {
  "kernelspec": {
   "display_name": "Python 3",
   "language": "python",
   "name": "python3"
  },
  "language_info": {
   "codemirror_mode": {
    "name": "ipython",
    "version": 3
   },
   "file_extension": ".py",
   "mimetype": "text/x-python",
   "name": "python",
   "nbconvert_exporter": "python",
   "pygments_lexer": "ipython3",
   "version": "3.8.8"
  }
 },
 "nbformat": 4,
 "nbformat_minor": 5
}
