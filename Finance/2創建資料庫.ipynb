{
 "cells": [
  {
   "cell_type": "markdown",
   "metadata": {},
   "source": [
    "# 簡單教學 - 建立一個sqlite檔案，整理抓到的csv檔案\n",
    "這個簡單的教學分為三個部份，第一個部份我們會利用glob以及pandas套件來讀取我們抓來的2014-2019年的台股資料，第二個部份為建立一個sqlite檔案來存入我們的資料庫，第三個部份為進一步整理為用個股來分的資料庫。"
   ]
  },
  {
   "cell_type": "code",
   "execution_count": 2,
   "metadata": {},
   "outputs": [],
   "source": [
    "import pandas as pd\n",
    "import sqlite3\n",
    "import glob"
   ]
  },
  {
   "cell_type": "markdown",
   "metadata": {},
   "source": [
    "## 第一部份 讀取我們抓到的資料\n",
    "當我們用EP1的程式抓取大量的表單之後，如果我們簡單用迴圈加to_csv方法，會發現現在我們的資料夾裡面已經堆滿的大量的csv檔案了，我們要如何使用程式來整理我們的檔案勒？如果用pandas一個一個讀入顯然很沒有效率，這邊我們使用glob套件一次讀入所有的csv檔案吧"
   ]
  },
  {
   "cell_type": "code",
   "execution_count": 2,
   "metadata": {},
   "outputs": [],
   "source": [
    "'''\n",
    "glob套件是用來查找符合特定規則的文件名，跟我們用搜尋跳出來的結果差不多，這邊我們查詢副檔名為csv的檔案並存為一個列表的形式。\n",
    "'''\n",
    "All_csv_file = glob.glob('*.csv')"
   ]
  },
  {
   "cell_type": "code",
   "execution_count": 3,
   "metadata": {},
   "outputs": [],
   "source": [
    "df = pd.read_csv(All_csv_file[0]).iloc[:,1:]"
   ]
  },
  {
   "cell_type": "markdown",
   "metadata": {},
   "source": [
    "## 第二部份 創建資料庫，存成以時間為一張張表的資料庫\n",
    "我們這邊會使用sqlite來存取我們抓下來的股價資料\n",
    "- python內建sqlite套件，我們無須特安裝\n",
    "- 支援完整sql語法查詢我們的資料\n",
    "- 使用以及轉移方便，一個資料庫就像一個本地文件一樣\n",
    "\n",
    "在這邊，我們直接使用DataFrame提供把DataFrame存入Sql資料庫當作表格的方法。"
   ]
  },
  {
   "cell_type": "code",
   "execution_count": 4,
   "metadata": {},
   "outputs": [],
   "source": [
    "dbname = 'TWStock.db'"
   ]
  },
  {
   "cell_type": "code",
   "execution_count": 5,
   "metadata": {},
   "outputs": [],
   "source": [
    "#連接到我們的資料庫，如果沒有的話會重新建一個\n",
    "db = sqlite3.connect(dbname)"
   ]
  },
  {
   "cell_type": "code",
   "execution_count": 6,
   "metadata": {},
   "outputs": [
    {
     "name": "stdout",
     "output_type": "stream",
     "text": [
      "CPU times: user 47.7 s, sys: 3.39 s, total: 51.1 s\n",
      "Wall time: 1min 11s\n"
     ]
    }
   ],
   "source": [
    "%%time\n",
    "for file_name in All_csv_file:\n",
    "    pd.read_csv(file_name).iloc[:,1:].to_sql(file_name.replace('.csv',''),db,if_exists='replace')"
   ]
  },
  {
   "cell_type": "markdown",
   "metadata": {},
   "source": [
    " ### 如何讀取資料庫的表格\n",
    "我們這邊簡單介紹如何讀取sqlite檔案裡面的表格"
   ]
  },
  {
   "cell_type": "code",
   "execution_count": 7,
   "metadata": {},
   "outputs": [],
   "source": [
    "dates_list = [file_name.replace('.csv','') for file_name in All_csv_file]"
   ]
  },
  {
   "cell_type": "code",
   "execution_count": 8,
   "metadata": {},
   "outputs": [
    {
     "data": {
      "text/html": [
       "<div>\n",
       "<style scoped>\n",
       "    .dataframe tbody tr th:only-of-type {\n",
       "        vertical-align: middle;\n",
       "    }\n",
       "\n",
       "    .dataframe tbody tr th {\n",
       "        vertical-align: top;\n",
       "    }\n",
       "\n",
       "    .dataframe thead th {\n",
       "        text-align: right;\n",
       "    }\n",
       "</style>\n",
       "<table border=\"1\" class=\"dataframe\">\n",
       "  <thead>\n",
       "    <tr style=\"text-align: right;\">\n",
       "      <th></th>\n",
       "      <th>index</th>\n",
       "      <th>證券代號</th>\n",
       "      <th>證券名稱</th>\n",
       "      <th>成交股數</th>\n",
       "      <th>成交筆數</th>\n",
       "      <th>成交金額</th>\n",
       "      <th>開盤價</th>\n",
       "      <th>最高價</th>\n",
       "      <th>最低價</th>\n",
       "      <th>收盤價</th>\n",
       "      <th>漲跌(+/-)</th>\n",
       "      <th>漲跌價差</th>\n",
       "      <th>最後揭示買價</th>\n",
       "      <th>最後揭示買量</th>\n",
       "      <th>最後揭示賣價</th>\n",
       "      <th>最後揭示賣量</th>\n",
       "      <th>本益比</th>\n",
       "    </tr>\n",
       "  </thead>\n",
       "  <tbody>\n",
       "    <tr>\n",
       "      <th>0</th>\n",
       "      <td>0</td>\n",
       "      <td>0050</td>\n",
       "      <td>元大台灣50</td>\n",
       "      <td>8,909,455</td>\n",
       "      <td>1,051</td>\n",
       "      <td>595,197,353</td>\n",
       "      <td>66.75</td>\n",
       "      <td>66.90</td>\n",
       "      <td>66.65</td>\n",
       "      <td>66.85</td>\n",
       "      <td></td>\n",
       "      <td>0.00</td>\n",
       "      <td>66.85</td>\n",
       "      <td>385</td>\n",
       "      <td>66.90</td>\n",
       "      <td>136</td>\n",
       "      <td>0.00</td>\n",
       "    </tr>\n",
       "    <tr>\n",
       "      <th>1</th>\n",
       "      <td>1</td>\n",
       "      <td>0051</td>\n",
       "      <td>元大中型100</td>\n",
       "      <td>26,120</td>\n",
       "      <td>21</td>\n",
       "      <td>754,990</td>\n",
       "      <td>28.89</td>\n",
       "      <td>28.94</td>\n",
       "      <td>28.83</td>\n",
       "      <td>28.88</td>\n",
       "      <td>+</td>\n",
       "      <td>0.01</td>\n",
       "      <td>28.88</td>\n",
       "      <td>1</td>\n",
       "      <td>28.90</td>\n",
       "      <td>1</td>\n",
       "      <td>0.00</td>\n",
       "    </tr>\n",
       "    <tr>\n",
       "      <th>2</th>\n",
       "      <td>2</td>\n",
       "      <td>0052</td>\n",
       "      <td>富邦科技</td>\n",
       "      <td>2,000</td>\n",
       "      <td>2</td>\n",
       "      <td>81,960</td>\n",
       "      <td>40.98</td>\n",
       "      <td>40.98</td>\n",
       "      <td>40.98</td>\n",
       "      <td>40.98</td>\n",
       "      <td>+</td>\n",
       "      <td>0.14</td>\n",
       "      <td>40.33</td>\n",
       "      <td>1</td>\n",
       "      <td>40.98</td>\n",
       "      <td>3</td>\n",
       "      <td>0.00</td>\n",
       "    </tr>\n",
       "    <tr>\n",
       "      <th>3</th>\n",
       "      <td>3</td>\n",
       "      <td>0053</td>\n",
       "      <td>元大電子</td>\n",
       "      <td>45,466</td>\n",
       "      <td>20</td>\n",
       "      <td>1,294,287</td>\n",
       "      <td>28.59</td>\n",
       "      <td>28.59</td>\n",
       "      <td>28.45</td>\n",
       "      <td>28.50</td>\n",
       "      <td></td>\n",
       "      <td>0.00</td>\n",
       "      <td>28.45</td>\n",
       "      <td>8</td>\n",
       "      <td>28.54</td>\n",
       "      <td>2</td>\n",
       "      <td>0.00</td>\n",
       "    </tr>\n",
       "    <tr>\n",
       "      <th>4</th>\n",
       "      <td>4</td>\n",
       "      <td>0054</td>\n",
       "      <td>元大台商50</td>\n",
       "      <td>24,000</td>\n",
       "      <td>5</td>\n",
       "      <td>537,140</td>\n",
       "      <td>22.37</td>\n",
       "      <td>22.44</td>\n",
       "      <td>22.35</td>\n",
       "      <td>22.44</td>\n",
       "      <td>-</td>\n",
       "      <td>0.01</td>\n",
       "      <td>22.22</td>\n",
       "      <td>3</td>\n",
       "      <td>22.44</td>\n",
       "      <td>1</td>\n",
       "      <td>0.00</td>\n",
       "    </tr>\n",
       "  </tbody>\n",
       "</table>\n",
       "</div>"
      ],
      "text/plain": [
       "   index  證券代號     證券名稱       成交股數   成交筆數         成交金額    開盤價    最高價    最低價  \\\n",
       "0      0  0050   元大台灣50  8,909,455  1,051  595,197,353  66.75  66.90  66.65   \n",
       "1      1  0051  元大中型100     26,120     21      754,990  28.89  28.94  28.83   \n",
       "2      2  0052     富邦科技      2,000      2       81,960  40.98  40.98  40.98   \n",
       "3      3  0053     元大電子     45,466     20    1,294,287  28.59  28.59  28.45   \n",
       "4      4  0054   元大台商50     24,000      5      537,140  22.37  22.44  22.35   \n",
       "\n",
       "     收盤價 漲跌(+/-)  漲跌價差 最後揭示買價 最後揭示買量 最後揭示賣價 最後揭示賣量   本益比  \n",
       "0  66.85          0.00  66.85    385  66.90    136  0.00  \n",
       "1  28.88       +  0.01  28.88      1  28.90      1  0.00  \n",
       "2  40.98       +  0.14  40.33      1  40.98      3  0.00  \n",
       "3  28.50          0.00  28.45      8  28.54      2  0.00  \n",
       "4  22.44       -  0.01  22.22      3  22.44      1  0.00  "
      ]
     },
     "execution_count": 8,
     "metadata": {},
     "output_type": "execute_result"
    }
   ],
   "source": [
    "pd.read_sql(con=db,sql='SELECT * FROM' + ' \"'+ dates_list[0] +'\"').head()"
   ]
  },
  {
   "cell_type": "markdown",
   "metadata": {},
   "source": [
    "## 第三部份 整理出以個股為一張張表的資料庫"
   ]
  },
  {
   "cell_type": "code",
   "execution_count": 15,
   "metadata": {},
   "outputs": [
    {
     "name": "stdout",
     "output_type": "stream",
     "text": [
      "CPU times: user 19min 19s, sys: 2min 53s, total: 22min 13s\n",
      "Wall time: 22min 13s\n"
     ]
    }
   ],
   "source": [
    "%%time\n",
    "total_df = pd.DataFrame()\n",
    "for date in dates_list:\n",
    "    df = pd.read_sql(con=db,sql='SELECT * FROM' + ' \"'+ date +'\"')\n",
    "    df['Date'] = date\n",
    "    total_df = total_df.append(df)"
   ]
  },
  {
   "cell_type": "code",
   "execution_count": 16,
   "metadata": {},
   "outputs": [
    {
     "name": "stdout",
     "output_type": "stream",
     "text": [
      "CPU times: user 15 µs, sys: 0 ns, total: 15 µs\n",
      "Wall time: 17.6 µs\n"
     ]
    },
    {
     "data": {
      "text/plain": [
       "(1203195, 18)"
      ]
     },
     "execution_count": 16,
     "metadata": {},
     "output_type": "execute_result"
    }
   ],
   "source": [
    "%%time\n",
    "total_df.shape"
   ]
  },
  {
   "cell_type": "code",
   "execution_count": 3,
   "metadata": {},
   "outputs": [],
   "source": [
    "dbname_2 = 'TWStock_2'\n",
    "db2 = sqlite3.connect(dbname_2)"
   ]
  },
  {
   "cell_type": "code",
   "execution_count": 48,
   "metadata": {},
   "outputs": [],
   "source": [
    "%%time \n",
    "total_dict = dict(tuple(total_df.groupby('證券代號')))\n",
    "for key in total_dict.keys():\n",
    "    df = total_dict[key].iloc[:,2:]\n",
    "    df['Date'] = pd.to_datetime(df['Date'])\n",
    "    df = df.sort_values(by=['Date'])\n",
    "    df.to_sql(key,db2,if_exists='replace')"
   ]
  },
  {
   "cell_type": "code",
   "execution_count": 7,
   "metadata": {},
   "outputs": [
    {
     "name": "stdout",
     "output_type": "stream",
     "text": [
      "      index 證券名稱        成交股數    成交筆數           成交金額     開盤價     最高價     最低價  \\\n",
      "1216    410  台積電  24,443,428  11,779  5,745,045,809  237.50  238.00  233.00   \n",
      "1217    410  台積電  35,901,584  12,064  8,461,930,934  238.00  238.00  234.00   \n",
      "1218    410  台積電  34,651,731  14,723  8,008,768,323  231.50  232.00  229.50   \n",
      "1219    410  台積電  35,521,888  15,588  8,442,986,620  237.50  240.00  234.50   \n",
      "1220    410  台積電  34,691,670  13,157  8,448,805,962  240.00  246.00  239.00   \n",
      "\n",
      "         收盤價 漲跌(+/-)  漲跌價差  最後揭示買價 最後揭示買量  最後揭示賣價 最後揭示賣量    本益比  \\\n",
      "1216  233.00       -   5.0  233.00  3,359  233.50    136  18.71   \n",
      "1217  235.00       +   2.0  234.50     81  235.00    661  18.88   \n",
      "1218  232.00       -   3.0  232.00     91  232.50    824  18.63   \n",
      "1219  240.00       +   8.0  239.50    207  240.00    817  19.28   \n",
      "1220  244.50       +   4.5  244.00  1,076  244.50     55  19.64   \n",
      "\n",
      "                     Date  \n",
      "1216  2019-06-04 00:00:00  \n",
      "1217  2019-06-05 00:00:00  \n",
      "1218  2019-06-06 00:00:00  \n",
      "1219  2019-06-10 00:00:00  \n",
      "1220  2019-06-11 00:00:00  \n",
      "     index   證券名稱     成交股數 成交筆數       成交金額    開盤價    最高價    最低價    收盤價  \\\n",
      "909    926  君耀-KY   46,000   23  3,347,600  72.60  72.80  72.60  72.80   \n",
      "910    926  君耀-KY   85,804   24  6,237,950  72.70  72.70  72.70  72.70   \n",
      "911    928  君耀-KY   58,169   27  4,234,186  72.70  72.80  72.70  72.80   \n",
      "912    924  君耀-KY   37,060   24  2,694,360  72.70  72.80  72.70  72.70   \n",
      "913    924  君耀-KY  125,397   50  9,120,920  72.60  72.80  72.60  72.70   \n",
      "\n",
      "    漲跌(+/-)  漲跌價差 最後揭示買價 最後揭示買量 最後揭示賣價 最後揭示賣量    本益比                 Date  \n",
      "909       +   0.2  72.70     46  72.80      7  13.84  2018-09-13 00:00:00  \n",
      "910       -   0.1  72.70     69  72.80     13  13.82  2018-09-14 00:00:00  \n",
      "911       +   0.1  72.80     14  72.90     33  13.84  2018-09-17 00:00:00  \n",
      "912       -   0.1  72.70     81  72.80     11  13.82  2018-09-18 00:00:00  \n",
      "913           0.0  72.70     94  72.80      1  13.82  2018-09-19 00:00:00  \n",
      "CPU times: user 48.6 ms, sys: 313 µs, total: 48.9 ms\n",
      "Wall time: 47.6 ms\n"
     ]
    }
   ],
   "source": [
    "%%time\n",
    "#測試股票代號資料庫\n",
    "print(pd.read_sql(con=db2,sql='SELECT * FROM \"2330\"').tail())\n",
    "print(pd.read_sql(con=db2,sql='SELECT * FROM \"6422\"').tail())"
   ]
  },
  {
   "cell_type": "code",
   "execution_count": null,
   "metadata": {},
   "outputs": [],
   "source": []
  }
 ],
 "metadata": {
  "kernelspec": {
   "display_name": "Python 3",
   "language": "python",
   "name": "python3"
  },
  "language_info": {
   "codemirror_mode": {
    "name": "ipython",
    "version": 3
   },
   "file_extension": ".py",
   "mimetype": "text/x-python",
   "name": "python",
   "nbconvert_exporter": "python",
   "pygments_lexer": "ipython3",
   "version": "3.6.4"
  }
 },
 "nbformat": 4,
 "nbformat_minor": 2
}
