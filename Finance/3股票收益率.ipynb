{
 "cells": [
  {
   "cell_type": "markdown",
   "metadata": {},
   "source": [
    "# 股票收盤價日線資料探索\n",
    "我們今天的筆記本討論一下怎麼用pandas與matplotlib對資料做基本的探索，然後我們嘗試用簡單的方法估計持有股票的風險程度。\n",
    "\n",
    "對於一個投資者來說，了解股票投資的風險度應該是很重要的，這就是，我們想要估計我們股票的價格的波動程度，但是如果昨天價格的統計性質與今天價格的統計性質有很大的不一樣，我們就沒有辦法合理評估今天價格的波動程度。"
   ]
  },
  {
   "cell_type": "markdown",
   "metadata": {},
   "source": [
    "## 讀入資料\n",
    "首先，我們第一步先讀入資料，我們使用上次學到的指令讀入我們建好的資料庫"
   ]
  },
  {
   "cell_type": "code",
   "execution_count": 2,
   "metadata": {},
   "outputs": [],
   "source": [
    "# 載入套件庫並讀入資料\n",
    "import pandas as pd\n",
    "import matplotlib.pyplot as plt\n",
    "import sqlite3\n",
    "import numpy as np"
   ]
  },
  {
   "cell_type": "code",
   "execution_count": 3,
   "metadata": {},
   "outputs": [],
   "source": [
    "db = sqlite3.connect('TWStock_2')\n",
    "#這邊我們挑選一些台灣的代表性股票\n",
    "stocks_dict = {}\n",
    "#台積電2330\n",
    "stocks_dict.update({'tsmc':pd.read_sql(con=db,sql='SELECT * FROM \"2330\"')})\n",
    "#台塑化6505\n",
    "stocks_dict.update({'fpc':pd.read_sql(con=db,sql='SELECT * FROM \"6505\"')})\n",
    "#鴻海2317\n",
    "stocks_dict.update({'foxconn':pd.read_sql(con=db,sql='SELECT * FROM \"2317\"')})\n",
    "#中華電2412\n",
    "stocks_dict.update({'cht':pd.read_sql(con=db,sql='SELECT * FROM \"2412\"')})\n",
    "#台塑1301\n",
    "stocks_dict.update({'fpg':pd.read_sql(con=db,sql='SELECT * FROM \"1301\"')})\n",
    "#台化1326\n",
    "stocks_dict.update({'fcfc':pd.read_sql(con=db,sql='SELECT * FROM \"1326\"')})\n",
    "#國泰金2882\n",
    "stocks_dict.update({'cfh':pd.read_sql(con=db,sql='SELECT * FROM \"2882\"')})\n",
    "#南亞1303\n",
    "stocks_dict.update({'ny':pd.read_sql(con=db,sql='SELECT * FROM \"1303\"')})\n",
    "#富邦金2881\n",
    "stocks_dict.update({'fubon':pd.read_sql(con=db,sql='SELECT * FROM \"2881\"')})\n",
    "#大立光3008\n",
    "stocks_dict.update({'largan':pd.read_sql(con=db,sql='SELECT * FROM \"3008\"')})"
   ]
  },
  {
   "cell_type": "markdown",
   "metadata": {},
   "source": [
    "## 繪製基本股價走勢圖\n",
    "我們在這邊先繪製這幾隻股票的收盤價的走勢圖"
   ]
  },
  {
   "cell_type": "code",
   "execution_count": 5,
   "metadata": {},
   "outputs": [
    {
     "data": {
      "text/html": [
       "<div>\n",
       "<style scoped>\n",
       "    .dataframe tbody tr th:only-of-type {\n",
       "        vertical-align: middle;\n",
       "    }\n",
       "\n",
       "    .dataframe tbody tr th {\n",
       "        vertical-align: top;\n",
       "    }\n",
       "\n",
       "    .dataframe thead th {\n",
       "        text-align: right;\n",
       "    }\n",
       "</style>\n",
       "<table border=\"1\" class=\"dataframe\">\n",
       "  <thead>\n",
       "    <tr style=\"text-align: right;\">\n",
       "      <th></th>\n",
       "      <th>index</th>\n",
       "      <th>證券名稱</th>\n",
       "      <th>成交股數</th>\n",
       "      <th>成交筆數</th>\n",
       "      <th>成交金額</th>\n",
       "      <th>開盤價</th>\n",
       "      <th>最高價</th>\n",
       "      <th>最低價</th>\n",
       "      <th>收盤價</th>\n",
       "      <th>漲跌(+/-)</th>\n",
       "      <th>漲跌價差</th>\n",
       "      <th>最後揭示買價</th>\n",
       "      <th>最後揭示買量</th>\n",
       "      <th>最後揭示賣價</th>\n",
       "      <th>最後揭示賣量</th>\n",
       "      <th>本益比</th>\n",
       "      <th>Date</th>\n",
       "    </tr>\n",
       "  </thead>\n",
       "  <tbody>\n",
       "    <tr>\n",
       "      <th>0</th>\n",
       "      <td>533</td>\n",
       "      <td>大立光</td>\n",
       "      <td>1,457,090</td>\n",
       "      <td>1,429</td>\n",
       "      <td>3,106,972,100</td>\n",
       "      <td>2,080.00</td>\n",
       "      <td>2,190.00</td>\n",
       "      <td>2,065.00</td>\n",
       "      <td>2,190.00</td>\n",
       "      <td>+</td>\n",
       "      <td>140.0</td>\n",
       "      <td>2,190.00</td>\n",
       "      <td>122</td>\n",
       "      <td>--</td>\n",
       "      <td>0</td>\n",
       "      <td>27.30</td>\n",
       "      <td>2014-06-19 00:00:00</td>\n",
       "    </tr>\n",
       "    <tr>\n",
       "      <th>1</th>\n",
       "      <td>533</td>\n",
       "      <td>大立光</td>\n",
       "      <td>894,834</td>\n",
       "      <td>870</td>\n",
       "      <td>1,958,926,460</td>\n",
       "      <td>2,190.00</td>\n",
       "      <td>2,205.00</td>\n",
       "      <td>2,175.00</td>\n",
       "      <td>2,185.00</td>\n",
       "      <td>-</td>\n",
       "      <td>5.0</td>\n",
       "      <td>2,185.00</td>\n",
       "      <td>38</td>\n",
       "      <td>2,190.00</td>\n",
       "      <td>7</td>\n",
       "      <td>27.24</td>\n",
       "      <td>2014-06-20 00:00:00</td>\n",
       "    </tr>\n",
       "    <tr>\n",
       "      <th>2</th>\n",
       "      <td>533</td>\n",
       "      <td>大立光</td>\n",
       "      <td>1,237,323</td>\n",
       "      <td>1,241</td>\n",
       "      <td>2,800,493,365</td>\n",
       "      <td>2,205.00</td>\n",
       "      <td>2,310.00</td>\n",
       "      <td>2,190.00</td>\n",
       "      <td>2,255.00</td>\n",
       "      <td>+</td>\n",
       "      <td>70.0</td>\n",
       "      <td>2,255.00</td>\n",
       "      <td>31</td>\n",
       "      <td>2,260.00</td>\n",
       "      <td>11</td>\n",
       "      <td>28.11</td>\n",
       "      <td>2014-06-23 00:00:00</td>\n",
       "    </tr>\n",
       "    <tr>\n",
       "      <th>3</th>\n",
       "      <td>533</td>\n",
       "      <td>大立光</td>\n",
       "      <td>886,208</td>\n",
       "      <td>908</td>\n",
       "      <td>1,983,645,720</td>\n",
       "      <td>2,260.00</td>\n",
       "      <td>2,285.00</td>\n",
       "      <td>2,195.00</td>\n",
       "      <td>2,210.00</td>\n",
       "      <td>-</td>\n",
       "      <td>45.0</td>\n",
       "      <td>2,205.00</td>\n",
       "      <td>6</td>\n",
       "      <td>2,210.00</td>\n",
       "      <td>20</td>\n",
       "      <td>27.55</td>\n",
       "      <td>2014-06-24 00:00:00</td>\n",
       "    </tr>\n",
       "    <tr>\n",
       "      <th>4</th>\n",
       "      <td>533</td>\n",
       "      <td>大立光</td>\n",
       "      <td>657,151</td>\n",
       "      <td>646</td>\n",
       "      <td>1,455,715,975</td>\n",
       "      <td>2,190.00</td>\n",
       "      <td>2,245.00</td>\n",
       "      <td>2,180.00</td>\n",
       "      <td>2,220.00</td>\n",
       "      <td>+</td>\n",
       "      <td>10.0</td>\n",
       "      <td>2,220.00</td>\n",
       "      <td>1</td>\n",
       "      <td>2,225.00</td>\n",
       "      <td>10</td>\n",
       "      <td>27.67</td>\n",
       "      <td>2014-06-25 00:00:00</td>\n",
       "    </tr>\n",
       "  </tbody>\n",
       "</table>\n",
       "</div>"
      ],
      "text/plain": [
       "   index 證券名稱       成交股數   成交筆數           成交金額       開盤價       最高價       最低價  \\\n",
       "0    533  大立光  1,457,090  1,429  3,106,972,100  2,080.00  2,190.00  2,065.00   \n",
       "1    533  大立光    894,834    870  1,958,926,460  2,190.00  2,205.00  2,175.00   \n",
       "2    533  大立光  1,237,323  1,241  2,800,493,365  2,205.00  2,310.00  2,190.00   \n",
       "3    533  大立光    886,208    908  1,983,645,720  2,260.00  2,285.00  2,195.00   \n",
       "4    533  大立光    657,151    646  1,455,715,975  2,190.00  2,245.00  2,180.00   \n",
       "\n",
       "        收盤價 漲跌(+/-)   漲跌價差    最後揭示買價 最後揭示買量    最後揭示賣價 最後揭示賣量    本益比  \\\n",
       "0  2,190.00       +  140.0  2,190.00    122        --      0  27.30   \n",
       "1  2,185.00       -    5.0  2,185.00     38  2,190.00      7  27.24   \n",
       "2  2,255.00       +   70.0  2,255.00     31  2,260.00     11  28.11   \n",
       "3  2,210.00       -   45.0  2,205.00      6  2,210.00     20  27.55   \n",
       "4  2,220.00       +   10.0  2,220.00      1  2,225.00     10  27.67   \n",
       "\n",
       "                  Date  \n",
       "0  2014-06-19 00:00:00  \n",
       "1  2014-06-20 00:00:00  \n",
       "2  2014-06-23 00:00:00  \n",
       "3  2014-06-24 00:00:00  \n",
       "4  2014-06-25 00:00:00  "
      ]
     },
     "execution_count": 5,
     "metadata": {},
     "output_type": "execute_result"
    }
   ],
   "source": [
    "stocks_dict['largan'].head()"
   ]
  },
  {
   "cell_type": "code",
   "execution_count": 6,
   "metadata": {},
   "outputs": [],
   "source": [
    "df_test = stocks_dict['largan'].copy()"
   ]
  },
  {
   "cell_type": "code",
   "execution_count": 9,
   "metadata": {},
   "outputs": [],
   "source": [
    "df_test.index = pd.to_datetime(df_test['Date'])"
   ]
  },
  {
   "cell_type": "code",
   "execution_count": 11,
   "metadata": {},
   "outputs": [],
   "source": [
    "df_test = df_test[['證券名稱','收盤價']]"
   ]
  },
  {
   "cell_type": "code",
   "execution_count": 13,
   "metadata": {},
   "outputs": [],
   "source": [
    "df_test['收盤價'] = df_test['收盤價'].apply(lambda x:x.replace(',',''))"
   ]
  },
  {
   "cell_type": "code",
   "execution_count": 15,
   "metadata": {},
   "outputs": [],
   "source": [
    "df_test['收盤價'] = pd.to_numeric(df_test['收盤價'])"
   ]
  },
  {
   "cell_type": "code",
   "execution_count": 17,
   "metadata": {},
   "outputs": [],
   "source": [
    "df_test.columns = ['stock_code','close']"
   ]
  },
  {
   "cell_type": "code",
   "execution_count": 18,
   "metadata": {},
   "outputs": [
    {
     "data": {
      "text/html": [
       "<div>\n",
       "<style scoped>\n",
       "    .dataframe tbody tr th:only-of-type {\n",
       "        vertical-align: middle;\n",
       "    }\n",
       "\n",
       "    .dataframe tbody tr th {\n",
       "        vertical-align: top;\n",
       "    }\n",
       "\n",
       "    .dataframe thead th {\n",
       "        text-align: right;\n",
       "    }\n",
       "</style>\n",
       "<table border=\"1\" class=\"dataframe\">\n",
       "  <thead>\n",
       "    <tr style=\"text-align: right;\">\n",
       "      <th></th>\n",
       "      <th>stock_code</th>\n",
       "      <th>close</th>\n",
       "    </tr>\n",
       "    <tr>\n",
       "      <th>Date</th>\n",
       "      <th></th>\n",
       "      <th></th>\n",
       "    </tr>\n",
       "  </thead>\n",
       "  <tbody>\n",
       "    <tr>\n",
       "      <th>2014-06-19</th>\n",
       "      <td>大立光</td>\n",
       "      <td>2190.0</td>\n",
       "    </tr>\n",
       "    <tr>\n",
       "      <th>2014-06-20</th>\n",
       "      <td>大立光</td>\n",
       "      <td>2185.0</td>\n",
       "    </tr>\n",
       "    <tr>\n",
       "      <th>2014-06-23</th>\n",
       "      <td>大立光</td>\n",
       "      <td>2255.0</td>\n",
       "    </tr>\n",
       "    <tr>\n",
       "      <th>2014-06-24</th>\n",
       "      <td>大立光</td>\n",
       "      <td>2210.0</td>\n",
       "    </tr>\n",
       "    <tr>\n",
       "      <th>2014-06-25</th>\n",
       "      <td>大立光</td>\n",
       "      <td>2220.0</td>\n",
       "    </tr>\n",
       "  </tbody>\n",
       "</table>\n",
       "</div>"
      ],
      "text/plain": [
       "           stock_code   close\n",
       "Date                         \n",
       "2014-06-19        大立光  2190.0\n",
       "2014-06-20        大立光  2185.0\n",
       "2014-06-23        大立光  2255.0\n",
       "2014-06-24        大立光  2210.0\n",
       "2014-06-25        大立光  2220.0"
      ]
     },
     "execution_count": 18,
     "metadata": {},
     "output_type": "execute_result"
    }
   ],
   "source": [
    "df_test.head()"
   ]
  },
  {
   "cell_type": "code",
   "execution_count": 19,
   "metadata": {},
   "outputs": [
    {
     "name": "stderr",
     "output_type": "stream",
     "text": [
      "/home/qin/anaconda3/lib/python3.6/site-packages/ipykernel_launcher.py:11: SettingWithCopyWarning: \n",
      "A value is trying to be set on a copy of a slice from a DataFrame.\n",
      "Try using .loc[row_indexer,col_indexer] = value instead\n",
      "\n",
      "See the caveats in the documentation: http://pandas.pydata.org/pandas-docs/stable/indexing.html#indexing-view-versus-copy\n",
      "  # This is added back by InteractiveShellApp.init_path()\n"
     ]
    }
   ],
   "source": [
    "'''\n",
    "在畫圖之前，\n",
    "我們先整理我們的資料，將每個股票整理成股票名稱與收盤價的表格形式，\n",
    "其中，因為收盤價被存為字串形式，我們也必須轉為數值形式做進一個的運算\n",
    "'''\n",
    "for key in stocks_dict.keys():\n",
    "    df = stocks_dict[key]\n",
    "    df.index = df['Date']\n",
    "    df.index = pd.to_datetime(df.index)\n",
    "    df = df[['證券名稱','收盤價']]\n",
    "    df['收盤價'] = pd.to_numeric(df['收盤價'].apply(lambda x:x.replace(',','')),errors='coerce')\n",
    "    df.columns = ['stock_code','close']\n",
    "    stocks_dict[key] = df"
   ]
  },
  {
   "cell_type": "code",
   "execution_count": 20,
   "metadata": {},
   "outputs": [
    {
     "data": {
      "text/html": [
       "<div>\n",
       "<style scoped>\n",
       "    .dataframe tbody tr th:only-of-type {\n",
       "        vertical-align: middle;\n",
       "    }\n",
       "\n",
       "    .dataframe tbody tr th {\n",
       "        vertical-align: top;\n",
       "    }\n",
       "\n",
       "    .dataframe thead th {\n",
       "        text-align: right;\n",
       "    }\n",
       "</style>\n",
       "<table border=\"1\" class=\"dataframe\">\n",
       "  <thead>\n",
       "    <tr style=\"text-align: right;\">\n",
       "      <th></th>\n",
       "      <th>stock_code</th>\n",
       "      <th>close</th>\n",
       "    </tr>\n",
       "    <tr>\n",
       "      <th>Date</th>\n",
       "      <th></th>\n",
       "      <th></th>\n",
       "    </tr>\n",
       "  </thead>\n",
       "  <tbody>\n",
       "    <tr>\n",
       "      <th>2014-06-19</th>\n",
       "      <td>台積電</td>\n",
       "      <td>126.0</td>\n",
       "    </tr>\n",
       "    <tr>\n",
       "      <th>2014-06-20</th>\n",
       "      <td>台積電</td>\n",
       "      <td>124.5</td>\n",
       "    </tr>\n",
       "    <tr>\n",
       "      <th>2014-06-23</th>\n",
       "      <td>台積電</td>\n",
       "      <td>123.0</td>\n",
       "    </tr>\n",
       "    <tr>\n",
       "      <th>2014-06-24</th>\n",
       "      <td>台積電</td>\n",
       "      <td>123.0</td>\n",
       "    </tr>\n",
       "    <tr>\n",
       "      <th>2014-06-25</th>\n",
       "      <td>台積電</td>\n",
       "      <td>123.5</td>\n",
       "    </tr>\n",
       "  </tbody>\n",
       "</table>\n",
       "</div>"
      ],
      "text/plain": [
       "           stock_code  close\n",
       "Date                        \n",
       "2014-06-19        台積電  126.0\n",
       "2014-06-20        台積電  124.5\n",
       "2014-06-23        台積電  123.0\n",
       "2014-06-24        台積電  123.0\n",
       "2014-06-25        台積電  123.5"
      ]
     },
     "execution_count": 20,
     "metadata": {},
     "output_type": "execute_result"
    }
   ],
   "source": [
    "stocks_dict['tsmc'].head()"
   ]
  },
  {
   "cell_type": "code",
   "execution_count": 21,
   "metadata": {},
   "outputs": [
    {
     "data": {
      "image/png": "[encoded data removed]",
      "text/plain": [
       "<Figure size 720x720 with 6 Axes>"
      ]
     },
     "metadata": {},
     "output_type": "display_data"
    }
   ],
   "source": [
    "fig,ax = plt.subplots(3,2,figsize=(10,10))\n",
    "plt.subplots_adjust(hspace=0.8)\n",
    "stocks_dict['largan']['2018-01-01':].plot(ax=ax[0,0])\n",
    "ax[0,0].set_title('Largan')\n",
    "stocks_dict['tsmc']['2018-01-01':].plot(ax=ax[0,1])\n",
    "ax[0,1].set_title('TSMC')\n",
    "stocks_dict['fubon']['2018-01-01':].plot(ax=ax[1,0])\n",
    "ax[1,0].set_title('Fubon')\n",
    "stocks_dict['cfh']['2018-01-01':].plot(ax=ax[1,1])\n",
    "ax[1,1].set_title('CFH')\n",
    "stocks_dict['fpg']['2018-01-01':].plot(ax=ax[2,0])\n",
    "ax[2,0].set_title('FPG')\n",
    "stocks_dict['fpc']['2018-01-01':].plot(ax=ax[2,1])\n",
    "ax[2,1].set_title('FPC')\n",
    "fig.suptitle('Stock Price via time')\n",
    "plt.show()"
   ]
  },
  {
   "cell_type": "markdown",
   "metadata": {},
   "source": [
    "## 圖像判斷法\n",
    "如果我們要用最簡單的方式來估計我們持有股票的風險度的話，應該就是去估計股票的波動程度了，而我們可以選擇用標準差這個最常見的方式來測量波動程度。但是問題是，如果昨天的股票的統計性質與明天的股票的統計性質相差很大的話，我們就很難相信我們用過去股價估計出來的波動程度可以有效的衡量明天股價的波動程度，也就是說，我們希望我們前後天的股價是獨立且有相似的分配的，我們這邊可以用很簡單的圖像方式來呈現前後天股價的關係。"
   ]
  },
  {
   "cell_type": "code",
   "execution_count": 24,
   "metadata": {},
   "outputs": [
    {
     "data": {
      "image/png": "[encoded data removed]",
      "text/plain": [
       "<Figure size 432x288 with 1 Axes>"
      ]
     },
     "metadata": {},
     "output_type": "display_data"
    },
    {
     "data": {
      "text/plain": [
       "([array([ 3.,  8., 23., 27., 12., 38., 27., 14.,  9.,  2.]),\n",
       "  array([ 3., 17., 31., 28., 33., 16., 11., 11., 22., 14.])],\n",
       " array([208. , 214.1, 220.2, 226.3, 232.4, 238.5, 244.6, 250.7, 256.8,\n",
       "        262.9, 269. ]),\n",
       " <a list of 2 Lists of Patches objects>)"
      ]
     },
     "execution_count": 24,
     "metadata": {},
     "output_type": "execute_result"
    },
    {
     "data": {
      "image/png": "[encoded data removed]",
      "text/plain": [
       "<Figure size 432x288 with 1 Axes>"
      ]
     },
     "metadata": {},
     "output_type": "display_data"
    }
   ],
   "source": [
    "#用TSMC做例子\n",
    "df = stocks_dict['tsmc'].copy()\n",
    "df_p = df['2018-01-01':].iloc[:-1,:]\n",
    "df_a = df['2018-01-01':].iloc[1:,:]\n",
    "plt.scatter(np.array(df_p['close']),np.array(df_a['close']))\n",
    "plt.show()\n",
    "plt.hist([np.array(df['2018-01-01':'2018-09-01']['close']),np.array(df['2018-09-01':]['close'])])"
   ]
  },
  {
   "cell_type": "markdown",
   "metadata": {},
   "source": [
    "可以發現，前一期的股價與一期的股價並非沒有關係，可以看到兩者之間有正向關係。讓我們想想辦法，我們不直接計算股價，而是計算兩個不同的報酬率\n",
    "- 線性報酬率:\n",
    "$$ r^{L}_t = \\frac{P_t}{P_{t-1}} - 1$$\n",
    "- 連續報酬率:\n",
    "$$r^{c}_t = ln(\\frac{P_t}{P_{t-1}})$$\n",
    "我們來計算線性報酬率吧"
   ]
  },
  {
   "cell_type": "code",
   "execution_count": 25,
   "metadata": {},
   "outputs": [
    {
     "data": {
      "text/html": [
       "<div>\n",
       "<style scoped>\n",
       "    .dataframe tbody tr th:only-of-type {\n",
       "        vertical-align: middle;\n",
       "    }\n",
       "\n",
       "    .dataframe tbody tr th {\n",
       "        vertical-align: top;\n",
       "    }\n",
       "\n",
       "    .dataframe thead th {\n",
       "        text-align: right;\n",
       "    }\n",
       "</style>\n",
       "<table border=\"1\" class=\"dataframe\">\n",
       "  <thead>\n",
       "    <tr style=\"text-align: right;\">\n",
       "      <th></th>\n",
       "      <th>stock_code</th>\n",
       "      <th>close</th>\n",
       "    </tr>\n",
       "    <tr>\n",
       "      <th>Date</th>\n",
       "      <th></th>\n",
       "      <th></th>\n",
       "    </tr>\n",
       "  </thead>\n",
       "  <tbody>\n",
       "    <tr>\n",
       "      <th>2018-01-02</th>\n",
       "      <td>台積電</td>\n",
       "      <td>232.5</td>\n",
       "    </tr>\n",
       "    <tr>\n",
       "      <th>2018-01-03</th>\n",
       "      <td>台積電</td>\n",
       "      <td>237.0</td>\n",
       "    </tr>\n",
       "    <tr>\n",
       "      <th>2018-01-04</th>\n",
       "      <td>台積電</td>\n",
       "      <td>239.5</td>\n",
       "    </tr>\n",
       "    <tr>\n",
       "      <th>2018-01-05</th>\n",
       "      <td>台積電</td>\n",
       "      <td>240.0</td>\n",
       "    </tr>\n",
       "    <tr>\n",
       "      <th>2018-01-08</th>\n",
       "      <td>台積電</td>\n",
       "      <td>242.0</td>\n",
       "    </tr>\n",
       "  </tbody>\n",
       "</table>\n",
       "</div>"
      ],
      "text/plain": [
       "           stock_code  close\n",
       "Date                        \n",
       "2018-01-02        台積電  232.5\n",
       "2018-01-03        台積電  237.0\n",
       "2018-01-04        台積電  239.5\n",
       "2018-01-05        台積電  240.0\n",
       "2018-01-08        台積電  242.0"
      ]
     },
     "execution_count": 25,
     "metadata": {},
     "output_type": "execute_result"
    }
   ],
   "source": [
    "df = df['2018-01-01':]\n",
    "df.head()"
   ]
  },
  {
   "cell_type": "code",
   "execution_count": 26,
   "metadata": {},
   "outputs": [],
   "source": [
    "df['linear return rate'] = df['close'].pct_change()"
   ]
  },
  {
   "cell_type": "code",
   "execution_count": 27,
   "metadata": {},
   "outputs": [
    {
     "data": {
      "text/html": [
       "<div>\n",
       "<style scoped>\n",
       "    .dataframe tbody tr th:only-of-type {\n",
       "        vertical-align: middle;\n",
       "    }\n",
       "\n",
       "    .dataframe tbody tr th {\n",
       "        vertical-align: top;\n",
       "    }\n",
       "\n",
       "    .dataframe thead th {\n",
       "        text-align: right;\n",
       "    }\n",
       "</style>\n",
       "<table border=\"1\" class=\"dataframe\">\n",
       "  <thead>\n",
       "    <tr style=\"text-align: right;\">\n",
       "      <th></th>\n",
       "      <th>stock_code</th>\n",
       "      <th>close</th>\n",
       "      <th>linear return rate</th>\n",
       "    </tr>\n",
       "    <tr>\n",
       "      <th>Date</th>\n",
       "      <th></th>\n",
       "      <th></th>\n",
       "      <th></th>\n",
       "    </tr>\n",
       "  </thead>\n",
       "  <tbody>\n",
       "    <tr>\n",
       "      <th>2018-01-02</th>\n",
       "      <td>台積電</td>\n",
       "      <td>232.5</td>\n",
       "      <td>NaN</td>\n",
       "    </tr>\n",
       "    <tr>\n",
       "      <th>2018-01-03</th>\n",
       "      <td>台積電</td>\n",
       "      <td>237.0</td>\n",
       "      <td>0.019355</td>\n",
       "    </tr>\n",
       "    <tr>\n",
       "      <th>2018-01-04</th>\n",
       "      <td>台積電</td>\n",
       "      <td>239.5</td>\n",
       "      <td>0.010549</td>\n",
       "    </tr>\n",
       "    <tr>\n",
       "      <th>2018-01-05</th>\n",
       "      <td>台積電</td>\n",
       "      <td>240.0</td>\n",
       "      <td>0.002088</td>\n",
       "    </tr>\n",
       "    <tr>\n",
       "      <th>2018-01-08</th>\n",
       "      <td>台積電</td>\n",
       "      <td>242.0</td>\n",
       "      <td>0.008333</td>\n",
       "    </tr>\n",
       "  </tbody>\n",
       "</table>\n",
       "</div>"
      ],
      "text/plain": [
       "           stock_code  close  linear return rate\n",
       "Date                                            \n",
       "2018-01-02        台積電  232.5                 NaN\n",
       "2018-01-03        台積電  237.0            0.019355\n",
       "2018-01-04        台積電  239.5            0.010549\n",
       "2018-01-05        台積電  240.0            0.002088\n",
       "2018-01-08        台積電  242.0            0.008333"
      ]
     },
     "execution_count": 27,
     "metadata": {},
     "output_type": "execute_result"
    }
   ],
   "source": [
    "df.head()"
   ]
  },
  {
   "cell_type": "code",
   "execution_count": 28,
   "metadata": {},
   "outputs": [
    {
     "data": {
      "image/png": "[encoded data removed]",
      "text/plain": [
       "<Figure size 432x288 with 1 Axes>"
      ]
     },
     "metadata": {},
     "output_type": "display_data"
    }
   ],
   "source": [
    "df_lrp = df.iloc[:-1,:]\n",
    "df_lra = df.iloc[1:,:]\n",
    "plt.scatter(np.array(df_lrp['linear return rate']),np.array(df_lra['linear return rate']))\n",
    "plt.show()"
   ]
  },
  {
   "cell_type": "markdown",
   "metadata": {},
   "source": [
    "可以發現，當我們做報酬率的轉換後，其前後期關係更接近於獨立關係，我們可以更有信心估計報酬率波動程度。而當前後期股價接近時，根據泰勒展開式，我們支到線性報酬率與連續報酬率的值近似。所以我們可以用以下的統計模型\n",
    "$$ ln(\\frac{P_t}{P_{t-1}})  \\sim  N(\\mu, \\sigma^2) $$\n",
    "則我們可以利用一些常見的方法(e.g. MLE)去估計參數，進而得到我們對於報酬的分配估計，而在這種情況下我們就可以評估我們的風險水準了！！"
   ]
  }
 ],
 "metadata": {
  "kernelspec": {
   "display_name": "Python 3",
   "language": "python",
   "name": "python3"
  },
  "language_info": {
   "codemirror_mode": {
    "name": "ipython",
    "version": 3
   },
   "file_extension": ".py",
   "mimetype": "text/x-python",
   "name": "python",
   "nbconvert_exporter": "python",
   "pygments_lexer": "ipython3",
   "version": "3.6.4"
  }
 },
 "nbformat": 4,
 "nbformat_minor": 2
}
