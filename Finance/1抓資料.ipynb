{
 "cells": [
  {
   "cell_type": "markdown",
   "metadata": {},
   "source": [
    "# 第一部份:取得台股日線資料\n",
    "我們這邊介紹二個方式取得台股的日線資料，一個是到台灣證券交易所抓取資料，我們也可以利用已經寫好的套件庫去抓取。\n",
    "- [臺灣證券交易所](http://www.twse.com.tw/zh/)\n",
    "- [twstock套件](https://github.com/mlouielu/twstock)"
   ]
  },
  {
   "cell_type": "code",
   "execution_count": 83,
   "metadata": {},
   "outputs": [],
   "source": [
    "import requests\n",
    "import pandas as pd\n",
    "import io\n",
    "import re\n",
    "import time\n",
    "import datetime"
   ]
  },
  {
   "cell_type": "code",
   "execution_count": 80,
   "metadata": {},
   "outputs": [],
   "source": [
    "def crawler(date_time):\n",
    "    page_url = 'http://www.twse.com.tw/exchangeReport/MI_INDEX?response=csv&date=' + date_time +'&type=ALLBUT0999'\n",
    "    page = requests.get(page_url)\n",
    "    use_text = page.text.splitlines()\n",
    "    for i,text in enumerate(use_text):\n",
    "        if text == '\"證券代號\",\"證券名稱\",\"成交股數\",\"成交筆數\",\"成交金額\",\"開盤價\",\"最高價\",\"最低價\",\"收盤價\",\"漲跌(+/-)\",\"漲跌價差\",\"最後揭示買價\",\"最後揭示買量\",\"最後揭示賣價\",\"最後揭示賣量\",\"本益比\",':\n",
    "            initial_point = i\n",
    "            break\n",
    "    test_df = pd.read_csv(io.StringIO(''.join([text[:-1] + '\\n' for text in use_text[initial_point:]])))\n",
    "    test_df['證券代號'] = test_df['證券代號'].apply(lambda x:x.replace('\"',''))\n",
    "    test_df['證券代號'] = test_df['證券代號'].apply(lambda x: x.replace('=',''))\n",
    "    return test_df"
   ]
  },
  {
   "cell_type": "code",
   "execution_count": 123,
   "metadata": {},
   "outputs": [],
   "source": [
    "#抓好幾天\n",
    "def trans_date(date_time):\n",
    "    return ''.join(str(date_time).split(' ')[0].split('-'))\n",
    "\n",
    "def parse_n_days(start_date,n):\n",
    "    df_dict = {}\n",
    "    now_date = start_date\n",
    "    for i in range(n):\n",
    "        time.sleep(5)\n",
    "        now_date = now_date - datetime.timedelta(days=1)\n",
    "        try:\n",
    "            df = crawler(trans_date(now_date))\n",
    "            print(\"Current date\" + trans_date(now_date))\n",
    "            df_dict.update({trans_date(now_date):df})\n",
    "            print('Successful!!')\n",
    "        except:\n",
    "            print('Fails at' + str(now_date))\n",
    "    return df_dict"
   ]
  },
  {
   "cell_type": "markdown",
   "metadata": {},
   "source": [
    "## twstock套件"
   ]
  },
  {
   "cell_type": "code",
   "execution_count": 125,
   "metadata": {},
   "outputs": [],
   "source": [
    "from twstock import Stock\n",
    "\n",
    "stock = Stock('2330')"
   ]
  },
  {
   "cell_type": "code",
   "execution_count": 126,
   "metadata": {},
   "outputs": [
    {
     "data": {
      "text/plain": [
       "twstock.stock.Stock"
      ]
     },
     "execution_count": 126,
     "metadata": {},
     "output_type": "execute_result"
    }
   ],
   "source": [
    "type(stock)"
   ]
  },
  {
   "cell_type": "code",
   "execution_count": 129,
   "metadata": {},
   "outputs": [],
   "source": [
    "stock_price = stock.fetch_31()"
   ]
  },
  {
   "cell_type": "markdown",
   "metadata": {},
   "source": [
    "# 第二部份:練習用的高頻資料\n",
    "FXCM的模擬帳戶提供高頻資料的api獲取\n",
    "- Step1:[開啟免費模擬帳戶](https://www.fxcm.com/uk/forex-trading-demo/) \n",
    "- Step2:創造 API Token"
   ]
  },
  {
   "cell_type": "code",
   "execution_count": 165,
   "metadata": {},
   "outputs": [],
   "source": [
    "import fxcmpy\n",
    "api = fxcmpy.fxcmpy(access_token=API_key, server='demo')"
   ]
  },
  {
   "cell_type": "code",
   "execution_count": 166,
   "metadata": {},
   "outputs": [],
   "source": [
    "from fxcmpy import fxcmpy_tick_data_reader as tdr"
   ]
  },
  {
   "cell_type": "code",
   "execution_count": 167,
   "metadata": {},
   "outputs": [
    {
     "name": "stdout",
     "output_type": "stream",
     "text": [
      "('AUDCAD', 'AUDCHF', 'AUDJPY', 'AUDNZD', 'CADCHF', 'EURAUD', 'EURCHF', 'EURGBP', 'EURJPY', 'EURUSD', 'GBPCHF', 'GBPJPY', 'GBPNZD', 'GBPUSD', 'GBPCHF', 'GBPJPY', 'GBPNZD', 'NZDCAD', 'NZDCHF', 'NZDJPY', 'NZDUSD', 'USDCAD', 'USDCHF', 'USDJPY')\n"
     ]
    }
   ],
   "source": [
    "print(tdr.get_available_symbols())"
   ]
  },
  {
   "cell_type": "code",
   "execution_count": 170,
   "metadata": {},
   "outputs": [],
   "source": [
    "start = datetime.datetime(2018, 2, 1)\n",
    "end = datetime.datetime(2018, 2, 15)"
   ]
  },
  {
   "cell_type": "code",
   "execution_count": 171,
   "metadata": {},
   "outputs": [
    {
     "name": "stdout",
     "output_type": "stream",
     "text": [
      "Fetching data from: https://tickdata.fxcorporate.com/EURUSD/2018/5.csv.gz\n",
      "Fetching data from: https://tickdata.fxcorporate.com/EURUSD/2018/6.csv.gz\n",
      "Fetching data from: https://tickdata.fxcorporate.com/EURUSD/2018/7.csv.gz\n"
     ]
    }
   ],
   "source": [
    "dr = tdr('EURUSD', start, end, verbosity=True)"
   ]
  },
  {
   "cell_type": "code",
   "execution_count": 172,
   "metadata": {},
   "outputs": [
    {
     "name": "stdout",
     "output_type": "stream",
     "text": [
      "<class 'pandas.core.frame.DataFrame'>\n",
      "Index: 5643477 entries, 01/28/2018 22:00:46.425 to 02/16/2018 21:59:08.423\n",
      "Data columns (total 2 columns):\n",
      "Bid    float64\n",
      "Ask    float64\n",
      "dtypes: float64(2)\n",
      "memory usage: 129.2+ MB\n"
     ]
    }
   ],
   "source": [
    "dr.get_raw_data().info()"
   ]
  },
  {
   "cell_type": "code",
   "execution_count": 174,
   "metadata": {},
   "outputs": [
    {
     "name": "stdout",
     "output_type": "stream",
     "text": [
      "<class 'pandas.core.frame.DataFrame'>\n",
      "DatetimeIndex: 5643477 entries, 2018-01-28 22:00:46.425000 to 2018-02-16 21:59:08.423000\n",
      "Data columns (total 2 columns):\n",
      "Bid    float64\n",
      "Ask    float64\n",
      "dtypes: float64(2)\n",
      "memory usage: 129.2 MB\n"
     ]
    }
   ],
   "source": [
    "dr.get_data().info()"
   ]
  },
  {
   "cell_type": "code",
   "execution_count": 175,
   "metadata": {},
   "outputs": [
    {
     "data": {
      "text/html": [
       "<div>\n",
       "<style scoped>\n",
       "    .dataframe tbody tr th:only-of-type {\n",
       "        vertical-align: middle;\n",
       "    }\n",
       "\n",
       "    .dataframe tbody tr th {\n",
       "        vertical-align: top;\n",
       "    }\n",
       "\n",
       "    .dataframe thead th {\n",
       "        text-align: right;\n",
       "    }\n",
       "</style>\n",
       "<table border=\"1\" class=\"dataframe\">\n",
       "  <thead>\n",
       "    <tr style=\"text-align: right;\">\n",
       "      <th></th>\n",
       "      <th>Bid</th>\n",
       "      <th>Ask</th>\n",
       "    </tr>\n",
       "  </thead>\n",
       "  <tbody>\n",
       "    <tr>\n",
       "      <th>2018-01-28 22:00:46.425</th>\n",
       "      <td>1.24239</td>\n",
       "      <td>1.24282</td>\n",
       "    </tr>\n",
       "    <tr>\n",
       "      <th>2018-01-28 22:00:46.438</th>\n",
       "      <td>1.24236</td>\n",
       "      <td>1.24282</td>\n",
       "    </tr>\n",
       "    <tr>\n",
       "      <th>2018-01-28 22:00:59.117</th>\n",
       "      <td>1.24236</td>\n",
       "      <td>1.24267</td>\n",
       "    </tr>\n",
       "    <tr>\n",
       "      <th>2018-01-28 22:00:59.134</th>\n",
       "      <td>1.24229</td>\n",
       "      <td>1.24267</td>\n",
       "    </tr>\n",
       "    <tr>\n",
       "      <th>2018-01-28 22:01:25.668</th>\n",
       "      <td>1.24228</td>\n",
       "      <td>1.24266</td>\n",
       "    </tr>\n",
       "  </tbody>\n",
       "</table>\n",
       "</div>"
      ],
      "text/plain": [
       "                             Bid      Ask\n",
       "2018-01-28 22:00:46.425  1.24239  1.24282\n",
       "2018-01-28 22:00:46.438  1.24236  1.24282\n",
       "2018-01-28 22:00:59.117  1.24236  1.24267\n",
       "2018-01-28 22:00:59.134  1.24229  1.24267\n",
       "2018-01-28 22:01:25.668  1.24228  1.24266"
      ]
     },
     "execution_count": 175,
     "metadata": {},
     "output_type": "execute_result"
    }
   ],
   "source": [
    "dr.get_data().head()"
   ]
  },
  {
   "cell_type": "code",
   "execution_count": null,
   "metadata": {},
   "outputs": [],
   "source": []
  }
 ],
 "metadata": {
  "kernelspec": {
   "display_name": "Python 3",
   "language": "python",
   "name": "python3"
  },
  "language_info": {
   "codemirror_mode": {
    "name": "ipython",
    "version": 3
   },
   "file_extension": ".py",
   "mimetype": "text/x-python",
   "name": "python",
   "nbconvert_exporter": "python",
   "pygments_lexer": "ipython3",
   "version": "3.6.4"
  }
 },
 "nbformat": 4,
 "nbformat_minor": 2
}
