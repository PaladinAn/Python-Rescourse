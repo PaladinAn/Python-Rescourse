{
 "cells": [
  {
   "cell_type": "code",
   "execution_count": null,
   "id": "7abbfb69",
   "metadata": {},
   "outputs": [],
   "source": [
    "import request\n",
    "\n",
    "# get 資料來源網址，回傳值存入req\n",
    "req = request.get(\"https://rate.bot.com.tw/xrt?Lang=zh-TW\")\n",
    "print(req.text)"
   ]
  }
 ],
 "metadata": {
  "kernelspec": {
   "display_name": "Python 3",
   "language": "python",
   "name": "python3"
  },
  "language_info": {
   "codemirror_mode": {
    "name": "ipython",
    "version": 3
   },
   "file_extension": ".py",
   "mimetype": "text/x-python",
   "name": "python",
   "nbconvert_exporter": "python",
   "pygments_lexer": "ipython3",
   "version": "3.8.8"
  }
 },
 "nbformat": 4,
 "nbformat_minor": 5
}
